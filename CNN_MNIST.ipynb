{
 "cells": [
  {
   "cell_type": "code",
   "execution_count": 0,
   "metadata": {
    "colab": {
     "base_uri": "https://localhost:8080/",
     "height": 1004
    },
    "colab_type": "code",
    "id": "fHmdX8E1Iddh",
    "outputId": "75954d3c-35e5-4c84-f239-d927e1daa093"
   },
   "outputs": [
    {
     "name": "stderr",
     "output_type": "stream",
     "text": [
      "Using TensorFlow backend.\n"
     ]
    },
    {
     "name": "stdout",
     "output_type": "stream",
     "text": [
      "Downloading data from https://s3.amazonaws.com/img-datasets/mnist.npz\n",
      "11493376/11490434 [==============================] - 1s 0us/step\n",
      "x_train shape: (60000, 28, 28, 1)\n",
      "60000 train samples\n",
      "10000 test samples\n",
      "WARNING:tensorflow:From /usr/local/lib/python3.6/dist-packages/tensorflow/python/framework/op_def_library.py:263: colocate_with (from tensorflow.python.framework.ops) is deprecated and will be removed in a future version.\n",
      "Instructions for updating:\n",
      "Colocations handled automatically by placer.\n",
      "WARNING:tensorflow:From /usr/local/lib/python3.6/dist-packages/keras/backend/tensorflow_backend.py:3445: calling dropout (from tensorflow.python.ops.nn_ops) with keep_prob is deprecated and will be removed in a future version.\n",
      "Instructions for updating:\n",
      "Please use `rate` instead of `keep_prob`. Rate should be set to `rate = 1 - keep_prob`.\n",
      "WARNING:tensorflow:From /usr/local/lib/python3.6/dist-packages/tensorflow/python/ops/math_ops.py:3066: to_int32 (from tensorflow.python.ops.math_ops) is deprecated and will be removed in a future version.\n",
      "Instructions for updating:\n",
      "Use tf.cast instead.\n",
      "Train on 60000 samples, validate on 10000 samples\n",
      "Epoch 1/12\n",
      "60000/60000 [==============================] - 831s 14ms/step - loss: 0.2799 - acc: 0.9109 - val_loss: 0.0502 - val_acc: 0.9833\n",
      "Epoch 2/12\n",
      "60000/60000 [==============================] - 893s 15ms/step - loss: 0.0901 - acc: 0.9725 - val_loss: 0.0366 - val_acc: 0.9886\n",
      "Epoch 3/12\n",
      "60000/60000 [==============================] - 895s 15ms/step - loss: 0.0695 - acc: 0.9790 - val_loss: 0.0277 - val_acc: 0.9915\n",
      "Epoch 4/12\n",
      "60000/60000 [==============================] - 891s 15ms/step - loss: 0.0584 - acc: 0.9826 - val_loss: 0.0254 - val_acc: 0.9918\n",
      "Epoch 5/12\n",
      "60000/60000 [==============================] - 889s 15ms/step - loss: 0.0507 - acc: 0.9850 - val_loss: 0.0250 - val_acc: 0.9923\n",
      "Epoch 6/12\n",
      "60000/60000 [==============================] - 891s 15ms/step - loss: 0.0458 - acc: 0.9861 - val_loss: 0.0216 - val_acc: 0.9932\n",
      "Epoch 7/12\n",
      "60000/60000 [==============================] - 890s 15ms/step - loss: 0.0423 - acc: 0.9869 - val_loss: 0.0209 - val_acc: 0.9938\n",
      "Epoch 8/12\n",
      "60000/60000 [==============================] - 889s 15ms/step - loss: 0.0390 - acc: 0.9879 - val_loss: 0.0196 - val_acc: 0.9938\n",
      "Epoch 9/12\n",
      "60000/60000 [==============================] - 894s 15ms/step - loss: 0.0340 - acc: 0.9896 - val_loss: 0.0240 - val_acc: 0.9923\n",
      "Epoch 10/12\n",
      "60000/60000 [==============================] - 892s 15ms/step - loss: 0.0340 - acc: 0.9898 - val_loss: 0.0207 - val_acc: 0.9930\n",
      "Epoch 11/12\n",
      "60000/60000 [==============================] - 611s 10ms/step - loss: 0.0306 - acc: 0.9905 - val_loss: 0.0227 - val_acc: 0.9924\n",
      "Epoch 12/12\n",
      "60000/60000 [==============================] - 587s 10ms/step - loss: 0.0302 - acc: 0.9904 - val_loss: 0.0201 - val_acc: 0.9940\n",
      "Test loss: 0.02009772768376224\n",
      "Test accuracy: 0.994\n"
     ]
    }
   ],
   "source": [
    "# Credits: https://github.com/keras-team/keras/blob/master/examples/mnist_cnn.py\n",
    "\n",
    "\n",
    "from __future__ import print_function\n",
    "import keras\n",
    "from keras.datasets import mnist\n",
    "from keras.models import Sequential\n",
    "from keras.layers import Dense, Dropout, Flatten\n",
    "from keras.layers import Conv2D, MaxPooling2D\n",
    "from keras import backend as K\n",
    "\n",
    "batch_size = 128\n",
    "num_classes = 10\n",
    "epochs = 12\n",
    "\n",
    "# input image dimensions\n",
    "img_rows, img_cols = 28, 28\n",
    "\n",
    "# the data, split between train and test sets\n",
    "(x_train, y_train), (x_test, y_test) = mnist.load_data()\n",
    "\n",
    "if K.image_data_format() == 'channels_first':\n",
    "    x_train = x_train.reshape(x_train.shape[0], 1, img_rows, img_cols)\n",
    "    x_test = x_test.reshape(x_test.shape[0], 1, img_rows, img_cols)\n",
    "    input_shape = (1, img_rows, img_cols)\n",
    "else:\n",
    "    x_train = x_train.reshape(x_train.shape[0], img_rows, img_cols, 1)\n",
    "    x_test = x_test.reshape(x_test.shape[0], img_rows, img_cols, 1)\n",
    "    input_shape = (img_rows, img_cols, 1)\n",
    "\n",
    "x_train = x_train.astype('float32')\n",
    "x_test = x_test.astype('float32')\n",
    "x_train /= 255\n",
    "x_test /= 255\n",
    "print('x_train shape:', x_train.shape)\n",
    "print(x_train.shape[0], 'train samples')\n",
    "print(x_test.shape[0], 'test samples')\n",
    "\n",
    "# convert class vectors to binary class matrices\n",
    "y_train = keras.utils.to_categorical(y_train, num_classes)\n",
    "y_test = keras.utils.to_categorical(y_test, num_classes)\n",
    "\n",
    "model = Sequential()\n",
    "model.add(Conv2D(32, kernel_size=(7, 7),\n",
    "                 activation='relu',\n",
    "                 input_shape=input_shape))\n",
    "model.add(Conv2D(64, (7, 7), activation='relu'))\n",
    "model.add(MaxPooling2D(pool_size=(5, 5)))\n",
    "model.add(Dropout(0.35))\n",
    "model.add(Flatten())\n",
    "model.add(Dense(128, activation='relu'))\n",
    "model.add(Dropout(0.35))\n",
    "model.add(Dense(num_classes, activation='softmax'))\n",
    "\n",
    "model.compile(loss=keras.losses.categorical_crossentropy,\n",
    "              optimizer=keras.optimizers.Adadelta(),\n",
    "              metrics=['accuracy'])\n",
    "\n",
    "history = model.fit(x_train, y_train,\n",
    "          batch_size=batch_size,\n",
    "          epochs=epochs,\n",
    "          verbose=1,\n",
    "          validation_data=(x_test, y_test))\n",
    "score = model.evaluate(x_test, y_test, verbose=0)\n",
    "print('Test loss:', score[0])\n",
    "print('Test accuracy:', score[1])"
   ]
  },
  {
   "cell_type": "code",
   "execution_count": 0,
   "metadata": {
    "colab": {
     "base_uri": "https://localhost:8080/",
     "height": 589
    },
    "colab_type": "code",
    "id": "ThHf4xGakDR8",
    "outputId": "f88c98bc-cfa8-4031-d1bf-bc0be868e4ba"
   },
   "outputs": [
    {
     "name": "stdout",
     "output_type": "stream",
     "text": [
      "dict_keys(['val_loss', 'val_acc', 'loss', 'acc'])\n"
     ]
    },
    {
     "data": {
      "image/png": "[encoded data removed]",
      "text/plain": [
       "<Figure size 432x288 with 1 Axes>"
      ]
     },
     "metadata": {
      "tags": []
     },
     "output_type": "display_data"
    },
    {
     "data": {
      "image/png": "[encoded data removed]",
      "text/plain": [
       "<Figure size 432x288 with 1 Axes>"
      ]
     },
     "metadata": {
      "tags": []
     },
     "output_type": "display_data"
    }
   ],
   "source": [
    "%matplotlib inline\n",
    "import matplotlib.pyplot as plt\n",
    "print(history.history.keys())\n",
    "# summarize history for accuracy\n",
    "plt.plot(history.history['acc'])\n",
    "plt.plot(history.history['val_acc'])\n",
    "plt.title('model accuracy')\n",
    "plt.ylabel('accuracy')\n",
    "plt.xlabel('epoch')\n",
    "plt.legend(['train', 'test'], loc='upper left')\n",
    "plt.show()\n",
    "# summarize history for loss\n",
    "plt.plot(history.history['loss'])\n",
    "plt.plot(history.history['val_loss'])\n",
    "plt.title('model loss')\n",
    "plt.ylabel('loss')\n",
    "plt.xlabel('epoch')\n",
    "plt.legend(['train', 'test'], loc='upper left')\n",
    "plt.show()"
   ]
  },
  {
   "cell_type": "markdown",
   "metadata": {},
   "source": [
    "# Conclusion Table "
   ]
  },
  {
   "cell_type": "code",
   "execution_count": 1,
   "metadata": {},
   "outputs": [
    {
     "name": "stdout",
     "output_type": "stream",
     "text": [
      "+--------+---------------------------+---------------+---------+----------+\n",
      "|  Set   |           Model           | Architectures | Val_Acc | Val_Loss |\n",
      "+--------+---------------------------+---------------+---------+----------+\n",
      "| Set:-1 | Convolutional Neural Nets |    MNIST_1    |   0.02  |  0.9934  |\n",
      "| Set:-1 | Convolutional Neural Nets |    MNIST_2    |  0.0215 |  0.9929  |\n",
      "| Set:-1 | Convolutional Neural Nets |    MNIST_3    |  0.0201 |  0.994   |\n",
      "+--------+---------------------------+---------------+---------+----------+\n"
     ]
    }
   ],
   "source": [
    "from prettytable import PrettyTable\n",
    "x = PrettyTable()\n",
    "x.field_names = [\"Set\", \"Model\", \"Architectures\", \"Val_Acc\", \"Val_Loss\"]\n",
    "\n",
    "x.add_row([\"Set:-1\", \"Convolutional Neural Nets\", \"MNIST_1\", 0.0200, 0.9934])\n",
    "x.add_row([\"Set:-1\", \"Convolutional Neural Nets\", \"MNIST_2\", 0.0215, 0.9929])\n",
    "x.add_row([\"Set:-1\", \"Convolutional Neural Nets\", \"MNIST_3\", 0.0201, 0.9940])\n",
    "print(x)"
   ]
  },
  {
   "cell_type": "markdown",
   "metadata": {},
   "source": [
    "# Conclusion :-"
   ]
  },
  {
   "cell_type": "markdown",
   "metadata": {},
   "source": [
    "1. First declared all batch size , epchos, ClasseNumbers and then loaded MNIST dataset.\n",
    "2. Then sampled MNIST dataset and splited into train and test data.\n",
    "3. Then converted Class vector into binary class matrics and applied CNN metthon in it and with model _3 used cnnvet= (7,7)\n",
    "4. Then applied dropout rate= (0.35) and Maxpooling= (5,5) in it and changne their values with architechtures .\n",
    "5. Then plot Moldel acc and Model loss in it '"
   ]
  },
  {
   "cell_type": "markdown",
   "metadata": {},
   "source": [
    "<h2>=======================================================================</h2>"
   ]
  }
 ],
 "metadata": {
  "colab": {
   "name": "A_13_CNN_MNIST_3.ipynb",
   "provenance": [],
   "version": "0.3.2"
  },
  "kernelspec": {
   "display_name": "Python 3",
   "language": "python",
   "name": "python3"
  },
  "language_info": {
   "codemirror_mode": {
    "name": "ipython",
    "version": 3
   },
   "file_extension": ".py",
   "mimetype": "text/x-python",
   "name": "python",
   "nbconvert_exporter": "python",
   "pygments_lexer": "ipython3",
   "version": "3.6.5"
  }
 },
 "nbformat": 4,
 "nbformat_minor": 1
}
