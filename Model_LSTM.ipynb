{
 "cells": [
  {
   "cell_type": "code",
   "execution_count": 3,
   "metadata": {},
   "outputs": [
    {
     "name": "stderr",
     "output_type": "stream",
     "text": [
      "C:\\Users\\hp\\Anaconda3\\lib\\site-packages\\gensim\\utils.py:1212: UserWarning: detected Windows; aliasing chunkize to chunkize_serial\n",
      "  warnings.warn(\"detected Windows; aliasing chunkize to chunkize_serial\")\n"
     ]
    }
   ],
   "source": [
    "import numpy as np\n",
    "import pandas as pd\n",
    "import matplotlib.pyplot as plt\n",
    "%matplotlib inline\n",
    "import warnings\n",
    "warnings.filterwarnings(\"ignore\")\n",
    "import sqlite3\n",
    "import nltk\n",
    "import string\n",
    "import seaborn\n",
    "import re\n",
    "import string as sns  # Tutorial about Python regular expressions: https://pymotw.com/2/re/\n",
    "import pickle\n",
    "import os\n",
    "import numpy as np\n",
    "import matplotlib.pyplot as plt\n",
    "from itertools import cycle\n",
    "from sklearn import svm, datasets\n",
    "from sklearn.metrics import roc_curve, auc\n",
    "from sklearn.model_selection import train_test_split\n",
    "from sklearn.preprocessing import label_binarize\n",
    "from sklearn.multiclass import OneVsRestClassifier\n",
    "from scipy import interp\n",
    "from sklearn.neighbors import KNeighborsClassifier\n",
    "from sklearn.metrics import accuracy_score\n",
    "from sklearn.metrics import confusion_matrix\n",
    "from collections import Counter \n",
    "from sklearn.metrics import accuracy_score\n",
    "from sklearn.naive_bayes import MultinomialNB\n",
    "from sklearn.naive_bayes import MultinomialNB\n",
    "from bs4 import BeautifulSoup\n",
    "from sklearn.model_selection import train_test_split\n",
    "from sklearn.neighbors import KNeighborsClassifier\n",
    "from sklearn.metrics import accuracy_score\n",
    "from sklearn.model_selection import cross_val_score\n",
    "from collections import Counter \n",
    "from sklearn.metrics import accuracy_score\n",
    "from sklearn import model_selection\n",
    "from sklearn.feature_extraction.text import TfidfTransformer\n",
    "from sklearn.feature_extraction.text import TfidfVectorizer\n",
    "from sklearn.feature_extraction.text import CountVectorizer\n",
    "from sklearn.metrics import confusion_matrix\n",
    "from sklearn import metrics\n",
    "from sklearn.metrics import roc_curve, auc\n",
    "from nltk.stem.porter import PorterStemmer\n",
    "from nltk.corpus import stopwords\n",
    "from nltk.stem import PorterStemmer\n",
    "from nltk.stem.wordnet import WordNetLemmatizer\n",
    "from gensim.models import Word2Vec\n",
    "from gensim.models import KeyedVectors\n",
    "from tqdm import tqdm\n",
    "\n"
   ]
  },
  {
   "cell_type": "code",
   "execution_count": 4,
   "metadata": {},
   "outputs": [
    {
     "data": {
      "text/plain": [
       "(10000, 10)"
      ]
     },
     "execution_count": 4,
     "metadata": {},
     "output_type": "execute_result"
    }
   ],
   "source": [
    "lstm_ar = pd.read_csv('Reviews.csv', nrows = 10000)\n",
    "lstm_ar.shape"
   ]
  },
  {
   "cell_type": "code",
   "execution_count": 5,
   "metadata": {
    "colab": {
     "base_uri": "https://localhost:8080/",
     "height": 323
    },
    "colab_type": "code",
    "id": "lBEJPjXWScQz",
    "outputId": "28e5678d-18d5-469b-ddb5-c32831fc671b",
    "scrolled": true
   },
   "outputs": [
    {
     "data": {
      "text/html": [
       "<div>\n",
       "<style scoped>\n",
       "    .dataframe tbody tr th:only-of-type {\n",
       "        vertical-align: middle;\n",
       "    }\n",
       "\n",
       "    .dataframe tbody tr th {\n",
       "        vertical-align: top;\n",
       "    }\n",
       "\n",
       "    .dataframe thead th {\n",
       "        text-align: right;\n",
       "    }\n",
       "</style>\n",
       "<table border=\"1\" class=\"dataframe\">\n",
       "  <thead>\n",
       "    <tr style=\"text-align: right;\">\n",
       "      <th></th>\n",
       "      <th>Id</th>\n",
       "      <th>ProductId</th>\n",
       "      <th>UserId</th>\n",
       "      <th>ProfileName</th>\n",
       "      <th>HelpfulnessNumerator</th>\n",
       "      <th>HelpfulnessDenominator</th>\n",
       "      <th>Score</th>\n",
       "      <th>Time</th>\n",
       "      <th>Summary</th>\n",
       "      <th>Text</th>\n",
       "    </tr>\n",
       "  </thead>\n",
       "  <tbody>\n",
       "    <tr>\n",
       "      <th>0</th>\n",
       "      <td>1</td>\n",
       "      <td>B001E4KFG0</td>\n",
       "      <td>A3SGXH7AUHU8GW</td>\n",
       "      <td>delmartian</td>\n",
       "      <td>1</td>\n",
       "      <td>1</td>\n",
       "      <td>5</td>\n",
       "      <td>1303862400</td>\n",
       "      <td>Good Quality Dog Food</td>\n",
       "      <td>I have bought several of the Vitality canned d...</td>\n",
       "    </tr>\n",
       "    <tr>\n",
       "      <th>1</th>\n",
       "      <td>2</td>\n",
       "      <td>B00813GRG4</td>\n",
       "      <td>A1D87F6ZCVE5NK</td>\n",
       "      <td>dll pa</td>\n",
       "      <td>0</td>\n",
       "      <td>0</td>\n",
       "      <td>1</td>\n",
       "      <td>1346976000</td>\n",
       "      <td>Not as Advertised</td>\n",
       "      <td>Product arrived labeled as Jumbo Salted Peanut...</td>\n",
       "    </tr>\n",
       "    <tr>\n",
       "      <th>2</th>\n",
       "      <td>3</td>\n",
       "      <td>B000LQOCH0</td>\n",
       "      <td>ABXLMWJIXXAIN</td>\n",
       "      <td>Natalia Corres \"Natalia Corres\"</td>\n",
       "      <td>1</td>\n",
       "      <td>1</td>\n",
       "      <td>4</td>\n",
       "      <td>1219017600</td>\n",
       "      <td>\"Delight\" says it all</td>\n",
       "      <td>This is a confection that has been around a fe...</td>\n",
       "    </tr>\n",
       "    <tr>\n",
       "      <th>3</th>\n",
       "      <td>4</td>\n",
       "      <td>B000UA0QIQ</td>\n",
       "      <td>A395BORC6FGVXV</td>\n",
       "      <td>Karl</td>\n",
       "      <td>3</td>\n",
       "      <td>3</td>\n",
       "      <td>2</td>\n",
       "      <td>1307923200</td>\n",
       "      <td>Cough Medicine</td>\n",
       "      <td>If you are looking for the secret ingredient i...</td>\n",
       "    </tr>\n",
       "    <tr>\n",
       "      <th>4</th>\n",
       "      <td>5</td>\n",
       "      <td>B006K2ZZ7K</td>\n",
       "      <td>A1UQRSCLF8GW1T</td>\n",
       "      <td>Michael D. Bigham \"M. Wassir\"</td>\n",
       "      <td>0</td>\n",
       "      <td>0</td>\n",
       "      <td>5</td>\n",
       "      <td>1350777600</td>\n",
       "      <td>Great taffy</td>\n",
       "      <td>Great taffy at a great price.  There was a wid...</td>\n",
       "    </tr>\n",
       "  </tbody>\n",
       "</table>\n",
       "</div>"
      ],
      "text/plain": [
       "   Id   ProductId          UserId                      ProfileName  \\\n",
       "0   1  B001E4KFG0  A3SGXH7AUHU8GW                       delmartian   \n",
       "1   2  B00813GRG4  A1D87F6ZCVE5NK                           dll pa   \n",
       "2   3  B000LQOCH0   ABXLMWJIXXAIN  Natalia Corres \"Natalia Corres\"   \n",
       "3   4  B000UA0QIQ  A395BORC6FGVXV                             Karl   \n",
       "4   5  B006K2ZZ7K  A1UQRSCLF8GW1T    Michael D. Bigham \"M. Wassir\"   \n",
       "\n",
       "   HelpfulnessNumerator  HelpfulnessDenominator  Score        Time  \\\n",
       "0                     1                       1      5  1303862400   \n",
       "1                     0                       0      1  1346976000   \n",
       "2                     1                       1      4  1219017600   \n",
       "3                     3                       3      2  1307923200   \n",
       "4                     0                       0      5  1350777600   \n",
       "\n",
       "                 Summary                                               Text  \n",
       "0  Good Quality Dog Food  I have bought several of the Vitality canned d...  \n",
       "1      Not as Advertised  Product arrived labeled as Jumbo Salted Peanut...  \n",
       "2  \"Delight\" says it all  This is a confection that has been around a fe...  \n",
       "3         Cough Medicine  If you are looking for the secret ingredient i...  \n",
       "4            Great taffy  Great taffy at a great price.  There was a wid...  "
      ]
     },
     "execution_count": 5,
     "metadata": {},
     "output_type": "execute_result"
    }
   ],
   "source": [
    "lstm_ar.head()"
   ]
  },
  {
   "cell_type": "markdown",
   "metadata": {},
   "source": [
    "# Data Cleaning"
   ]
  },
  {
   "cell_type": "code",
   "execution_count": 6,
   "metadata": {
    "colab": {},
    "colab_type": "code",
    "id": "C1sBsFFOTnhL"
   },
   "outputs": [],
   "source": [
    "lstm_ar = lstm_ar[lstm_ar.HelpfulnessNumerator <= lstm_ar.HelpfulnessDenominator]"
   ]
  },
  {
   "cell_type": "code",
   "execution_count": 7,
   "metadata": {
    "colab": {},
    "colab_type": "code",
    "id": "KDIc8Sq3VI_B"
   },
   "outputs": [],
   "source": [
    "lstm_ar.drop_duplicates(subset = {'UserId','ProfileName','Time'} ,keep = 'first', inplace = True)\n"
   ]
  },
  {
   "cell_type": "code",
   "execution_count": 8,
   "metadata": {
    "colab": {},
    "colab_type": "code",
    "id": "ZWj1sc0DViSK"
   },
   "outputs": [],
   "source": [
    "def cleanhtml(sent):\n",
    "    cleanr = re.compile('<.*?>')\n",
    "    cleaned = re.sub(cleanr,' ',sent)\n",
    "    return cleaned\n",
    "def cleanpunc(sent):\n",
    "    clean = re.sub(r'[?|!|$|#|\\'|\"|:]',r'',sent)\n",
    "    clean = re.sub(r'[,|(|)|.|\\|/]',r' ',clean)\n",
    "    return clean"
   ]
  },
  {
   "cell_type": "code",
   "execution_count": 9,
   "metadata": {
    "colab": {
     "base_uri": "https://localhost:8080/",
     "height": 68
    },
    "colab_type": "code",
    "id": "eNk6Hctlj90f",
    "outputId": "be52c496-63cc-4246-a3ae-81387b1b6101"
   },
   "outputs": [
    {
     "name": "stdout",
     "output_type": "stream",
     "text": [
      "[nltk_data] Downloading package stopwords to\n",
      "[nltk_data]     C:\\Users\\hp\\AppData\\Roaming\\nltk_data...\n",
      "[nltk_data]   Package stopwords is already up-to-date!\n"
     ]
    },
    {
     "data": {
      "text/plain": [
       "True"
      ]
     },
     "execution_count": 9,
     "metadata": {},
     "output_type": "execute_result"
    }
   ],
   "source": [
    "import nltk\n",
    "nltk.download('stopwords')"
   ]
  },
  {
   "cell_type": "code",
   "execution_count": 10,
   "metadata": {
    "colab": {},
    "colab_type": "code",
    "id": "KfkZA10jtzxc"
   },
   "outputs": [],
   "source": [
    "from nltk.corpus import stopwords\n",
    "from nltk.stem import PorterStemmer\n",
    "stop = set(stopwords.words(\"english\"))\n",
    "st = PorterStemmer()"
   ]
  },
  {
   "cell_type": "code",
   "execution_count": 11,
   "metadata": {
    "colab": {},
    "colab_type": "code",
    "id": "7-hYhE7Ct6BZ"
   },
   "outputs": [],
   "source": [
    "import re\n",
    "i=0\n",
    "final_string = []\n",
    "stem_data = \" \"\n",
    "for p in lstm_ar['Text'].values:\n",
    "    filtered_sens = []#filtered word\n",
    "    p = cleanhtml(p)\n",
    "    for w in p.split():\n",
    "       # print(w)\n",
    "        punc = cleanpunc(w)\n",
    "        for s in punc.split():\n",
    "            #print(w)\n",
    "            if (s.isalpha()) & (len(s)>2):\n",
    "                if s.lower() not in stop:\n",
    "                    stem_data = (st.stem(s.lower())).encode('utf8')\n",
    "                    filtered_sens.append(stem_data)\n",
    "                else:\n",
    "                    continue\n",
    "            else:\n",
    "                continue\n",
    "    #print(filtered_sens)\n",
    "    str1 = b\" \".join(filtered_sens)\n",
    "    #print(str1)\n",
    "    final_string.append(str1)\n",
    "    i+=1"
   ]
  },
  {
   "cell_type": "code",
   "execution_count": 12,
   "metadata": {
    "colab": {},
    "colab_type": "code",
    "id": "aPV3VMJaz6Js"
   },
   "outputs": [],
   "source": [
    "lstm_ar['cleaned_text']=final_string  \n",
    "lstm_ar['cleaned_text']=lstm_ar['cleaned_text'].str.decode(\"utf-8\")"
   ]
  },
  {
   "cell_type": "code",
   "execution_count": 13,
   "metadata": {
    "colab": {},
    "colab_type": "code",
    "id": "gh_nDg267MiM"
   },
   "outputs": [],
   "source": [
    "vocab = dict()\n",
    "for sent in lstm_ar['cleaned_text'].values:\n",
    "    for word in sent.split():\n",
    "        if word not in vocab.keys():\n",
    "            vocab[word] = 1\n",
    "        else:\n",
    "            vocab[word] += 1"
   ]
  },
  {
   "cell_type": "code",
   "execution_count": 14,
   "metadata": {
    "colab": {},
    "colab_type": "code",
    "id": "ZKe_wpmQH6F0"
   },
   "outputs": [],
   "source": [
    "import operator\n",
    "sorted_dict = sorted(vocab.items(), key=operator.itemgetter(1),reverse = True)"
   ]
  },
  {
   "cell_type": "code",
   "execution_count": 15,
   "metadata": {
    "colab": {},
    "colab_type": "code",
    "id": "S-2UyDrrH9nl"
   },
   "outputs": [],
   "source": [
    "ranking = dict()\n",
    "rank = 1\n",
    "for i in range(len(sorted_dict)):\n",
    "    k = sorted_dict[i][0]\n",
    "    ranking[k] = rank\n",
    "    rank+=1"
   ]
  },
  {
   "cell_type": "code",
   "execution_count": 16,
   "metadata": {
    "colab": {},
    "colab_type": "code",
    "id": "hC6BDFinIB4M"
   },
   "outputs": [],
   "source": [
    "X = []\n",
    "for sent in lstm_ar['cleaned_text'].values:\n",
    "    row_ = []\n",
    "    for word in sent.split():\n",
    "        row_.append(ranking[word])\n",
    "    X.append(row_)"
   ]
  },
  {
   "cell_type": "code",
   "execution_count": 17,
   "metadata": {},
   "outputs": [],
   "source": [
    "import numpy as np\n",
    "y = lstm_ar['Score']\n",
    "change = lambda x : 1 if x == 'positive' else 0\n",
    "y = np.array([change(x) for x in y])"
   ]
  },
  {
   "cell_type": "markdown",
   "metadata": {},
   "source": [
    "<h2> Spliting Data Into Train And Test Data </h2>"
   ]
  },
  {
   "cell_type": "code",
   "execution_count": 18,
   "metadata": {
    "colab": {},
    "colab_type": "code",
    "id": "Xfv2P0zbIbyZ"
   },
   "outputs": [],
   "source": [
    "from sklearn.model_selection import train_test_split\n",
    "x_train , x_test , y_train , y_test = train_test_split(X,y,test_size = 0.3,random_state = 0,shuffle = False)"
   ]
  },
  {
   "cell_type": "code",
   "execution_count": 19,
   "metadata": {
    "colab": {
     "base_uri": "https://localhost:8080/",
     "height": 34
    },
    "colab_type": "code",
    "id": "gR7RqdafJGpm",
    "outputId": "56d0ba1c-5464-44be-c2d9-50d13258caf1"
   },
   "outputs": [
    {
     "name": "stderr",
     "output_type": "stream",
     "text": [
      "Using TensorFlow backend.\n"
     ]
    }
   ],
   "source": [
    "import numpy as np\n",
    "from keras.models import Sequential\n",
    "from keras.layers import Dense\n",
    "from keras.layers import LSTM\n",
    "from keras.layers.embeddings import Embedding\n",
    "from keras.preprocessing import sequence\n",
    "# fix random seed for reproducibility\n",
    "np.random.seed(7)"
   ]
  },
  {
   "cell_type": "markdown",
   "metadata": {
    "colab_type": "text",
    "id": "zph8U2U5Qjac"
   },
   "source": [
    "# Model LSTM With 1 layer "
   ]
  },
  {
   "cell_type": "code",
   "execution_count": 26,
   "metadata": {
    "colab": {
     "base_uri": "https://localhost:8080/",
     "height": 459
    },
    "colab_type": "code",
    "id": "dmEfgzoKLG_B",
    "outputId": "04fc5d96-4c7a-4623-e4f2-b81b3f6f992e"
   },
   "outputs": [
    {
     "name": "stdout",
     "output_type": "stream",
     "text": [
      "(6584, 300)\n",
      "[   0    0    0    0    0    0    0    0    0    0    0    0    0    0\n",
      "    0    0    0    0    0    0    0    0    0    0    0    0    0    0\n",
      "    0    0    0    0    0    0    0    0    0    0    0    0    0    0\n",
      "    0    0    0    0    0    0    0    0    0    0    0    0    0    0\n",
      "    0    0    0    0    0    0    0    0    0    0    0    0    0    0\n",
      "    0    0    0    0    0    0    0    0    0    0    0    0    0    0\n",
      "    0    0    0    0    0    0    0    0    0    0    0    0    0    0\n",
      "    0    0    0    0    0    0    0    0    0    0    0    0    0    0\n",
      "    0    0    0    0    0    0    0    0    0    0    0    0    0    0\n",
      "    0    0    0    0    0    0    0    0    0    0    0    0    0    0\n",
      "    0    0    0    0    0    0    0    0    0    0    0    0    0    0\n",
      "    0    0    0    0    0    0    0    0    0    0    0    0    0    0\n",
      "    0    0    0    0    0    0    0    0    0    0    0    0    0    0\n",
      "    0    0    0    0    0    0    0    0    0    0    0    0    0    0\n",
      "    0    0    0    0    0    0    0    0    0    0    0    0    0    0\n",
      "    0    0    0    0    0    0    0    0    0    0    0    0    0    0\n",
      "    0    0    0    0    0    0    0    0    0    0    0    0    0    0\n",
      "    0    0    0    0    0    0    0    0    0    0    0    0    0    0\n",
      "    0    0    0    0    0    0    0    0    0    0    0    0    0    0\n",
      "    0    0    0    0    0    0    0    0    0    0    0    0    0    0\n",
      "    0    0    6  211  375 2228  131  335  335  144  126  127 2395  123\n",
      " 2229 1007 1762 2502    6 2228]\n"
     ]
    }
   ],
   "source": [
    "#https://github.com/Manish-12/LSTM-on-amazon-fine-food-reviews/blob/master/LSTM_Amazon.ipynb\n",
    "max_review_length = 300\n",
    "\n",
    "x_train = sequence.pad_sequences(x_train, maxlen=max_review_length)\n",
    "x_test = sequence.pad_sequences(x_test, maxlen=max_review_length)\n",
    "\n",
    "print(x_train.shape)\n",
    "print(x_train[1])"
   ]
  },
  {
   "cell_type": "code",
   "execution_count": 30,
   "metadata": {
    "colab": {
     "base_uri": "https://localhost:8080/",
     "height": 323
    },
    "colab_type": "code",
    "id": "tGDPzZhJLQfT",
    "outputId": "1128539c-728d-4f8e-c83a-051437dda664"
   },
   "outputs": [
    {
     "name": "stdout",
     "output_type": "stream",
     "text": [
      "_________________________________________________________________\n",
      "Layer (type)                 Output Shape              Param #   \n",
      "=================================================================\n",
      "embedding_8 (Embedding)      (None, 300, 32)           381504    \n",
      "_________________________________________________________________\n",
      "dropout_15 (Dropout)         (None, 300, 32)           0         \n",
      "_________________________________________________________________\n",
      "lstm_8 (LSTM)                (None, 32)                8320      \n",
      "_________________________________________________________________\n",
      "dropout_16 (Dropout)         (None, 32)                0         \n",
      "_________________________________________________________________\n",
      "dense_8 (Dense)              (None, 1)                 33        \n",
      "=================================================================\n",
      "Total params: 389,857\n",
      "Trainable params: 389,857\n",
      "Non-trainable params: 0\n",
      "_________________________________________________________________\n",
      "None\n"
     ]
    }
   ],
   "source": [
    "from keras.layers import Dropout\n",
    "embedding_vecor_length = 32\n",
    "model = Sequential()\n",
    "model.add(Embedding(len(vocab.keys())+1, embedding_vecor_length, input_length=max_review_length))\n",
    "model.add(Dropout(0.25))\n",
    "\n",
    "model.add(LSTM(32))\n",
    "model.add(Dropout(0.25))\n",
    "\n",
    "model.add(Dense(1, activation='sigmoid'))\n",
    "model.compile(loss='binary_crossentropy', optimizer='adam', metrics=['accuracy'])\n",
    "print(model.summary())"
   ]
  },
  {
   "cell_type": "code",
   "execution_count": 31,
   "metadata": {
    "colab": {
     "base_uri": "https://localhost:8080/",
     "height": 731
    },
    "colab_type": "code",
    "id": "TXtNvL1fMTcZ",
    "outputId": "c1871283-c997-4166-cef6-bd1324206fd2"
   },
   "outputs": [
    {
     "name": "stdout",
     "output_type": "stream",
     "text": [
      "Train on 6584 samples, validate on 2823 samples\n",
      "Epoch 1/10\n",
      "6584/6584 [==============================] - ETA: 2:17 - loss: 0.6927 - acc: 0.507 - ETA: 1:19 - loss: 0.6906 - acc: 0.656 - ETA: 59s - loss: 0.6885 - acc: 0.760 - ETA: 49s - loss: 0.6861 - acc: 0.82 - ETA: 43s - loss: 0.6836 - acc: 0.85 - ETA: 39s - loss: 0.6809 - acc: 0.88 - ETA: 36s - loss: 0.6780 - acc: 0.89 - ETA: 33s - loss: 0.6751 - acc: 0.91 - ETA: 31s - loss: 0.6722 - acc: 0.92 - ETA: 29s - loss: 0.6688 - acc: 0.92 - ETA: 28s - loss: 0.6652 - acc: 0.93 - ETA: 26s - loss: 0.6614 - acc: 0.94 - ETA: 25s - loss: 0.6571 - acc: 0.94 - ETA: 24s - loss: 0.6528 - acc: 0.94 - ETA: 23s - loss: 0.6482 - acc: 0.95 - ETA: 22s - loss: 0.6431 - acc: 0.95 - ETA: 21s - loss: 0.6376 - acc: 0.95 - ETA: 20s - loss: 0.6314 - acc: 0.96 - ETA: 19s - loss: 0.6245 - acc: 0.96 - ETA: 18s - loss: 0.6167 - acc: 0.96 - ETA: 18s - loss: 0.6076 - acc: 0.96 - ETA: 17s - loss: 0.5972 - acc: 0.96 - ETA: 16s - loss: 0.5848 - acc: 0.96 - ETA: 16s - loss: 0.5710 - acc: 0.97 - ETA: 15s - loss: 0.5553 - acc: 0.97 - ETA: 14s - loss: 0.5388 - acc: 0.97 - ETA: 14s - loss: 0.5222 - acc: 0.97 - ETA: 13s - loss: 0.5059 - acc: 0.97 - ETA: 12s - loss: 0.4903 - acc: 0.97 - ETA: 12s - loss: 0.4753 - acc: 0.97 - ETA: 11s - loss: 0.4611 - acc: 0.97 - ETA: 10s - loss: 0.4476 - acc: 0.97 - ETA: 10s - loss: 0.4348 - acc: 0.97 - ETA: 9s - loss: 0.4227 - acc: 0.9789 - ETA: 9s - loss: 0.4113 - acc: 0.979 - ETA: 8s - loss: 0.4003 - acc: 0.980 - ETA: 7s - loss: 0.3900 - acc: 0.980 - ETA: 7s - loss: 0.3801 - acc: 0.981 - ETA: 6s - loss: 0.3707 - acc: 0.981 - ETA: 6s - loss: 0.3618 - acc: 0.982 - ETA: 5s - loss: 0.3533 - acc: 0.982 - ETA: 5s - loss: 0.3451 - acc: 0.982 - ETA: 4s - loss: 0.3373 - acc: 0.983 - ETA: 4s - loss: 0.3299 - acc: 0.983 - ETA: 3s - loss: 0.3228 - acc: 0.984 - ETA: 2s - loss: 0.3160 - acc: 0.984 - ETA: 2s - loss: 0.3095 - acc: 0.984 - ETA: 1s - loss: 0.3032 - acc: 0.985 - ETA: 1s - loss: 0.2972 - acc: 0.985 - ETA: 0s - loss: 0.2914 - acc: 0.985 - ETA: 0s - loss: 0.2858 - acc: 0.985 - 29s 4ms/step - loss: 0.2835 - acc: 0.9860 - val_loss: 0.0055 - val_acc: 1.0000\n",
      "Epoch 2/10\n",
      "6584/6584 [==============================] - ETA: 25s - loss: 0.0068 - acc: 1.00 - ETA: 24s - loss: 0.0068 - acc: 1.00 - ETA: 23s - loss: 0.0068 - acc: 1.00 - ETA: 23s - loss: 0.0064 - acc: 1.00 - ETA: 22s - loss: 0.0063 - acc: 1.00 - ETA: 22s - loss: 0.0061 - acc: 1.00 - ETA: 22s - loss: 0.0060 - acc: 1.00 - ETA: 21s - loss: 0.0059 - acc: 1.00 - ETA: 20s - loss: 0.0057 - acc: 1.00 - ETA: 20s - loss: 0.0056 - acc: 1.00 - ETA: 19s - loss: 0.0055 - acc: 1.00 - ETA: 19s - loss: 0.0055 - acc: 1.00 - ETA: 18s - loss: 0.0054 - acc: 1.00 - ETA: 18s - loss: 0.0053 - acc: 1.00 - ETA: 17s - loss: 0.0052 - acc: 1.00 - ETA: 17s - loss: 0.0052 - acc: 1.00 - ETA: 16s - loss: 0.0051 - acc: 1.00 - ETA: 16s - loss: 0.0051 - acc: 1.00 - ETA: 15s - loss: 0.0050 - acc: 1.00 - ETA: 15s - loss: 0.0049 - acc: 1.00 - ETA: 14s - loss: 0.0049 - acc: 1.00 - ETA: 14s - loss: 0.0048 - acc: 1.00 - ETA: 13s - loss: 0.0048 - acc: 1.00 - ETA: 13s - loss: 0.0047 - acc: 1.00 - ETA: 12s - loss: 0.0046 - acc: 1.00 - ETA: 12s - loss: 0.0046 - acc: 1.00 - ETA: 11s - loss: 0.0045 - acc: 1.00 - ETA: 11s - loss: 0.0045 - acc: 1.00 - ETA: 10s - loss: 0.0044 - acc: 1.00 - ETA: 10s - loss: 0.0044 - acc: 1.00 - ETA: 10s - loss: 0.0043 - acc: 1.00 - ETA: 9s - loss: 0.0043 - acc: 1.0000 - ETA: 9s - loss: 0.0042 - acc: 1.000 - ETA: 8s - loss: 0.0042 - acc: 1.000 - ETA: 8s - loss: 0.0041 - acc: 1.000 - ETA: 7s - loss: 0.0041 - acc: 1.000 - ETA: 7s - loss: 0.0040 - acc: 1.000 - ETA: 6s - loss: 0.0040 - acc: 1.000 - ETA: 6s - loss: 0.0040 - acc: 1.000 - ETA: 5s - loss: 0.0039 - acc: 1.000 - ETA: 5s - loss: 0.0039 - acc: 1.000 - ETA: 4s - loss: 0.0039 - acc: 1.000 - ETA: 4s - loss: 0.0038 - acc: 1.000 - ETA: 3s - loss: 0.0038 - acc: 1.000 - ETA: 3s - loss: 0.0038 - acc: 1.000 - ETA: 2s - loss: 0.0037 - acc: 1.000 - ETA: 2s - loss: 0.0037 - acc: 1.000 - ETA: 1s - loss: 0.0036 - acc: 1.000 - ETA: 1s - loss: 0.0036 - acc: 1.000 - ETA: 0s - loss: 0.0036 - acc: 1.000 - ETA: 0s - loss: 0.0035 - acc: 1.000 - 27s 4ms/step - loss: 0.0035 - acc: 1.0000 - val_loss: 0.0013 - val_acc: 1.0000\n",
      "Epoch 3/10\n",
      "6584/6584 [==============================] - ETA: 24s - loss: 0.0020 - acc: 1.00 - ETA: 23s - loss: 0.0018 - acc: 1.00 - ETA: 23s - loss: 0.0019 - acc: 1.00 - ETA: 23s - loss: 0.0019 - acc: 1.00 - ETA: 22s - loss: 0.0019 - acc: 1.00 - ETA: 22s - loss: 0.0019 - acc: 1.00 - ETA: 21s - loss: 0.0018 - acc: 1.00 - ETA: 21s - loss: 0.0018 - acc: 1.00 - ETA: 20s - loss: 0.0018 - acc: 1.00 - ETA: 20s - loss: 0.0018 - acc: 1.00 - ETA: 19s - loss: 0.0018 - acc: 1.00 - ETA: 19s - loss: 0.0017 - acc: 1.00 - ETA: 18s - loss: 0.0017 - acc: 1.00 - ETA: 18s - loss: 0.0017 - acc: 1.00 - ETA: 17s - loss: 0.0017 - acc: 1.00 - ETA: 17s - loss: 0.0017 - acc: 1.00 - ETA: 16s - loss: 0.0017 - acc: 1.00 - ETA: 16s - loss: 0.0016 - acc: 1.00 - ETA: 15s - loss: 0.0016 - acc: 1.00 - ETA: 15s - loss: 0.0016 - acc: 1.00 - ETA: 14s - loss: 0.0016 - acc: 1.00 - ETA: 14s - loss: 0.0016 - acc: 1.00 - ETA: 13s - loss: 0.0016 - acc: 1.00 - ETA: 13s - loss: 0.0016 - acc: 1.00 - ETA: 12s - loss: 0.0016 - acc: 1.00 - ETA: 12s - loss: 0.0016 - acc: 1.00 - ETA: 12s - loss: 0.0016 - acc: 1.00 - ETA: 11s - loss: 0.0015 - acc: 1.00 - ETA: 11s - loss: 0.0015 - acc: 1.00 - ETA: 10s - loss: 0.0015 - acc: 1.00 - ETA: 10s - loss: 0.0015 - acc: 1.00 - ETA: 9s - loss: 0.0015 - acc: 1.0000 - ETA: 9s - loss: 0.0015 - acc: 1.000 - ETA: 8s - loss: 0.0015 - acc: 1.000 - ETA: 8s - loss: 0.0015 - acc: 1.000 - ETA: 7s - loss: 0.0015 - acc: 1.000 - ETA: 7s - loss: 0.0014 - acc: 1.000 - ETA: 6s - loss: 0.0014 - acc: 1.000 - ETA: 6s - loss: 0.0014 - acc: 1.000 - ETA: 5s - loss: 0.0014 - acc: 1.000 - ETA: 5s - loss: 0.0014 - acc: 1.000 - ETA: 4s - loss: 0.0014 - acc: 1.000 - ETA: 4s - loss: 0.0014 - acc: 1.000 - ETA: 3s - loss: 0.0014 - acc: 1.000 - ETA: 3s - loss: 0.0014 - acc: 1.000 - ETA: 2s - loss: 0.0014 - acc: 1.000 - ETA: 2s - loss: 0.0014 - acc: 1.000 - ETA: 1s - loss: 0.0013 - acc: 1.000 - ETA: 1s - loss: 0.0013 - acc: 1.000 - ETA: 0s - loss: 0.0013 - acc: 1.000 - ETA: 0s - loss: 0.0013 - acc: 1.000 - 27s 4ms/step - loss: 0.0013 - acc: 1.0000 - val_loss: 5.9780e-04 - val_acc: 1.0000\n",
      "Epoch 4/10\n",
      "6584/6584 [==============================] - ETA: 23s - loss: 9.9701e-04 - acc: 1.00 - ETA: 24s - loss: 9.1974e-04 - acc: 1.00 - ETA: 24s - loss: 9.2992e-04 - acc: 1.00 - ETA: 23s - loss: 9.2296e-04 - acc: 1.00 - ETA: 22s - loss: 9.1104e-04 - acc: 1.00 - ETA: 22s - loss: 9.1280e-04 - acc: 1.00 - ETA: 21s - loss: 9.3127e-04 - acc: 1.00 - ETA: 21s - loss: 9.0763e-04 - acc: 1.00 - ETA: 20s - loss: 8.9687e-04 - acc: 1.00 - ETA: 20s - loss: 8.8899e-04 - acc: 1.00 - ETA: 19s - loss: 8.8729e-04 - acc: 1.00 - ETA: 19s - loss: 8.8697e-04 - acc: 1.00 - ETA: 18s - loss: 8.8350e-04 - acc: 1.00 - ETA: 18s - loss: 8.8001e-04 - acc: 1.00 - ETA: 17s - loss: 8.7718e-04 - acc: 1.00 - ETA: 17s - loss: 8.8165e-04 - acc: 1.00 - ETA: 16s - loss: 8.7971e-04 - acc: 1.00 - ETA: 16s - loss: 8.7184e-04 - acc: 1.00 - ETA: 15s - loss: 8.5596e-04 - acc: 1.00 - ETA: 15s - loss: 8.4909e-04 - acc: 1.00 - ETA: 14s - loss: 8.4269e-04 - acc: 1.00 - ETA: 14s - loss: 8.3266e-04 - acc: 1.00 - ETA: 13s - loss: 8.2304e-04 - acc: 1.00 - ETA: 13s - loss: 8.2081e-04 - acc: 1.00 - ETA: 12s - loss: 8.1673e-04 - acc: 1.00 - ETA: 12s - loss: 8.1002e-04 - acc: 1.00 - ETA: 11s - loss: 8.0545e-04 - acc: 1.00 - ETA: 11s - loss: 8.0726e-04 - acc: 1.00 - ETA: 11s - loss: 8.0748e-04 - acc: 1.00 - ETA: 10s - loss: 8.0459e-04 - acc: 1.00 - ETA: 10s - loss: 8.0491e-04 - acc: 1.00 - ETA: 9s - loss: 8.0406e-04 - acc: 1.0000 - ETA: 9s - loss: 8.0378e-04 - acc: 1.000 - ETA: 8s - loss: 7.9941e-04 - acc: 1.000 - ETA: 8s - loss: 7.9730e-04 - acc: 1.000 - ETA: 7s - loss: 7.9141e-04 - acc: 1.000 - ETA: 7s - loss: 7.9339e-04 - acc: 1.000 - ETA: 6s - loss: 7.9211e-04 - acc: 1.000 - ETA: 6s - loss: 7.9217e-04 - acc: 1.000 - ETA: 5s - loss: 7.9323e-04 - acc: 1.000 - ETA: 5s - loss: 7.9150e-04 - acc: 1.000 - ETA: 4s - loss: 7.8647e-04 - acc: 1.000 - ETA: 4s - loss: 7.8471e-04 - acc: 1.000 - ETA: 3s - loss: 7.8106e-04 - acc: 1.000 - ETA: 3s - loss: 7.7603e-04 - acc: 1.000 - ETA: 2s - loss: 7.7378e-04 - acc: 1.000 - ETA: 2s - loss: 7.7116e-04 - acc: 1.000 - ETA: 1s - loss: 7.7019e-04 - acc: 1.000 - ETA: 1s - loss: 7.6957e-04 - acc: 1.000 - ETA: 0s - loss: 7.6724e-04 - acc: 1.000 - ETA: 0s - loss: 7.6187e-04 - acc: 1.000 - 28s 4ms/step - loss: 7.6110e-04 - acc: 1.0000 - val_loss: 4.0217e-04 - val_acc: 1.0000\n",
      "Epoch 5/10\n",
      "6584/6584 [==============================] - ETA: 23s - loss: 5.5481e-04 - acc: 1.00 - ETA: 24s - loss: 5.8113e-04 - acc: 1.00 - ETA: 24s - loss: 6.4623e-04 - acc: 1.00 - ETA: 24s - loss: 6.6923e-04 - acc: 1.00 - ETA: 23s - loss: 6.6157e-04 - acc: 1.00 - ETA: 22s - loss: 6.8116e-04 - acc: 1.00 - ETA: 22s - loss: 6.7737e-04 - acc: 1.00 - ETA: 21s - loss: 6.6958e-04 - acc: 1.00 - ETA: 21s - loss: 6.7938e-04 - acc: 1.00 - ETA: 20s - loss: 6.8260e-04 - acc: 1.00 - ETA: 20s - loss: 6.7534e-04 - acc: 1.00 - ETA: 19s - loss: 6.7299e-04 - acc: 1.00 - ETA: 19s - loss: 6.7428e-04 - acc: 1.00 - ETA: 18s - loss: 6.7052e-04 - acc: 1.00 - ETA: 18s - loss: 6.6448e-04 - acc: 1.00 - ETA: 17s - loss: 6.6589e-04 - acc: 1.00 - ETA: 17s - loss: 6.6035e-04 - acc: 1.00 - ETA: 16s - loss: 6.5691e-04 - acc: 1.00 - ETA: 16s - loss: 6.5152e-04 - acc: 1.00 - ETA: 15s - loss: 6.5071e-04 - acc: 1.00 - ETA: 15s - loss: 6.4893e-04 - acc: 1.00 - ETA: 14s - loss: 6.4204e-04 - acc: 1.00 - ETA: 14s - loss: 6.3902e-04 - acc: 1.00 - ETA: 13s - loss: 6.3451e-04 - acc: 1.00 - ETA: 13s - loss: 6.3036e-04 - acc: 1.00 - ETA: 12s - loss: 6.2746e-04 - acc: 1.00 - ETA: 12s - loss: 6.3737e-04 - acc: 1.00 - ETA: 11s - loss: 6.3349e-04 - acc: 1.00 - ETA: 11s - loss: 6.3295e-04 - acc: 1.00 - ETA: 10s - loss: 6.3000e-04 - acc: 1.00 - ETA: 10s - loss: 6.3192e-04 - acc: 1.00 - ETA: 9s - loss: 6.3162e-04 - acc: 1.0000 - ETA: 9s - loss: 6.2627e-04 - acc: 1.000 - ETA: 8s - loss: 6.2594e-04 - acc: 1.000 - ETA: 8s - loss: 6.2361e-04 - acc: 1.000 - ETA: 7s - loss: 6.2121e-04 - acc: 1.000 - ETA: 7s - loss: 6.1865e-04 - acc: 1.000 - ETA: 6s - loss: 6.1616e-04 - acc: 1.000 - ETA: 6s - loss: 6.1497e-04 - acc: 1.000 - ETA: 5s - loss: 6.1069e-04 - acc: 1.000 - ETA: 5s - loss: 6.0715e-04 - acc: 1.000 - ETA: 4s - loss: 6.0442e-04 - acc: 1.000 - ETA: 4s - loss: 6.0365e-04 - acc: 1.000 - ETA: 3s - loss: 6.0010e-04 - acc: 1.000 - ETA: 3s - loss: 5.9665e-04 - acc: 1.000 - ETA: 2s - loss: 5.9345e-04 - acc: 1.000 - ETA: 2s - loss: 5.9132e-04 - acc: 1.000 - ETA: 1s - loss: 5.8973e-04 - acc: 1.000 - ETA: 1s - loss: 5.8927e-04 - acc: 1.000 - ETA: 0s - loss: 5.8617e-04 - acc: 1.000 - ETA: 0s - loss: 5.8528e-04 - acc: 1.000 - 27s 4ms/step - loss: 5.8511e-04 - acc: 1.0000 - val_loss: 2.9862e-04 - val_acc: 1.0000\n",
      "Epoch 6/10\n",
      "6584/6584 [==============================] - ETA: 25s - loss: 5.1888e-04 - acc: 1.00 - ETA: 24s - loss: 5.0694e-04 - acc: 1.00 - ETA: 23s - loss: 4.7887e-04 - acc: 1.00 - ETA: 22s - loss: 4.9035e-04 - acc: 1.00 - ETA: 22s - loss: 4.8057e-04 - acc: 1.00 - ETA: 22s - loss: 4.7380e-04 - acc: 1.00 - ETA: 22s - loss: 4.7177e-04 - acc: 1.00 - ETA: 21s - loss: 4.6160e-04 - acc: 1.00 - ETA: 21s - loss: 4.5769e-04 - acc: 1.00 - ETA: 20s - loss: 4.5936e-04 - acc: 1.00 - ETA: 20s - loss: 4.5786e-04 - acc: 1.00 - ETA: 19s - loss: 4.5670e-04 - acc: 1.00 - ETA: 19s - loss: 4.6026e-04 - acc: 1.00 - ETA: 18s - loss: 4.6064e-04 - acc: 1.00 - ETA: 18s - loss: 4.5803e-04 - acc: 1.00 - ETA: 17s - loss: 4.6122e-04 - acc: 1.00 - ETA: 17s - loss: 4.6073e-04 - acc: 1.00 - ETA: 16s - loss: 4.5944e-04 - acc: 1.00 - ETA: 16s - loss: 4.5816e-04 - acc: 1.00 - ETA: 15s - loss: 4.5519e-04 - acc: 1.00 - ETA: 15s - loss: 4.5960e-04 - acc: 1.00 - ETA: 14s - loss: 4.6235e-04 - acc: 1.00 - ETA: 14s - loss: 4.6026e-04 - acc: 1.00 - ETA: 13s - loss: 4.6048e-04 - acc: 1.00 - ETA: 13s - loss: 4.6218e-04 - acc: 1.00 - ETA: 12s - loss: 4.5740e-04 - acc: 1.00 - ETA: 12s - loss: 4.5704e-04 - acc: 1.00 - ETA: 11s - loss: 4.6222e-04 - acc: 1.00 - ETA: 11s - loss: 4.6310e-04 - acc: 1.00 - ETA: 10s - loss: 4.6359e-04 - acc: 1.00 - ETA: 10s - loss: 4.6363e-04 - acc: 1.00 - ETA: 9s - loss: 4.6366e-04 - acc: 1.0000 - ETA: 9s - loss: 4.6228e-04 - acc: 1.000 - ETA: 8s - loss: 4.5891e-04 - acc: 1.000 - ETA: 8s - loss: 4.5647e-04 - acc: 1.000 - ETA: 7s - loss: 4.5549e-04 - acc: 1.000 - ETA: 7s - loss: 4.5831e-04 - acc: 1.000 - ETA: 6s - loss: 4.5928e-04 - acc: 1.000 - ETA: 6s - loss: 4.5914e-04 - acc: 1.000 - ETA: 5s - loss: 4.5902e-04 - acc: 1.000 - ETA: 5s - loss: 4.6168e-04 - acc: 1.000 - ETA: 4s - loss: 4.6169e-04 - acc: 1.000 - ETA: 4s - loss: 4.5908e-04 - acc: 1.000 - ETA: 3s - loss: 4.5767e-04 - acc: 1.000 - ETA: 3s - loss: 4.5791e-04 - acc: 1.000 - ETA: 2s - loss: 4.5739e-04 - acc: 1.000 - ETA: 2s - loss: 4.5586e-04 - acc: 1.000 - ETA: 1s - loss: 4.5353e-04 - acc: 1.000 - ETA: 1s - loss: 4.5621e-04 - acc: 1.000 - ETA: 0s - loss: 4.5401e-04 - acc: 1.000 - ETA: 0s - loss: 4.5263e-04 - acc: 1.000 - 27s 4ms/step - loss: 4.5110e-04 - acc: 1.0000 - val_loss: 2.3628e-04 - val_acc: 1.0000\n",
      "Epoch 7/10\n"
     ]
    },
    {
     "name": "stdout",
     "output_type": "stream",
     "text": [
      "6584/6584 [==============================] - ETA: 25s - loss: 4.0142e-04 - acc: 1.00 - ETA: 23s - loss: 4.0348e-04 - acc: 1.00 - ETA: 23s - loss: 4.1305e-04 - acc: 1.00 - ETA: 23s - loss: 3.9975e-04 - acc: 1.00 - ETA: 22s - loss: 4.0406e-04 - acc: 1.00 - ETA: 22s - loss: 4.1187e-04 - acc: 1.00 - ETA: 21s - loss: 4.2638e-04 - acc: 1.00 - ETA: 21s - loss: 4.2224e-04 - acc: 1.00 - ETA: 20s - loss: 4.1611e-04 - acc: 1.00 - ETA: 20s - loss: 4.1746e-04 - acc: 1.00 - ETA: 19s - loss: 4.1143e-04 - acc: 1.00 - ETA: 19s - loss: 4.1452e-04 - acc: 1.00 - ETA: 18s - loss: 4.1823e-04 - acc: 1.00 - ETA: 18s - loss: 4.1722e-04 - acc: 1.00 - ETA: 17s - loss: 4.1136e-04 - acc: 1.00 - ETA: 17s - loss: 4.1721e-04 - acc: 1.00 - ETA: 16s - loss: 4.1463e-04 - acc: 1.00 - ETA: 16s - loss: 4.1225e-04 - acc: 1.00 - ETA: 15s - loss: 4.0856e-04 - acc: 1.00 - ETA: 15s - loss: 4.0741e-04 - acc: 1.00 - ETA: 14s - loss: 4.1075e-04 - acc: 1.00 - ETA: 14s - loss: 4.1219e-04 - acc: 1.00 - ETA: 13s - loss: 4.1141e-04 - acc: 1.00 - ETA: 13s - loss: 4.0726e-04 - acc: 1.00 - ETA: 12s - loss: 4.0956e-04 - acc: 1.00 - ETA: 12s - loss: 4.0614e-04 - acc: 1.00 - ETA: 11s - loss: 4.0755e-04 - acc: 1.00 - ETA: 11s - loss: 4.0762e-04 - acc: 1.00 - ETA: 10s - loss: 4.0621e-04 - acc: 1.00 - ETA: 10s - loss: 4.0250e-04 - acc: 1.00 - ETA: 9s - loss: 4.0097e-04 - acc: 1.0000 - ETA: 9s - loss: 3.9897e-04 - acc: 1.000 - ETA: 8s - loss: 3.9687e-04 - acc: 1.000 - ETA: 8s - loss: 3.9585e-04 - acc: 1.000 - ETA: 7s - loss: 3.9397e-04 - acc: 1.000 - ETA: 7s - loss: 3.9414e-04 - acc: 1.000 - ETA: 7s - loss: 3.9223e-04 - acc: 1.000 - ETA: 6s - loss: 3.9287e-04 - acc: 1.000 - ETA: 6s - loss: 3.9094e-04 - acc: 1.000 - ETA: 5s - loss: 3.9246e-04 - acc: 1.000 - ETA: 5s - loss: 3.9003e-04 - acc: 1.000 - ETA: 4s - loss: 3.8823e-04 - acc: 1.000 - ETA: 4s - loss: 3.8677e-04 - acc: 1.000 - ETA: 3s - loss: 3.8555e-04 - acc: 1.000 - ETA: 3s - loss: 3.8644e-04 - acc: 1.000 - ETA: 2s - loss: 3.8516e-04 - acc: 1.000 - ETA: 2s - loss: 3.8401e-04 - acc: 1.000 - ETA: 1s - loss: 3.8160e-04 - acc: 1.000 - ETA: 1s - loss: 3.8109e-04 - acc: 1.000 - ETA: 0s - loss: 3.8026e-04 - acc: 1.000 - ETA: 0s - loss: 3.7901e-04 - acc: 1.000 - 27s 4ms/step - loss: 3.7847e-04 - acc: 1.0000 - val_loss: 1.9427e-04 - val_acc: 1.0000\n",
      "Epoch 8/10\n",
      "6584/6584 [==============================] - ETA: 24s - loss: 3.6874e-04 - acc: 1.00 - ETA: 23s - loss: 3.6606e-04 - acc: 1.00 - ETA: 22s - loss: 3.5621e-04 - acc: 1.00 - ETA: 22s - loss: 3.7910e-04 - acc: 1.00 - ETA: 22s - loss: 3.7260e-04 - acc: 1.00 - ETA: 21s - loss: 3.6215e-04 - acc: 1.00 - ETA: 20s - loss: 3.5282e-04 - acc: 1.00 - ETA: 20s - loss: 3.4075e-04 - acc: 1.00 - ETA: 19s - loss: 3.4505e-04 - acc: 1.00 - ETA: 19s - loss: 3.4221e-04 - acc: 1.00 - ETA: 19s - loss: 3.4384e-04 - acc: 1.00 - ETA: 18s - loss: 3.4406e-04 - acc: 1.00 - ETA: 18s - loss: 3.4366e-04 - acc: 1.00 - ETA: 17s - loss: 3.4511e-04 - acc: 1.00 - ETA: 17s - loss: 3.4697e-04 - acc: 1.00 - ETA: 16s - loss: 3.4604e-04 - acc: 1.00 - ETA: 16s - loss: 3.4453e-04 - acc: 1.00 - ETA: 16s - loss: 3.4446e-04 - acc: 1.00 - ETA: 15s - loss: 3.3874e-04 - acc: 1.00 - ETA: 15s - loss: 3.3652e-04 - acc: 1.00 - ETA: 14s - loss: 3.3373e-04 - acc: 1.00 - ETA: 14s - loss: 3.3148e-04 - acc: 1.00 - ETA: 13s - loss: 3.3050e-04 - acc: 1.00 - ETA: 13s - loss: 3.2844e-04 - acc: 1.00 - ETA: 12s - loss: 3.2636e-04 - acc: 1.00 - ETA: 12s - loss: 3.2882e-04 - acc: 1.00 - ETA: 11s - loss: 3.2697e-04 - acc: 1.00 - ETA: 11s - loss: 3.2670e-04 - acc: 1.00 - ETA: 10s - loss: 3.2623e-04 - acc: 1.00 - ETA: 10s - loss: 3.2693e-04 - acc: 1.00 - ETA: 9s - loss: 3.2734e-04 - acc: 1.0000 - ETA: 9s - loss: 3.2511e-04 - acc: 1.000 - ETA: 8s - loss: 3.2394e-04 - acc: 1.000 - ETA: 8s - loss: 3.2431e-04 - acc: 1.000 - ETA: 7s - loss: 3.2335e-04 - acc: 1.000 - ETA: 7s - loss: 3.2191e-04 - acc: 1.000 - ETA: 6s - loss: 3.2143e-04 - acc: 1.000 - ETA: 6s - loss: 3.2089e-04 - acc: 1.000 - ETA: 5s - loss: 3.2051e-04 - acc: 1.000 - ETA: 5s - loss: 3.2101e-04 - acc: 1.000 - ETA: 4s - loss: 3.2011e-04 - acc: 1.000 - ETA: 4s - loss: 3.1943e-04 - acc: 1.000 - ETA: 4s - loss: 3.1884e-04 - acc: 1.000 - ETA: 3s - loss: 3.1801e-04 - acc: 1.000 - ETA: 3s - loss: 3.1783e-04 - acc: 1.000 - ETA: 2s - loss: 3.1622e-04 - acc: 1.000 - ETA: 2s - loss: 3.1519e-04 - acc: 1.000 - ETA: 1s - loss: 3.1542e-04 - acc: 1.000 - ETA: 1s - loss: 3.1662e-04 - acc: 1.000 - ETA: 0s - loss: 3.1599e-04 - acc: 1.000 - ETA: 0s - loss: 3.1500e-04 - acc: 1.000 - 26s 4ms/step - loss: 3.1509e-04 - acc: 1.0000 - val_loss: 1.6526e-04 - val_acc: 1.0000\n",
      "Epoch 9/10\n",
      "6584/6584 [==============================] - ETA: 23s - loss: 3.2507e-04 - acc: 1.00 - ETA: 23s - loss: 2.8315e-04 - acc: 1.00 - ETA: 22s - loss: 2.8841e-04 - acc: 1.00 - ETA: 22s - loss: 2.7902e-04 - acc: 1.00 - ETA: 22s - loss: 2.8662e-04 - acc: 1.00 - ETA: 21s - loss: 2.8948e-04 - acc: 1.00 - ETA: 21s - loss: 2.8467e-04 - acc: 1.00 - ETA: 20s - loss: 2.8767e-04 - acc: 1.00 - ETA: 20s - loss: 2.9141e-04 - acc: 1.00 - ETA: 19s - loss: 2.9216e-04 - acc: 1.00 - ETA: 19s - loss: 2.8898e-04 - acc: 1.00 - ETA: 18s - loss: 2.8310e-04 - acc: 1.00 - ETA: 18s - loss: 2.8258e-04 - acc: 1.00 - ETA: 18s - loss: 2.8746e-04 - acc: 1.00 - ETA: 17s - loss: 2.8519e-04 - acc: 1.00 - ETA: 17s - loss: 2.8379e-04 - acc: 1.00 - ETA: 16s - loss: 2.8183e-04 - acc: 1.00 - ETA: 16s - loss: 2.8079e-04 - acc: 1.00 - ETA: 15s - loss: 2.7776e-04 - acc: 1.00 - ETA: 15s - loss: 2.7938e-04 - acc: 1.00 - ETA: 14s - loss: 2.7714e-04 - acc: 1.00 - ETA: 14s - loss: 2.7576e-04 - acc: 1.00 - ETA: 13s - loss: 2.7551e-04 - acc: 1.00 - ETA: 13s - loss: 2.7373e-04 - acc: 1.00 - ETA: 12s - loss: 2.7219e-04 - acc: 1.00 - ETA: 12s - loss: 2.7335e-04 - acc: 1.00 - ETA: 11s - loss: 2.7449e-04 - acc: 1.00 - ETA: 11s - loss: 2.7450e-04 - acc: 1.00 - ETA: 10s - loss: 2.7443e-04 - acc: 1.00 - ETA: 10s - loss: 2.7567e-04 - acc: 1.00 - ETA: 9s - loss: 2.7444e-04 - acc: 1.0000 - ETA: 9s - loss: 2.7182e-04 - acc: 1.000 - ETA: 8s - loss: 2.7410e-04 - acc: 1.000 - ETA: 8s - loss: 2.7372e-04 - acc: 1.000 - ETA: 7s - loss: 2.7505e-04 - acc: 1.000 - ETA: 7s - loss: 2.7559e-04 - acc: 1.000 - ETA: 6s - loss: 2.7355e-04 - acc: 1.000 - ETA: 6s - loss: 2.7398e-04 - acc: 1.000 - ETA: 5s - loss: 2.7349e-04 - acc: 1.000 - ETA: 5s - loss: 2.7488e-04 - acc: 1.000 - ETA: 5s - loss: 2.7664e-04 - acc: 1.000 - ETA: 4s - loss: 2.7574e-04 - acc: 1.000 - ETA: 4s - loss: 2.7491e-04 - acc: 1.000 - ETA: 3s - loss: 2.7402e-04 - acc: 1.000 - ETA: 3s - loss: 2.7403e-04 - acc: 1.000 - ETA: 2s - loss: 2.7370e-04 - acc: 1.000 - ETA: 2s - loss: 2.7501e-04 - acc: 1.000 - ETA: 1s - loss: 2.7391e-04 - acc: 1.000 - ETA: 1s - loss: 2.7474e-04 - acc: 1.000 - ETA: 0s - loss: 2.7430e-04 - acc: 1.000 - ETA: 0s - loss: 2.7461e-04 - acc: 1.000 - 27s 4ms/step - loss: 2.7439e-04 - acc: 1.0000 - val_loss: 1.4289e-04 - val_acc: 1.0000\n",
      "Epoch 10/10\n",
      "6584/6584 [==============================] - ETA: 22s - loss: 2.2048e-04 - acc: 1.00 - ETA: 23s - loss: 2.6180e-04 - acc: 1.00 - ETA: 22s - loss: 2.8630e-04 - acc: 1.00 - ETA: 22s - loss: 2.8063e-04 - acc: 1.00 - ETA: 22s - loss: 2.7816e-04 - acc: 1.00 - ETA: 21s - loss: 2.7028e-04 - acc: 1.00 - ETA: 21s - loss: 2.6149e-04 - acc: 1.00 - ETA: 20s - loss: 2.6544e-04 - acc: 1.00 - ETA: 20s - loss: 2.8399e-04 - acc: 1.00 - ETA: 19s - loss: 2.8387e-04 - acc: 1.00 - ETA: 19s - loss: 2.8202e-04 - acc: 1.00 - ETA: 18s - loss: 2.7814e-04 - acc: 1.00 - ETA: 18s - loss: 2.8178e-04 - acc: 1.00 - ETA: 18s - loss: 2.8279e-04 - acc: 1.00 - ETA: 17s - loss: 2.7977e-04 - acc: 1.00 - ETA: 17s - loss: 2.8061e-04 - acc: 1.00 - ETA: 16s - loss: 2.7690e-04 - acc: 1.00 - ETA: 16s - loss: 2.7174e-04 - acc: 1.00 - ETA: 15s - loss: 2.7060e-04 - acc: 1.00 - ETA: 15s - loss: 2.6935e-04 - acc: 1.00 - ETA: 14s - loss: 2.7022e-04 - acc: 1.00 - ETA: 14s - loss: 2.6858e-04 - acc: 1.00 - ETA: 13s - loss: 2.6541e-04 - acc: 1.00 - ETA: 13s - loss: 2.6279e-04 - acc: 1.00 - ETA: 12s - loss: 2.6053e-04 - acc: 1.00 - ETA: 12s - loss: 2.5842e-04 - acc: 1.00 - ETA: 11s - loss: 2.5854e-04 - acc: 1.00 - ETA: 11s - loss: 2.5616e-04 - acc: 1.00 - ETA: 10s - loss: 2.5515e-04 - acc: 1.00 - ETA: 10s - loss: 2.5508e-04 - acc: 1.00 - ETA: 9s - loss: 2.5394e-04 - acc: 1.0000 - ETA: 9s - loss: 2.5536e-04 - acc: 1.000 - ETA: 8s - loss: 2.5486e-04 - acc: 1.000 - ETA: 8s - loss: 2.5460e-04 - acc: 1.000 - ETA: 7s - loss: 2.5745e-04 - acc: 1.000 - ETA: 7s - loss: 2.5658e-04 - acc: 1.000 - ETA: 6s - loss: 2.5645e-04 - acc: 1.000 - ETA: 6s - loss: 2.5687e-04 - acc: 1.000 - ETA: 6s - loss: 2.5595e-04 - acc: 1.000 - ETA: 5s - loss: 2.5633e-04 - acc: 1.000 - ETA: 5s - loss: 2.5528e-04 - acc: 1.000 - ETA: 4s - loss: 2.5432e-04 - acc: 1.000 - ETA: 4s - loss: 2.5402e-04 - acc: 1.000 - ETA: 3s - loss: 2.5380e-04 - acc: 1.000 - ETA: 3s - loss: 2.5277e-04 - acc: 1.000 - ETA: 2s - loss: 2.5390e-04 - acc: 1.000 - ETA: 2s - loss: 2.5343e-04 - acc: 1.000 - ETA: 1s - loss: 2.5223e-04 - acc: 1.000 - ETA: 1s - loss: 2.5172e-04 - acc: 1.000 - ETA: 0s - loss: 2.5284e-04 - acc: 1.000 - ETA: 0s - loss: 2.5299e-04 - acc: 1.000 - 27s 4ms/step - loss: 2.5268e-04 - acc: 1.0000 - val_loss: 1.2456e-04 - val_acc: 1.0000\n",
      "Accuracy: 100.00%\n"
     ]
    }
   ],
   "source": [
    "history = model.fit(x_train, y_train, epochs = 10, batch_size=128, verbose=1, validation_data=(x_test, y_test))\n",
    "scores = model.evaluate(x_test, y_test, verbose = 0)\n",
    "print(\"Accuracy: %.2f%%\" % (scores[1]*100))"
   ]
  },
  {
   "cell_type": "code",
   "execution_count": 32,
   "metadata": {},
   "outputs": [
    {
     "name": "stderr",
     "output_type": "stream",
     "text": [
      "C:\\Users\\hp\\Anaconda3\\lib\\site-packages\\ipykernel_launcher.py:1: UserWarning: The `nb_epoch` argument in `fit` has been renamed `epochs`.\n",
      "  \"\"\"Entry point for launching an IPython kernel.\n"
     ]
    },
    {
     "name": "stdout",
     "output_type": "stream",
     "text": [
      "Epoch 1/10\n",
      "6584/6584 [==============================] - ETA: 33s - loss: 2.0413e-04 - acc: 1.00 - ETA: 31s - loss: 2.3009e-04 - acc: 1.00 - ETA: 31s - loss: 2.1282e-04 - acc: 1.00 - ETA: 29s - loss: 2.1541e-04 - acc: 1.00 - ETA: 28s - loss: 2.0698e-04 - acc: 1.00 - ETA: 28s - loss: 2.0252e-04 - acc: 1.00 - ETA: 28s - loss: 1.9562e-04 - acc: 1.00 - ETA: 27s - loss: 2.0158e-04 - acc: 1.00 - ETA: 27s - loss: 2.0534e-04 - acc: 1.00 - ETA: 26s - loss: 2.0217e-04 - acc: 1.00 - ETA: 26s - loss: 2.0726e-04 - acc: 1.00 - ETA: 26s - loss: 2.0783e-04 - acc: 1.00 - ETA: 25s - loss: 2.0872e-04 - acc: 1.00 - ETA: 25s - loss: 2.0795e-04 - acc: 1.00 - ETA: 25s - loss: 2.0782e-04 - acc: 1.00 - ETA: 24s - loss: 2.0632e-04 - acc: 1.00 - ETA: 24s - loss: 2.0288e-04 - acc: 1.00 - ETA: 24s - loss: 2.0661e-04 - acc: 1.00 - ETA: 23s - loss: 2.0865e-04 - acc: 1.00 - ETA: 23s - loss: 2.1103e-04 - acc: 1.00 - ETA: 23s - loss: 2.0874e-04 - acc: 1.00 - ETA: 23s - loss: 2.1300e-04 - acc: 1.00 - ETA: 22s - loss: 2.1636e-04 - acc: 1.00 - ETA: 22s - loss: 2.1633e-04 - acc: 1.00 - ETA: 22s - loss: 2.1689e-04 - acc: 1.00 - ETA: 21s - loss: 2.1780e-04 - acc: 1.00 - ETA: 21s - loss: 2.1683e-04 - acc: 1.00 - ETA: 21s - loss: 2.1528e-04 - acc: 1.00 - ETA: 21s - loss: 2.1501e-04 - acc: 1.00 - ETA: 20s - loss: 2.1666e-04 - acc: 1.00 - ETA: 20s - loss: 2.1663e-04 - acc: 1.00 - ETA: 20s - loss: 2.1536e-04 - acc: 1.00 - ETA: 20s - loss: 2.1632e-04 - acc: 1.00 - ETA: 19s - loss: 2.1736e-04 - acc: 1.00 - ETA: 19s - loss: 2.1686e-04 - acc: 1.00 - ETA: 19s - loss: 2.1658e-04 - acc: 1.00 - ETA: 18s - loss: 2.1774e-04 - acc: 1.00 - ETA: 18s - loss: 2.1695e-04 - acc: 1.00 - ETA: 18s - loss: 2.1861e-04 - acc: 1.00 - ETA: 18s - loss: 2.1749e-04 - acc: 1.00 - ETA: 17s - loss: 2.1791e-04 - acc: 1.00 - ETA: 17s - loss: 2.1768e-04 - acc: 1.00 - ETA: 17s - loss: 2.1724e-04 - acc: 1.00 - ETA: 16s - loss: 2.1712e-04 - acc: 1.00 - ETA: 16s - loss: 2.1600e-04 - acc: 1.00 - ETA: 16s - loss: 2.1582e-04 - acc: 1.00 - ETA: 15s - loss: 2.1527e-04 - acc: 1.00 - ETA: 15s - loss: 2.1542e-04 - acc: 1.00 - ETA: 15s - loss: 2.1549e-04 - acc: 1.00 - ETA: 15s - loss: 2.1501e-04 - acc: 1.00 - ETA: 14s - loss: 2.1556e-04 - acc: 1.00 - ETA: 14s - loss: 2.1525e-04 - acc: 1.00 - ETA: 14s - loss: 2.1536e-04 - acc: 1.00 - ETA: 13s - loss: 2.1523e-04 - acc: 1.00 - ETA: 13s - loss: 2.1457e-04 - acc: 1.00 - ETA: 13s - loss: 2.1548e-04 - acc: 1.00 - ETA: 13s - loss: 2.1522e-04 - acc: 1.00 - ETA: 12s - loss: 2.1492e-04 - acc: 1.00 - ETA: 12s - loss: 2.1428e-04 - acc: 1.00 - ETA: 12s - loss: 2.1409e-04 - acc: 1.00 - ETA: 11s - loss: 2.1352e-04 - acc: 1.00 - ETA: 11s - loss: 2.1397e-04 - acc: 1.00 - ETA: 11s - loss: 2.1445e-04 - acc: 1.00 - ETA: 11s - loss: 2.1491e-04 - acc: 1.00 - ETA: 10s - loss: 2.1537e-04 - acc: 1.00 - ETA: 10s - loss: 2.1433e-04 - acc: 1.00 - ETA: 10s - loss: 2.1447e-04 - acc: 1.00 - ETA: 9s - loss: 2.1464e-04 - acc: 1.0000 - ETA: 9s - loss: 2.1448e-04 - acc: 1.000 - ETA: 9s - loss: 2.1410e-04 - acc: 1.000 - ETA: 9s - loss: 2.1351e-04 - acc: 1.000 - ETA: 8s - loss: 2.1336e-04 - acc: 1.000 - ETA: 8s - loss: 2.1307e-04 - acc: 1.000 - ETA: 8s - loss: 2.1341e-04 - acc: 1.000 - ETA: 7s - loss: 2.1346e-04 - acc: 1.000 - ETA: 7s - loss: 2.1262e-04 - acc: 1.000 - ETA: 7s - loss: 2.1216e-04 - acc: 1.000 - ETA: 7s - loss: 2.1148e-04 - acc: 1.000 - ETA: 6s - loss: 2.1143e-04 - acc: 1.000 - ETA: 6s - loss: 2.1143e-04 - acc: 1.000 - ETA: 6s - loss: 2.1065e-04 - acc: 1.000 - ETA: 5s - loss: 2.0972e-04 - acc: 1.000 - ETA: 5s - loss: 2.1029e-04 - acc: 1.000 - ETA: 5s - loss: 2.0960e-04 - acc: 1.000 - ETA: 5s - loss: 2.0960e-04 - acc: 1.000 - ETA: 4s - loss: 2.0985e-04 - acc: 1.000 - ETA: 4s - loss: 2.1062e-04 - acc: 1.000 - ETA: 4s - loss: 2.1026e-04 - acc: 1.000 - ETA: 3s - loss: 2.0999e-04 - acc: 1.000 - ETA: 3s - loss: 2.0981e-04 - acc: 1.000 - ETA: 3s - loss: 2.0984e-04 - acc: 1.000 - ETA: 3s - loss: 2.0921e-04 - acc: 1.000 - ETA: 2s - loss: 2.0843e-04 - acc: 1.000 - ETA: 2s - loss: 2.0817e-04 - acc: 1.000 - ETA: 2s - loss: 2.0801e-04 - acc: 1.000 - ETA: 1s - loss: 2.0777e-04 - acc: 1.000 - ETA: 1s - loss: 2.0740e-04 - acc: 1.000 - ETA: 1s - loss: 2.0678e-04 - acc: 1.000 - ETA: 1s - loss: 2.0649e-04 - acc: 1.000 - ETA: 0s - loss: 2.0676e-04 - acc: 1.000 - ETA: 0s - loss: 2.0806e-04 - acc: 1.000 - ETA: 0s - loss: 2.0710e-04 - acc: 1.000 - 29s 4ms/step - loss: 2.0650e-04 - acc: 1.0000\n",
      "Epoch 2/10\n",
      "6584/6584 [==============================] - ETA: 28s - loss: 1.6024e-04 - acc: 1.00 - ETA: 27s - loss: 1.6274e-04 - acc: 1.00 - ETA: 27s - loss: 1.8383e-04 - acc: 1.00 - ETA: 27s - loss: 1.9738e-04 - acc: 1.00 - ETA: 26s - loss: 1.9844e-04 - acc: 1.00 - ETA: 26s - loss: 1.8813e-04 - acc: 1.00 - ETA: 26s - loss: 1.8620e-04 - acc: 1.00 - ETA: 25s - loss: 1.8217e-04 - acc: 1.00 - ETA: 25s - loss: 1.7824e-04 - acc: 1.00 - ETA: 25s - loss: 1.7330e-04 - acc: 1.00 - ETA: 24s - loss: 1.7515e-04 - acc: 1.00 - ETA: 24s - loss: 1.7249e-04 - acc: 1.00 - ETA: 24s - loss: 1.7353e-04 - acc: 1.00 - ETA: 24s - loss: 1.7436e-04 - acc: 1.00 - ETA: 23s - loss: 1.7711e-04 - acc: 1.00 - ETA: 23s - loss: 1.7747e-04 - acc: 1.00 - ETA: 22s - loss: 1.7584e-04 - acc: 1.00 - ETA: 22s - loss: 1.7751e-04 - acc: 1.00 - ETA: 22s - loss: 1.8033e-04 - acc: 1.00 - ETA: 22s - loss: 1.8410e-04 - acc: 1.00 - ETA: 21s - loss: 1.8415e-04 - acc: 1.00 - ETA: 21s - loss: 1.8284e-04 - acc: 1.00 - ETA: 21s - loss: 1.8352e-04 - acc: 1.00 - ETA: 21s - loss: 1.8172e-04 - acc: 1.00 - ETA: 20s - loss: 1.8082e-04 - acc: 1.00 - ETA: 20s - loss: 1.8143e-04 - acc: 1.00 - ETA: 20s - loss: 1.8110e-04 - acc: 1.00 - ETA: 19s - loss: 1.8279e-04 - acc: 1.00 - ETA: 19s - loss: 1.8177e-04 - acc: 1.00 - ETA: 19s - loss: 1.8204e-04 - acc: 1.00 - ETA: 19s - loss: 1.8056e-04 - acc: 1.00 - ETA: 18s - loss: 1.8011e-04 - acc: 1.00 - ETA: 18s - loss: 1.7870e-04 - acc: 1.00 - ETA: 18s - loss: 1.7917e-04 - acc: 1.00 - ETA: 18s - loss: 1.7928e-04 - acc: 1.00 - ETA: 17s - loss: 1.7935e-04 - acc: 1.00 - ETA: 17s - loss: 1.7987e-04 - acc: 1.00 - ETA: 17s - loss: 1.8041e-04 - acc: 1.00 - ETA: 17s - loss: 1.7998e-04 - acc: 1.00 - ETA: 16s - loss: 1.8093e-04 - acc: 1.00 - ETA: 16s - loss: 1.8058e-04 - acc: 1.00 - ETA: 16s - loss: 1.8095e-04 - acc: 1.00 - ETA: 15s - loss: 1.8140e-04 - acc: 1.00 - ETA: 15s - loss: 1.8165e-04 - acc: 1.00 - ETA: 15s - loss: 1.8094e-04 - acc: 1.00 - ETA: 15s - loss: 1.8034e-04 - acc: 1.00 - ETA: 14s - loss: 1.8052e-04 - acc: 1.00 - ETA: 14s - loss: 1.8233e-04 - acc: 1.00 - ETA: 14s - loss: 1.8160e-04 - acc: 1.00 - ETA: 14s - loss: 1.8136e-04 - acc: 1.00 - ETA: 13s - loss: 1.8093e-04 - acc: 1.00 - ETA: 13s - loss: 1.8092e-04 - acc: 1.00 - ETA: 13s - loss: 1.8016e-04 - acc: 1.00 - ETA: 13s - loss: 1.7948e-04 - acc: 1.00 - ETA: 12s - loss: 1.7954e-04 - acc: 1.00 - ETA: 12s - loss: 1.7960e-04 - acc: 1.00 - ETA: 12s - loss: 1.7861e-04 - acc: 1.00 - ETA: 11s - loss: 1.7791e-04 - acc: 1.00 - ETA: 11s - loss: 1.7972e-04 - acc: 1.00 - ETA: 11s - loss: 1.7923e-04 - acc: 1.00 - ETA: 11s - loss: 1.7891e-04 - acc: 1.00 - ETA: 10s - loss: 1.7835e-04 - acc: 1.00 - ETA: 10s - loss: 1.7730e-04 - acc: 1.00 - ETA: 10s - loss: 1.7622e-04 - acc: 1.00 - ETA: 10s - loss: 1.7648e-04 - acc: 1.00 - ETA: 9s - loss: 1.7596e-04 - acc: 1.0000 - ETA: 9s - loss: 1.7530e-04 - acc: 1.000 - ETA: 9s - loss: 1.7560e-04 - acc: 1.000 - ETA: 9s - loss: 1.7566e-04 - acc: 1.000 - ETA: 8s - loss: 1.7482e-04 - acc: 1.000 - ETA: 8s - loss: 1.7504e-04 - acc: 1.000 - ETA: 8s - loss: 1.7466e-04 - acc: 1.000 - ETA: 7s - loss: 1.7448e-04 - acc: 1.000 - ETA: 7s - loss: 1.7415e-04 - acc: 1.000 - ETA: 7s - loss: 1.7390e-04 - acc: 1.000 - ETA: 7s - loss: 1.7348e-04 - acc: 1.000 - ETA: 6s - loss: 1.7380e-04 - acc: 1.000 - ETA: 6s - loss: 1.7457e-04 - acc: 1.000 - ETA: 6s - loss: 1.7423e-04 - acc: 1.000 - ETA: 6s - loss: 1.7367e-04 - acc: 1.000 - ETA: 5s - loss: 1.7366e-04 - acc: 1.000 - ETA: 5s - loss: 1.7283e-04 - acc: 1.000 - ETA: 5s - loss: 1.7248e-04 - acc: 1.000 - ETA: 5s - loss: 1.7251e-04 - acc: 1.000 - ETA: 4s - loss: 1.7280e-04 - acc: 1.000 - ETA: 4s - loss: 1.7265e-04 - acc: 1.000 - ETA: 4s - loss: 1.7251e-04 - acc: 1.000 - ETA: 3s - loss: 1.7252e-04 - acc: 1.000 - ETA: 3s - loss: 1.7220e-04 - acc: 1.000 - ETA: 3s - loss: 1.7226e-04 - acc: 1.000 - ETA: 3s - loss: 1.7277e-04 - acc: 1.000 - ETA: 2s - loss: 1.7280e-04 - acc: 1.000 - ETA: 2s - loss: 1.7278e-04 - acc: 1.000 - ETA: 2s - loss: 1.7256e-04 - acc: 1.000 - ETA: 2s - loss: 1.7265e-04 - acc: 1.000 - ETA: 1s - loss: 1.7253e-04 - acc: 1.000 - ETA: 1s - loss: 1.7228e-04 - acc: 1.000 - ETA: 1s - loss: 1.7184e-04 - acc: 1.000 - ETA: 1s - loss: 1.7152e-04 - acc: 1.000 - ETA: 0s - loss: 1.7127e-04 - acc: 1.000 - ETA: 0s - loss: 1.7144e-04 - acc: 1.000 - ETA: 0s - loss: 1.7124e-04 - acc: 1.000 - 28s 4ms/step - loss: 1.7094e-04 - acc: 1.0000\n",
      "Epoch 3/10\n"
     ]
    },
    {
     "name": "stdout",
     "output_type": "stream",
     "text": [
      "6584/6584 [==============================] - ETA: 28s - loss: 2.0558e-04 - acc: 1.00 - ETA: 26s - loss: 2.0901e-04 - acc: 1.00 - ETA: 26s - loss: 1.9435e-04 - acc: 1.00 - ETA: 26s - loss: 1.9203e-04 - acc: 1.00 - ETA: 26s - loss: 1.8365e-04 - acc: 1.00 - ETA: 25s - loss: 1.7484e-04 - acc: 1.00 - ETA: 25s - loss: 1.6990e-04 - acc: 1.00 - ETA: 25s - loss: 1.6696e-04 - acc: 1.00 - ETA: 24s - loss: 1.6389e-04 - acc: 1.00 - ETA: 24s - loss: 1.6135e-04 - acc: 1.00 - ETA: 24s - loss: 1.6971e-04 - acc: 1.00 - ETA: 24s - loss: 1.6475e-04 - acc: 1.00 - ETA: 23s - loss: 1.6840e-04 - acc: 1.00 - ETA: 23s - loss: 1.6894e-04 - acc: 1.00 - ETA: 23s - loss: 1.6586e-04 - acc: 1.00 - ETA: 23s - loss: 1.6488e-04 - acc: 1.00 - ETA: 22s - loss: 1.6275e-04 - acc: 1.00 - ETA: 22s - loss: 1.6002e-04 - acc: 1.00 - ETA: 22s - loss: 1.6089e-04 - acc: 1.00 - ETA: 22s - loss: 1.6315e-04 - acc: 1.00 - ETA: 21s - loss: 1.6361e-04 - acc: 1.00 - ETA: 21s - loss: 1.6338e-04 - acc: 1.00 - ETA: 21s - loss: 1.6086e-04 - acc: 1.00 - ETA: 21s - loss: 1.6114e-04 - acc: 1.00 - ETA: 20s - loss: 1.5875e-04 - acc: 1.00 - ETA: 20s - loss: 1.5749e-04 - acc: 1.00 - ETA: 20s - loss: 1.5722e-04 - acc: 1.00 - ETA: 19s - loss: 1.5634e-04 - acc: 1.00 - ETA: 19s - loss: 1.5629e-04 - acc: 1.00 - ETA: 19s - loss: 1.5412e-04 - acc: 1.00 - ETA: 19s - loss: 1.5548e-04 - acc: 1.00 - ETA: 18s - loss: 1.5406e-04 - acc: 1.00 - ETA: 18s - loss: 1.5373e-04 - acc: 1.00 - ETA: 18s - loss: 1.5329e-04 - acc: 1.00 - ETA: 18s - loss: 1.5274e-04 - acc: 1.00 - ETA: 17s - loss: 1.5243e-04 - acc: 1.00 - ETA: 17s - loss: 1.5109e-04 - acc: 1.00 - ETA: 17s - loss: 1.5038e-04 - acc: 1.00 - ETA: 16s - loss: 1.5107e-04 - acc: 1.00 - ETA: 16s - loss: 1.5149e-04 - acc: 1.00 - ETA: 16s - loss: 1.5124e-04 - acc: 1.00 - ETA: 16s - loss: 1.5039e-04 - acc: 1.00 - ETA: 15s - loss: 1.5021e-04 - acc: 1.00 - ETA: 15s - loss: 1.4962e-04 - acc: 1.00 - ETA: 15s - loss: 1.5043e-04 - acc: 1.00 - ETA: 15s - loss: 1.4998e-04 - acc: 1.00 - ETA: 14s - loss: 1.4898e-04 - acc: 1.00 - ETA: 14s - loss: 1.4818e-04 - acc: 1.00 - ETA: 14s - loss: 1.4803e-04 - acc: 1.00 - ETA: 14s - loss: 1.4769e-04 - acc: 1.00 - ETA: 13s - loss: 1.4737e-04 - acc: 1.00 - ETA: 13s - loss: 1.4714e-04 - acc: 1.00 - ETA: 13s - loss: 1.4737e-04 - acc: 1.00 - ETA: 13s - loss: 1.4680e-04 - acc: 1.00 - ETA: 12s - loss: 1.4721e-04 - acc: 1.00 - ETA: 12s - loss: 1.4687e-04 - acc: 1.00 - ETA: 12s - loss: 1.4686e-04 - acc: 1.00 - ETA: 11s - loss: 1.4861e-04 - acc: 1.00 - ETA: 11s - loss: 1.4920e-04 - acc: 1.00 - ETA: 11s - loss: 1.4887e-04 - acc: 1.00 - ETA: 11s - loss: 1.4884e-04 - acc: 1.00 - ETA: 10s - loss: 1.4849e-04 - acc: 1.00 - ETA: 10s - loss: 1.4828e-04 - acc: 1.00 - ETA: 10s - loss: 1.4908e-04 - acc: 1.00 - ETA: 10s - loss: 1.4940e-04 - acc: 1.00 - ETA: 9s - loss: 1.4860e-04 - acc: 1.0000 - ETA: 9s - loss: 1.4825e-04 - acc: 1.000 - ETA: 9s - loss: 1.4804e-04 - acc: 1.000 - ETA: 9s - loss: 1.4835e-04 - acc: 1.000 - ETA: 8s - loss: 1.4943e-04 - acc: 1.000 - ETA: 8s - loss: 1.4932e-04 - acc: 1.000 - ETA: 8s - loss: 1.4954e-04 - acc: 1.000 - ETA: 7s - loss: 1.4918e-04 - acc: 1.000 - ETA: 7s - loss: 1.4999e-04 - acc: 1.000 - ETA: 7s - loss: 1.4981e-04 - acc: 1.000 - ETA: 7s - loss: 1.4979e-04 - acc: 1.000 - ETA: 6s - loss: 1.4963e-04 - acc: 1.000 - ETA: 6s - loss: 1.4982e-04 - acc: 1.000 - ETA: 6s - loss: 1.4999e-04 - acc: 1.000 - ETA: 6s - loss: 1.4984e-04 - acc: 1.000 - ETA: 5s - loss: 1.4968e-04 - acc: 1.000 - ETA: 5s - loss: 1.4911e-04 - acc: 1.000 - ETA: 5s - loss: 1.4869e-04 - acc: 1.000 - ETA: 5s - loss: 1.4906e-04 - acc: 1.000 - ETA: 4s - loss: 1.4895e-04 - acc: 1.000 - ETA: 4s - loss: 1.4838e-04 - acc: 1.000 - ETA: 4s - loss: 1.4809e-04 - acc: 1.000 - ETA: 3s - loss: 1.4805e-04 - acc: 1.000 - ETA: 3s - loss: 1.4784e-04 - acc: 1.000 - ETA: 3s - loss: 1.4799e-04 - acc: 1.000 - ETA: 3s - loss: 1.4799e-04 - acc: 1.000 - ETA: 2s - loss: 1.4871e-04 - acc: 1.000 - ETA: 2s - loss: 1.4838e-04 - acc: 1.000 - ETA: 2s - loss: 1.4878e-04 - acc: 1.000 - ETA: 2s - loss: 1.4886e-04 - acc: 1.000 - ETA: 1s - loss: 1.4848e-04 - acc: 1.000 - ETA: 1s - loss: 1.4812e-04 - acc: 1.000 - ETA: 1s - loss: 1.4841e-04 - acc: 1.000 - ETA: 1s - loss: 1.4846e-04 - acc: 1.000 - ETA: 0s - loss: 1.4845e-04 - acc: 1.000 - ETA: 0s - loss: 1.4856e-04 - acc: 1.000 - ETA: 0s - loss: 1.4888e-04 - acc: 1.000 - 28s 4ms/step - loss: 1.4860e-04 - acc: 1.0000\n",
      "Epoch 4/10\n",
      "6584/6584 [==============================] - ETA: 25s - loss: 1.4457e-04 - acc: 1.00 - ETA: 26s - loss: 1.4463e-04 - acc: 1.00 - ETA: 26s - loss: 1.2912e-04 - acc: 1.00 - ETA: 26s - loss: 1.3863e-04 - acc: 1.00 - ETA: 25s - loss: 1.4336e-04 - acc: 1.00 - ETA: 25s - loss: 1.5108e-04 - acc: 1.00 - ETA: 25s - loss: 1.4670e-04 - acc: 1.00 - ETA: 25s - loss: 1.4568e-04 - acc: 1.00 - ETA: 25s - loss: 1.5477e-04 - acc: 1.00 - ETA: 25s - loss: 1.5373e-04 - acc: 1.00 - ETA: 24s - loss: 1.4705e-04 - acc: 1.00 - ETA: 24s - loss: 1.4710e-04 - acc: 1.00 - ETA: 24s - loss: 1.4446e-04 - acc: 1.00 - ETA: 24s - loss: 1.4361e-04 - acc: 1.00 - ETA: 23s - loss: 1.4249e-04 - acc: 1.00 - ETA: 23s - loss: 1.4162e-04 - acc: 1.00 - ETA: 24s - loss: 1.4046e-04 - acc: 1.00 - ETA: 24s - loss: 1.3903e-04 - acc: 1.00 - ETA: 24s - loss: 1.4027e-04 - acc: 1.00 - ETA: 23s - loss: 1.4050e-04 - acc: 1.00 - ETA: 23s - loss: 1.4192e-04 - acc: 1.00 - ETA: 23s - loss: 1.4135e-04 - acc: 1.00 - ETA: 22s - loss: 1.3891e-04 - acc: 1.00 - ETA: 22s - loss: 1.3827e-04 - acc: 1.00 - ETA: 22s - loss: 1.3701e-04 - acc: 1.00 - ETA: 22s - loss: 1.3608e-04 - acc: 1.00 - ETA: 21s - loss: 1.3447e-04 - acc: 1.00 - ETA: 21s - loss: 1.3447e-04 - acc: 1.00 - ETA: 21s - loss: 1.3352e-04 - acc: 1.00 - ETA: 20s - loss: 1.3466e-04 - acc: 1.00 - ETA: 20s - loss: 1.3421e-04 - acc: 1.00 - ETA: 20s - loss: 1.3525e-04 - acc: 1.00 - ETA: 19s - loss: 1.3677e-04 - acc: 1.00 - ETA: 19s - loss: 1.3693e-04 - acc: 1.00 - ETA: 19s - loss: 1.3625e-04 - acc: 1.00 - ETA: 19s - loss: 1.3707e-04 - acc: 1.00 - ETA: 18s - loss: 1.3663e-04 - acc: 1.00 - ETA: 18s - loss: 1.3632e-04 - acc: 1.00 - ETA: 18s - loss: 1.3635e-04 - acc: 1.00 - ETA: 17s - loss: 1.3537e-04 - acc: 1.00 - ETA: 17s - loss: 1.3568e-04 - acc: 1.00 - ETA: 17s - loss: 1.3694e-04 - acc: 1.00 - ETA: 17s - loss: 1.3718e-04 - acc: 1.00 - ETA: 16s - loss: 1.3653e-04 - acc: 1.00 - ETA: 16s - loss: 1.3594e-04 - acc: 1.00 - ETA: 16s - loss: 1.3645e-04 - acc: 1.00 - ETA: 15s - loss: 1.3606e-04 - acc: 1.00 - ETA: 15s - loss: 1.3563e-04 - acc: 1.00 - ETA: 15s - loss: 1.3711e-04 - acc: 1.00 - ETA: 15s - loss: 1.3624e-04 - acc: 1.00 - ETA: 14s - loss: 1.3557e-04 - acc: 1.00 - ETA: 14s - loss: 1.3568e-04 - acc: 1.00 - ETA: 14s - loss: 1.3592e-04 - acc: 1.00 - ETA: 13s - loss: 1.3603e-04 - acc: 1.00 - ETA: 13s - loss: 1.3494e-04 - acc: 1.00 - ETA: 13s - loss: 1.3523e-04 - acc: 1.00 - ETA: 13s - loss: 1.3599e-04 - acc: 1.00 - ETA: 12s - loss: 1.3600e-04 - acc: 1.00 - ETA: 12s - loss: 1.3601e-04 - acc: 1.00 - ETA: 12s - loss: 1.3688e-04 - acc: 1.00 - ETA: 11s - loss: 1.3673e-04 - acc: 1.00 - ETA: 11s - loss: 1.3701e-04 - acc: 1.00 - ETA: 11s - loss: 1.3752e-04 - acc: 1.00 - ETA: 10s - loss: 1.3712e-04 - acc: 1.00 - ETA: 10s - loss: 1.3677e-04 - acc: 1.00 - ETA: 10s - loss: 1.3627e-04 - acc: 1.00 - ETA: 10s - loss: 1.3721e-04 - acc: 1.00 - ETA: 9s - loss: 1.3699e-04 - acc: 1.0000 - ETA: 9s - loss: 1.3709e-04 - acc: 1.000 - ETA: 9s - loss: 1.3722e-04 - acc: 1.000 - ETA: 8s - loss: 1.3699e-04 - acc: 1.000 - ETA: 8s - loss: 1.3717e-04 - acc: 1.000 - ETA: 8s - loss: 1.3701e-04 - acc: 1.000 - ETA: 8s - loss: 1.3644e-04 - acc: 1.000 - ETA: 7s - loss: 1.3622e-04 - acc: 1.000 - ETA: 7s - loss: 1.3592e-04 - acc: 1.000 - ETA: 7s - loss: 1.3551e-04 - acc: 1.000 - ETA: 7s - loss: 1.3539e-04 - acc: 1.000 - ETA: 6s - loss: 1.3520e-04 - acc: 1.000 - ETA: 6s - loss: 1.3503e-04 - acc: 1.000 - ETA: 6s - loss: 1.3530e-04 - acc: 1.000 - ETA: 5s - loss: 1.3531e-04 - acc: 1.000 - ETA: 5s - loss: 1.3539e-04 - acc: 1.000 - ETA: 5s - loss: 1.3524e-04 - acc: 1.000 - ETA: 5s - loss: 1.3531e-04 - acc: 1.000 - ETA: 4s - loss: 1.3629e-04 - acc: 1.000 - ETA: 4s - loss: 1.3624e-04 - acc: 1.000 - ETA: 4s - loss: 1.3597e-04 - acc: 1.000 - ETA: 3s - loss: 1.3573e-04 - acc: 1.000 - ETA: 3s - loss: 1.3560e-04 - acc: 1.000 - ETA: 3s - loss: 1.3530e-04 - acc: 1.000 - ETA: 3s - loss: 1.3517e-04 - acc: 1.000 - ETA: 2s - loss: 1.3459e-04 - acc: 1.000 - ETA: 2s - loss: 1.3482e-04 - acc: 1.000 - ETA: 2s - loss: 1.3481e-04 - acc: 1.000 - ETA: 1s - loss: 1.3492e-04 - acc: 1.000 - ETA: 1s - loss: 1.3510e-04 - acc: 1.000 - ETA: 1s - loss: 1.3484e-04 - acc: 1.000 - ETA: 1s - loss: 1.3463e-04 - acc: 1.000 - ETA: 0s - loss: 1.3432e-04 - acc: 1.000 - ETA: 0s - loss: 1.3409e-04 - acc: 1.000 - ETA: 0s - loss: 1.3362e-04 - acc: 1.000 - 30s 5ms/step - loss: 1.3339e-04 - acc: 1.0000\n",
      "Epoch 5/10\n"
     ]
    },
    {
     "name": "stdout",
     "output_type": "stream",
     "text": [
      "6584/6584 [==============================] - ETA: 40s - loss: 1.1458e-04 - acc: 1.00 - ETA: 35s - loss: 1.1863e-04 - acc: 1.00 - ETA: 35s - loss: 1.1911e-04 - acc: 1.00 - ETA: 39s - loss: 1.1490e-04 - acc: 1.00 - ETA: 38s - loss: 1.1130e-04 - acc: 1.00 - ETA: 36s - loss: 1.1179e-04 - acc: 1.00 - ETA: 35s - loss: 1.1840e-04 - acc: 1.00 - ETA: 34s - loss: 1.1650e-04 - acc: 1.00 - ETA: 33s - loss: 1.1555e-04 - acc: 1.00 - ETA: 32s - loss: 1.1434e-04 - acc: 1.00 - ETA: 31s - loss: 1.1810e-04 - acc: 1.00 - ETA: 30s - loss: 1.3384e-04 - acc: 1.00 - ETA: 30s - loss: 1.3302e-04 - acc: 1.00 - ETA: 29s - loss: 1.3303e-04 - acc: 1.00 - ETA: 29s - loss: 1.3270e-04 - acc: 1.00 - ETA: 29s - loss: 1.3236e-04 - acc: 1.00 - ETA: 29s - loss: 1.3394e-04 - acc: 1.00 - ETA: 29s - loss: 1.3391e-04 - acc: 1.00 - ETA: 28s - loss: 1.3218e-04 - acc: 1.00 - ETA: 28s - loss: 1.3032e-04 - acc: 1.00 - ETA: 27s - loss: 1.2913e-04 - acc: 1.00 - ETA: 27s - loss: 1.2926e-04 - acc: 1.00 - ETA: 26s - loss: 1.2851e-04 - acc: 1.00 - ETA: 26s - loss: 1.2811e-04 - acc: 1.00 - ETA: 25s - loss: 1.2689e-04 - acc: 1.00 - ETA: 25s - loss: 1.2783e-04 - acc: 1.00 - ETA: 24s - loss: 1.2623e-04 - acc: 1.00 - ETA: 24s - loss: 1.2771e-04 - acc: 1.00 - ETA: 24s - loss: 1.2710e-04 - acc: 1.00 - ETA: 23s - loss: 1.2657e-04 - acc: 1.00 - ETA: 23s - loss: 1.2591e-04 - acc: 1.00 - ETA: 23s - loss: 1.2511e-04 - acc: 1.00 - ETA: 23s - loss: 1.2390e-04 - acc: 1.00 - ETA: 22s - loss: 1.2293e-04 - acc: 1.00 - ETA: 22s - loss: 1.2224e-04 - acc: 1.00 - ETA: 22s - loss: 1.2162e-04 - acc: 1.00 - ETA: 21s - loss: 1.2070e-04 - acc: 1.00 - ETA: 21s - loss: 1.2319e-04 - acc: 1.00 - ETA: 21s - loss: 1.2263e-04 - acc: 1.00 - ETA: 20s - loss: 1.2346e-04 - acc: 1.00 - ETA: 20s - loss: 1.2289e-04 - acc: 1.00 - ETA: 20s - loss: 1.2248e-04 - acc: 1.00 - ETA: 19s - loss: 1.2172e-04 - acc: 1.00 - ETA: 19s - loss: 1.2311e-04 - acc: 1.00 - ETA: 19s - loss: 1.2298e-04 - acc: 1.00 - ETA: 18s - loss: 1.2246e-04 - acc: 1.00 - ETA: 18s - loss: 1.2248e-04 - acc: 1.00 - ETA: 18s - loss: 1.2297e-04 - acc: 1.00 - ETA: 17s - loss: 1.2242e-04 - acc: 1.00 - ETA: 17s - loss: 1.2263e-04 - acc: 1.00 - ETA: 17s - loss: 1.2210e-04 - acc: 1.00 - ETA: 16s - loss: 1.2199e-04 - acc: 1.00 - ETA: 16s - loss: 1.2171e-04 - acc: 1.00 - ETA: 16s - loss: 1.2263e-04 - acc: 1.00 - ETA: 16s - loss: 1.2261e-04 - acc: 1.00 - ETA: 16s - loss: 1.2204e-04 - acc: 1.00 - ETA: 15s - loss: 1.2148e-04 - acc: 1.00 - ETA: 15s - loss: 1.2171e-04 - acc: 1.00 - ETA: 15s - loss: 1.2116e-04 - acc: 1.00 - ETA: 15s - loss: 1.2168e-04 - acc: 1.00 - ETA: 14s - loss: 1.2081e-04 - acc: 1.00 - ETA: 14s - loss: 1.2122e-04 - acc: 1.00 - ETA: 14s - loss: 1.2084e-04 - acc: 1.00 - ETA: 13s - loss: 1.2023e-04 - acc: 1.00 - ETA: 13s - loss: 1.1974e-04 - acc: 1.00 - ETA: 12s - loss: 1.2013e-04 - acc: 1.00 - ETA: 12s - loss: 1.1984e-04 - acc: 1.00 - ETA: 12s - loss: 1.1986e-04 - acc: 1.00 - ETA: 12s - loss: 1.1956e-04 - acc: 1.00 - ETA: 11s - loss: 1.1913e-04 - acc: 1.00 - ETA: 11s - loss: 1.1931e-04 - acc: 1.00 - ETA: 11s - loss: 1.1964e-04 - acc: 1.00 - ETA: 10s - loss: 1.1893e-04 - acc: 1.00 - ETA: 10s - loss: 1.1872e-04 - acc: 1.00 - ETA: 10s - loss: 1.1877e-04 - acc: 1.00 - ETA: 9s - loss: 1.1881e-04 - acc: 1.0000 - ETA: 9s - loss: 1.1831e-04 - acc: 1.000 - ETA: 8s - loss: 1.1806e-04 - acc: 1.000 - ETA: 8s - loss: 1.1776e-04 - acc: 1.000 - ETA: 8s - loss: 1.1790e-04 - acc: 1.000 - ETA: 7s - loss: 1.1749e-04 - acc: 1.000 - ETA: 7s - loss: 1.1736e-04 - acc: 1.000 - ETA: 7s - loss: 1.1752e-04 - acc: 1.000 - ETA: 6s - loss: 1.1742e-04 - acc: 1.000 - ETA: 6s - loss: 1.1735e-04 - acc: 1.000 - ETA: 6s - loss: 1.1692e-04 - acc: 1.000 - ETA: 5s - loss: 1.1703e-04 - acc: 1.000 - ETA: 5s - loss: 1.1729e-04 - acc: 1.000 - ETA: 5s - loss: 1.1708e-04 - acc: 1.000 - ETA: 4s - loss: 1.1691e-04 - acc: 1.000 - ETA: 4s - loss: 1.1687e-04 - acc: 1.000 - ETA: 3s - loss: 1.1675e-04 - acc: 1.000 - ETA: 3s - loss: 1.1646e-04 - acc: 1.000 - ETA: 3s - loss: 1.1645e-04 - acc: 1.000 - ETA: 2s - loss: 1.1622e-04 - acc: 1.000 - ETA: 2s - loss: 1.1643e-04 - acc: 1.000 - ETA: 2s - loss: 1.1650e-04 - acc: 1.000 - ETA: 1s - loss: 1.1635e-04 - acc: 1.000 - ETA: 1s - loss: 1.1641e-04 - acc: 1.000 - ETA: 1s - loss: 1.1633e-04 - acc: 1.000 - ETA: 0s - loss: 1.1614e-04 - acc: 1.000 - ETA: 0s - loss: 1.1611e-04 - acc: 1.000 - 38s 6ms/step - loss: 1.1612e-04 - acc: 1.0000\n",
      "Epoch 6/10\n",
      "6584/6584 [==============================] - ETA: 35s - loss: 1.0407e-04 - acc: 1.00 - ETA: 36s - loss: 1.5878e-04 - acc: 1.00 - ETA: 36s - loss: 1.6765e-04 - acc: 1.00 - ETA: 35s - loss: 1.4928e-04 - acc: 1.00 - ETA: 35s - loss: 1.4336e-04 - acc: 1.00 - ETA: 35s - loss: 1.4287e-04 - acc: 1.00 - ETA: 35s - loss: 1.3670e-04 - acc: 1.00 - ETA: 35s - loss: 1.3415e-04 - acc: 1.00 - ETA: 36s - loss: 1.3037e-04 - acc: 1.00 - ETA: 36s - loss: 1.2908e-04 - acc: 1.00 - ETA: 36s - loss: 1.2885e-04 - acc: 1.00 - ETA: 35s - loss: 1.2677e-04 - acc: 1.00 - ETA: 35s - loss: 1.2371e-04 - acc: 1.00 - ETA: 35s - loss: 1.2250e-04 - acc: 1.00 - ETA: 34s - loss: 1.2008e-04 - acc: 1.00 - ETA: 33s - loss: 1.1838e-04 - acc: 1.00 - ETA: 33s - loss: 1.1752e-04 - acc: 1.00 - ETA: 32s - loss: 1.1462e-04 - acc: 1.00 - ETA: 32s - loss: 1.1257e-04 - acc: 1.00 - ETA: 31s - loss: 1.1085e-04 - acc: 1.00 - ETA: 31s - loss: 1.1076e-04 - acc: 1.00 - ETA: 30s - loss: 1.1149e-04 - acc: 1.00 - ETA: 30s - loss: 1.1216e-04 - acc: 1.00 - ETA: 30s - loss: 1.1305e-04 - acc: 1.00 - ETA: 30s - loss: 1.1409e-04 - acc: 1.00 - ETA: 29s - loss: 1.1353e-04 - acc: 1.00 - ETA: 29s - loss: 1.1287e-04 - acc: 1.00 - ETA: 29s - loss: 1.1248e-04 - acc: 1.00 - ETA: 28s - loss: 1.1154e-04 - acc: 1.00 - ETA: 28s - loss: 1.1139e-04 - acc: 1.00 - ETA: 28s - loss: 1.1165e-04 - acc: 1.00 - ETA: 28s - loss: 1.1057e-04 - acc: 1.00 - ETA: 28s - loss: 1.1062e-04 - acc: 1.00 - ETA: 27s - loss: 1.1004e-04 - acc: 1.00 - ETA: 27s - loss: 1.0977e-04 - acc: 1.00 - ETA: 26s - loss: 1.0892e-04 - acc: 1.00 - ETA: 26s - loss: 1.0818e-04 - acc: 1.00 - ETA: 25s - loss: 1.0763e-04 - acc: 1.00 - ETA: 25s - loss: 1.0712e-04 - acc: 1.00 - ETA: 24s - loss: 1.0606e-04 - acc: 1.00 - ETA: 24s - loss: 1.0550e-04 - acc: 1.00 - ETA: 24s - loss: 1.0512e-04 - acc: 1.00 - ETA: 24s - loss: 1.0545e-04 - acc: 1.00 - ETA: 23s - loss: 1.0666e-04 - acc: 1.00 - ETA: 23s - loss: 1.0731e-04 - acc: 1.00 - ETA: 23s - loss: 1.0700e-04 - acc: 1.00 - ETA: 22s - loss: 1.0648e-04 - acc: 1.00 - ETA: 22s - loss: 1.0636e-04 - acc: 1.00 - ETA: 21s - loss: 1.0565e-04 - acc: 1.00 - ETA: 21s - loss: 1.0550e-04 - acc: 1.00 - ETA: 21s - loss: 1.0539e-04 - acc: 1.00 - ETA: 20s - loss: 1.0498e-04 - acc: 1.00 - ETA: 20s - loss: 1.0445e-04 - acc: 1.00 - ETA: 20s - loss: 1.0446e-04 - acc: 1.00 - ETA: 19s - loss: 1.0448e-04 - acc: 1.00 - ETA: 19s - loss: 1.0475e-04 - acc: 1.00 - ETA: 18s - loss: 1.0533e-04 - acc: 1.00 - ETA: 18s - loss: 1.0478e-04 - acc: 1.00 - ETA: 17s - loss: 1.0517e-04 - acc: 1.00 - ETA: 17s - loss: 1.0522e-04 - acc: 1.00 - ETA: 16s - loss: 1.0455e-04 - acc: 1.00 - ETA: 16s - loss: 1.0472e-04 - acc: 1.00 - ETA: 15s - loss: 1.0491e-04 - acc: 1.00 - ETA: 15s - loss: 1.0454e-04 - acc: 1.00 - ETA: 14s - loss: 1.0479e-04 - acc: 1.00 - ETA: 14s - loss: 1.0459e-04 - acc: 1.00 - ETA: 13s - loss: 1.0542e-04 - acc: 1.00 - ETA: 13s - loss: 1.0537e-04 - acc: 1.00 - ETA: 12s - loss: 1.0595e-04 - acc: 1.00 - ETA: 12s - loss: 1.0567e-04 - acc: 1.00 - ETA: 12s - loss: 1.0570e-04 - acc: 1.00 - ETA: 11s - loss: 1.0597e-04 - acc: 1.00 - ETA: 11s - loss: 1.0568e-04 - acc: 1.00 - ETA: 10s - loss: 1.0556e-04 - acc: 1.00 - ETA: 10s - loss: 1.0507e-04 - acc: 1.00 - ETA: 10s - loss: 1.0463e-04 - acc: 1.00 - ETA: 9s - loss: 1.0460e-04 - acc: 1.0000 - ETA: 9s - loss: 1.0459e-04 - acc: 1.000 - ETA: 8s - loss: 1.0447e-04 - acc: 1.000 - ETA: 8s - loss: 1.0450e-04 - acc: 1.000 - ETA: 8s - loss: 1.0438e-04 - acc: 1.000 - ETA: 7s - loss: 1.0401e-04 - acc: 1.000 - ETA: 7s - loss: 1.0396e-04 - acc: 1.000 - ETA: 6s - loss: 1.0408e-04 - acc: 1.000 - ETA: 6s - loss: 1.0410e-04 - acc: 1.000 - ETA: 6s - loss: 1.0375e-04 - acc: 1.000 - ETA: 5s - loss: 1.0386e-04 - acc: 1.000 - ETA: 5s - loss: 1.0353e-04 - acc: 1.000 - ETA: 4s - loss: 1.0339e-04 - acc: 1.000 - ETA: 4s - loss: 1.0287e-04 - acc: 1.000 - ETA: 4s - loss: 1.0291e-04 - acc: 1.000 - ETA: 3s - loss: 1.0275e-04 - acc: 1.000 - ETA: 3s - loss: 1.0255e-04 - acc: 1.000 - ETA: 3s - loss: 1.0270e-04 - acc: 1.000 - ETA: 2s - loss: 1.0243e-04 - acc: 1.000 - ETA: 2s - loss: 1.0252e-04 - acc: 1.000 - ETA: 2s - loss: 1.0210e-04 - acc: 1.000 - ETA: 1s - loss: 1.0216e-04 - acc: 1.000 - ETA: 1s - loss: 1.0244e-04 - acc: 1.000 - ETA: 0s - loss: 1.0349e-04 - acc: 1.000 - ETA: 0s - loss: 1.0359e-04 - acc: 1.000 - ETA: 0s - loss: 1.0351e-04 - acc: 1.000 - 35s 5ms/step - loss: 1.0395e-04 - acc: 1.0000\n",
      "Epoch 7/10\n"
     ]
    },
    {
     "name": "stdout",
     "output_type": "stream",
     "text": [
      "6584/6584 [==============================] - ETA: 27s - loss: 7.9511e-05 - acc: 1.00 - ETA: 27s - loss: 9.2177e-05 - acc: 1.00 - ETA: 27s - loss: 9.0251e-05 - acc: 1.00 - ETA: 27s - loss: 8.8493e-05 - acc: 1.00 - ETA: 27s - loss: 9.1711e-05 - acc: 1.00 - ETA: 26s - loss: 8.9135e-05 - acc: 1.00 - ETA: 26s - loss: 8.9234e-05 - acc: 1.00 - ETA: 26s - loss: 8.8202e-05 - acc: 1.00 - ETA: 25s - loss: 8.6252e-05 - acc: 1.00 - ETA: 25s - loss: 8.8397e-05 - acc: 1.00 - ETA: 25s - loss: 9.2845e-05 - acc: 1.00 - ETA: 25s - loss: 9.2861e-05 - acc: 1.00 - ETA: 24s - loss: 9.2241e-05 - acc: 1.00 - ETA: 24s - loss: 9.0876e-05 - acc: 1.00 - ETA: 24s - loss: 9.1806e-05 - acc: 1.00 - ETA: 23s - loss: 9.3968e-05 - acc: 1.00 - ETA: 23s - loss: 9.3801e-05 - acc: 1.00 - ETA: 23s - loss: 9.3689e-05 - acc: 1.00 - ETA: 23s - loss: 9.3383e-05 - acc: 1.00 - ETA: 22s - loss: 9.2890e-05 - acc: 1.00 - ETA: 22s - loss: 9.6274e-05 - acc: 1.00 - ETA: 22s - loss: 9.6016e-05 - acc: 1.00 - ETA: 21s - loss: 9.5680e-05 - acc: 1.00 - ETA: 21s - loss: 9.6385e-05 - acc: 1.00 - ETA: 21s - loss: 9.5485e-05 - acc: 1.00 - ETA: 21s - loss: 9.4784e-05 - acc: 1.00 - ETA: 20s - loss: 9.4095e-05 - acc: 1.00 - ETA: 20s - loss: 9.2652e-05 - acc: 1.00 - ETA: 20s - loss: 9.2609e-05 - acc: 1.00 - ETA: 20s - loss: 9.1903e-05 - acc: 1.00 - ETA: 19s - loss: 9.1602e-05 - acc: 1.00 - ETA: 19s - loss: 9.1665e-05 - acc: 1.00 - ETA: 19s - loss: 9.0987e-05 - acc: 1.00 - ETA: 19s - loss: 9.1304e-05 - acc: 1.00 - ETA: 18s - loss: 9.0802e-05 - acc: 1.00 - ETA: 18s - loss: 9.1498e-05 - acc: 1.00 - ETA: 18s - loss: 9.2040e-05 - acc: 1.00 - ETA: 17s - loss: 9.1572e-05 - acc: 1.00 - ETA: 17s - loss: 9.1712e-05 - acc: 1.00 - ETA: 17s - loss: 9.1564e-05 - acc: 1.00 - ETA: 17s - loss: 9.1299e-05 - acc: 1.00 - ETA: 16s - loss: 9.1025e-05 - acc: 1.00 - ETA: 16s - loss: 9.2495e-05 - acc: 1.00 - ETA: 16s - loss: 9.2280e-05 - acc: 1.00 - ETA: 15s - loss: 9.1745e-05 - acc: 1.00 - ETA: 15s - loss: 9.1951e-05 - acc: 1.00 - ETA: 15s - loss: 9.1644e-05 - acc: 1.00 - ETA: 15s - loss: 9.2086e-05 - acc: 1.00 - ETA: 14s - loss: 9.1987e-05 - acc: 1.00 - ETA: 14s - loss: 9.2360e-05 - acc: 1.00 - ETA: 14s - loss: 9.1929e-05 - acc: 1.00 - ETA: 13s - loss: 9.2034e-05 - acc: 1.00 - ETA: 13s - loss: 9.1935e-05 - acc: 1.00 - ETA: 13s - loss: 9.1800e-05 - acc: 1.00 - ETA: 13s - loss: 9.1525e-05 - acc: 1.00 - ETA: 12s - loss: 9.1097e-05 - acc: 1.00 - ETA: 12s - loss: 9.0990e-05 - acc: 1.00 - ETA: 12s - loss: 9.0501e-05 - acc: 1.00 - ETA: 11s - loss: 9.0350e-05 - acc: 1.00 - ETA: 11s - loss: 9.0422e-05 - acc: 1.00 - ETA: 11s - loss: 9.0158e-05 - acc: 1.00 - ETA: 11s - loss: 8.9901e-05 - acc: 1.00 - ETA: 10s - loss: 9.0159e-05 - acc: 1.00 - ETA: 10s - loss: 9.0014e-05 - acc: 1.00 - ETA: 10s - loss: 9.0030e-05 - acc: 1.00 - ETA: 10s - loss: 8.9996e-05 - acc: 1.00 - ETA: 9s - loss: 8.9889e-05 - acc: 1.0000 - ETA: 9s - loss: 8.9944e-05 - acc: 1.000 - ETA: 9s - loss: 8.9454e-05 - acc: 1.000 - ETA: 9s - loss: 8.9289e-05 - acc: 1.000 - ETA: 8s - loss: 8.9208e-05 - acc: 1.000 - ETA: 8s - loss: 8.9506e-05 - acc: 1.000 - ETA: 8s - loss: 8.9422e-05 - acc: 1.000 - ETA: 8s - loss: 8.9154e-05 - acc: 1.000 - ETA: 7s - loss: 8.8848e-05 - acc: 1.000 - ETA: 7s - loss: 8.8615e-05 - acc: 1.000 - ETA: 7s - loss: 8.8531e-05 - acc: 1.000 - ETA: 6s - loss: 8.8674e-05 - acc: 1.000 - ETA: 6s - loss: 8.8748e-05 - acc: 1.000 - ETA: 6s - loss: 8.8840e-05 - acc: 1.000 - ETA: 6s - loss: 8.9210e-05 - acc: 1.000 - ETA: 5s - loss: 8.8996e-05 - acc: 1.000 - ETA: 5s - loss: 8.8884e-05 - acc: 1.000 - ETA: 5s - loss: 8.8958e-05 - acc: 1.000 - ETA: 4s - loss: 8.9160e-05 - acc: 1.000 - ETA: 4s - loss: 8.9077e-05 - acc: 1.000 - ETA: 4s - loss: 8.8947e-05 - acc: 1.000 - ETA: 4s - loss: 8.8765e-05 - acc: 1.000 - ETA: 3s - loss: 8.8593e-05 - acc: 1.000 - ETA: 3s - loss: 8.8463e-05 - acc: 1.000 - ETA: 3s - loss: 8.8590e-05 - acc: 1.000 - ETA: 3s - loss: 8.8535e-05 - acc: 1.000 - ETA: 2s - loss: 8.8684e-05 - acc: 1.000 - ETA: 2s - loss: 8.8818e-05 - acc: 1.000 - ETA: 2s - loss: 8.8568e-05 - acc: 1.000 - ETA: 1s - loss: 8.8284e-05 - acc: 1.000 - ETA: 1s - loss: 8.8057e-05 - acc: 1.000 - ETA: 1s - loss: 8.7995e-05 - acc: 1.000 - ETA: 1s - loss: 8.8105e-05 - acc: 1.000 - ETA: 0s - loss: 8.8167e-05 - acc: 1.000 - ETA: 0s - loss: 8.8345e-05 - acc: 1.000 - ETA: 0s - loss: 8.8118e-05 - acc: 1.000 - 28s 4ms/step - loss: 8.8148e-05 - acc: 1.0000\n",
      "Epoch 8/10\n",
      "6584/6584 [==============================] - ETA: 25s - loss: 7.4019e-05 - acc: 1.00 - ETA: 26s - loss: 7.9441e-05 - acc: 1.00 - ETA: 26s - loss: 8.8471e-05 - acc: 1.00 - ETA: 26s - loss: 8.8660e-05 - acc: 1.00 - ETA: 26s - loss: 8.2413e-05 - acc: 1.00 - ETA: 26s - loss: 8.1917e-05 - acc: 1.00 - ETA: 26s - loss: 8.4912e-05 - acc: 1.00 - ETA: 25s - loss: 8.1810e-05 - acc: 1.00 - ETA: 25s - loss: 7.9672e-05 - acc: 1.00 - ETA: 25s - loss: 7.9544e-05 - acc: 1.00 - ETA: 25s - loss: 8.1908e-05 - acc: 1.00 - ETA: 24s - loss: 8.1298e-05 - acc: 1.00 - ETA: 24s - loss: 7.9631e-05 - acc: 1.00 - ETA: 24s - loss: 7.8178e-05 - acc: 1.00 - ETA: 24s - loss: 7.7536e-05 - acc: 1.00 - ETA: 24s - loss: 7.8445e-05 - acc: 1.00 - ETA: 23s - loss: 7.8050e-05 - acc: 1.00 - ETA: 23s - loss: 7.8667e-05 - acc: 1.00 - ETA: 23s - loss: 7.8890e-05 - acc: 1.00 - ETA: 22s - loss: 8.2363e-05 - acc: 1.00 - ETA: 22s - loss: 8.2875e-05 - acc: 1.00 - ETA: 22s - loss: 8.3317e-05 - acc: 1.00 - ETA: 21s - loss: 8.3733e-05 - acc: 1.00 - ETA: 21s - loss: 8.2696e-05 - acc: 1.00 - ETA: 21s - loss: 8.3002e-05 - acc: 1.00 - ETA: 21s - loss: 8.2733e-05 - acc: 1.00 - ETA: 20s - loss: 8.2448e-05 - acc: 1.00 - ETA: 20s - loss: 8.2342e-05 - acc: 1.00 - ETA: 20s - loss: 8.2172e-05 - acc: 1.00 - ETA: 19s - loss: 8.3040e-05 - acc: 1.00 - ETA: 19s - loss: 8.2693e-05 - acc: 1.00 - ETA: 19s - loss: 8.2106e-05 - acc: 1.00 - ETA: 18s - loss: 8.1204e-05 - acc: 1.00 - ETA: 18s - loss: 8.1857e-05 - acc: 1.00 - ETA: 18s - loss: 8.1801e-05 - acc: 1.00 - ETA: 18s - loss: 8.1488e-05 - acc: 1.00 - ETA: 17s - loss: 8.1824e-05 - acc: 1.00 - ETA: 17s - loss: 8.0847e-05 - acc: 1.00 - ETA: 17s - loss: 8.1002e-05 - acc: 1.00 - ETA: 17s - loss: 8.2928e-05 - acc: 1.00 - ETA: 16s - loss: 8.2921e-05 - acc: 1.00 - ETA: 16s - loss: 8.3164e-05 - acc: 1.00 - ETA: 16s - loss: 8.2663e-05 - acc: 1.00 - ETA: 15s - loss: 8.2341e-05 - acc: 1.00 - ETA: 15s - loss: 8.3724e-05 - acc: 1.00 - ETA: 15s - loss: 8.3382e-05 - acc: 1.00 - ETA: 15s - loss: 8.3308e-05 - acc: 1.00 - ETA: 14s - loss: 8.3794e-05 - acc: 1.00 - ETA: 14s - loss: 8.3572e-05 - acc: 1.00 - ETA: 14s - loss: 8.3181e-05 - acc: 1.00 - ETA: 13s - loss: 8.3533e-05 - acc: 1.00 - ETA: 13s - loss: 8.3752e-05 - acc: 1.00 - ETA: 13s - loss: 8.3954e-05 - acc: 1.00 - ETA: 13s - loss: 8.3491e-05 - acc: 1.00 - ETA: 12s - loss: 8.3133e-05 - acc: 1.00 - ETA: 12s - loss: 8.4229e-05 - acc: 1.00 - ETA: 12s - loss: 8.4195e-05 - acc: 1.00 - ETA: 12s - loss: 8.4382e-05 - acc: 1.00 - ETA: 11s - loss: 8.4473e-05 - acc: 1.00 - ETA: 11s - loss: 8.4412e-05 - acc: 1.00 - ETA: 11s - loss: 8.4255e-05 - acc: 1.00 - ETA: 10s - loss: 8.4281e-05 - acc: 1.00 - ETA: 10s - loss: 8.3961e-05 - acc: 1.00 - ETA: 10s - loss: 8.4335e-05 - acc: 1.00 - ETA: 10s - loss: 8.4442e-05 - acc: 1.00 - ETA: 9s - loss: 8.4104e-05 - acc: 1.0000 - ETA: 9s - loss: 8.3878e-05 - acc: 1.000 - ETA: 9s - loss: 8.3965e-05 - acc: 1.000 - ETA: 9s - loss: 8.3946e-05 - acc: 1.000 - ETA: 8s - loss: 8.4030e-05 - acc: 1.000 - ETA: 8s - loss: 8.3821e-05 - acc: 1.000 - ETA: 8s - loss: 8.4244e-05 - acc: 1.000 - ETA: 8s - loss: 8.4346e-05 - acc: 1.000 - ETA: 7s - loss: 8.4436e-05 - acc: 1.000 - ETA: 7s - loss: 8.4650e-05 - acc: 1.000 - ETA: 7s - loss: 8.4772e-05 - acc: 1.000 - ETA: 6s - loss: 8.4808e-05 - acc: 1.000 - ETA: 6s - loss: 8.4456e-05 - acc: 1.000 - ETA: 6s - loss: 8.4099e-05 - acc: 1.000 - ETA: 6s - loss: 8.4025e-05 - acc: 1.000 - ETA: 5s - loss: 8.4416e-05 - acc: 1.000 - ETA: 5s - loss: 8.4428e-05 - acc: 1.000 - ETA: 5s - loss: 8.4445e-05 - acc: 1.000 - ETA: 5s - loss: 8.4732e-05 - acc: 1.000 - ETA: 4s - loss: 8.4827e-05 - acc: 1.000 - ETA: 4s - loss: 8.4879e-05 - acc: 1.000 - ETA: 4s - loss: 8.5023e-05 - acc: 1.000 - ETA: 3s - loss: 8.4794e-05 - acc: 1.000 - ETA: 3s - loss: 8.4472e-05 - acc: 1.000 - ETA: 3s - loss: 8.4335e-05 - acc: 1.000 - ETA: 3s - loss: 8.4064e-05 - acc: 1.000 - ETA: 2s - loss: 8.3912e-05 - acc: 1.000 - ETA: 2s - loss: 8.3739e-05 - acc: 1.000 - ETA: 2s - loss: 8.3400e-05 - acc: 1.000 - ETA: 2s - loss: 8.3422e-05 - acc: 1.000 - ETA: 1s - loss: 8.3555e-05 - acc: 1.000 - ETA: 1s - loss: 8.3295e-05 - acc: 1.000 - ETA: 1s - loss: 8.3323e-05 - acc: 1.000 - ETA: 1s - loss: 8.3139e-05 - acc: 1.000 - ETA: 0s - loss: 8.3008e-05 - acc: 1.000 - ETA: 0s - loss: 8.2791e-05 - acc: 1.000 - ETA: 0s - loss: 8.2588e-05 - acc: 1.000 - 27s 4ms/step - loss: 8.2558e-05 - acc: 1.0000\n",
      "Epoch 9/10\n"
     ]
    },
    {
     "name": "stdout",
     "output_type": "stream",
     "text": [
      "6584/6584 [==============================] - ETA: 35s - loss: 7.4034e-05 - acc: 1.00 - ETA: 30s - loss: 9.3080e-05 - acc: 1.00 - ETA: 29s - loss: 8.6855e-05 - acc: 1.00 - ETA: 28s - loss: 7.8522e-05 - acc: 1.00 - ETA: 27s - loss: 7.8349e-05 - acc: 1.00 - ETA: 26s - loss: 7.3957e-05 - acc: 1.00 - ETA: 26s - loss: 7.2471e-05 - acc: 1.00 - ETA: 25s - loss: 7.0783e-05 - acc: 1.00 - ETA: 25s - loss: 6.7699e-05 - acc: 1.00 - ETA: 25s - loss: 6.9581e-05 - acc: 1.00 - ETA: 25s - loss: 6.9442e-05 - acc: 1.00 - ETA: 24s - loss: 7.4102e-05 - acc: 1.00 - ETA: 24s - loss: 7.4902e-05 - acc: 1.00 - ETA: 24s - loss: 7.6436e-05 - acc: 1.00 - ETA: 23s - loss: 7.5241e-05 - acc: 1.00 - ETA: 23s - loss: 7.5723e-05 - acc: 1.00 - ETA: 23s - loss: 7.6666e-05 - acc: 1.00 - ETA: 23s - loss: 7.6485e-05 - acc: 1.00 - ETA: 22s - loss: 7.6916e-05 - acc: 1.00 - ETA: 22s - loss: 7.5810e-05 - acc: 1.00 - ETA: 22s - loss: 7.5398e-05 - acc: 1.00 - ETA: 22s - loss: 7.7062e-05 - acc: 1.00 - ETA: 21s - loss: 7.7416e-05 - acc: 1.00 - ETA: 21s - loss: 7.7313e-05 - acc: 1.00 - ETA: 21s - loss: 7.6190e-05 - acc: 1.00 - ETA: 20s - loss: 7.5651e-05 - acc: 1.00 - ETA: 20s - loss: 7.4516e-05 - acc: 1.00 - ETA: 20s - loss: 7.3575e-05 - acc: 1.00 - ETA: 19s - loss: 7.3709e-05 - acc: 1.00 - ETA: 19s - loss: 7.3440e-05 - acc: 1.00 - ETA: 19s - loss: 7.3892e-05 - acc: 1.00 - ETA: 19s - loss: 7.4420e-05 - acc: 1.00 - ETA: 18s - loss: 7.4033e-05 - acc: 1.00 - ETA: 18s - loss: 7.3380e-05 - acc: 1.00 - ETA: 18s - loss: 7.2276e-05 - acc: 1.00 - ETA: 17s - loss: 7.1898e-05 - acc: 1.00 - ETA: 17s - loss: 7.2012e-05 - acc: 1.00 - ETA: 17s - loss: 7.1481e-05 - acc: 1.00 - ETA: 17s - loss: 7.1673e-05 - acc: 1.00 - ETA: 16s - loss: 7.1632e-05 - acc: 1.00 - ETA: 16s - loss: 7.1298e-05 - acc: 1.00 - ETA: 16s - loss: 7.1909e-05 - acc: 1.00 - ETA: 16s - loss: 7.1698e-05 - acc: 1.00 - ETA: 15s - loss: 7.1859e-05 - acc: 1.00 - ETA: 15s - loss: 7.2004e-05 - acc: 1.00 - ETA: 15s - loss: 7.2581e-05 - acc: 1.00 - ETA: 14s - loss: 7.2609e-05 - acc: 1.00 - ETA: 14s - loss: 7.2242e-05 - acc: 1.00 - ETA: 14s - loss: 7.1667e-05 - acc: 1.00 - ETA: 14s - loss: 7.1652e-05 - acc: 1.00 - ETA: 13s - loss: 7.1806e-05 - acc: 1.00 - ETA: 13s - loss: 7.1711e-05 - acc: 1.00 - ETA: 13s - loss: 7.2070e-05 - acc: 1.00 - ETA: 13s - loss: 7.1752e-05 - acc: 1.00 - ETA: 12s - loss: 7.1484e-05 - acc: 1.00 - ETA: 12s - loss: 7.1698e-05 - acc: 1.00 - ETA: 12s - loss: 7.1548e-05 - acc: 1.00 - ETA: 11s - loss: 7.1829e-05 - acc: 1.00 - ETA: 11s - loss: 7.1700e-05 - acc: 1.00 - ETA: 11s - loss: 7.1889e-05 - acc: 1.00 - ETA: 11s - loss: 7.1660e-05 - acc: 1.00 - ETA: 10s - loss: 7.1479e-05 - acc: 1.00 - ETA: 10s - loss: 7.1489e-05 - acc: 1.00 - ETA: 10s - loss: 7.1236e-05 - acc: 1.00 - ETA: 10s - loss: 7.1694e-05 - acc: 1.00 - ETA: 9s - loss: 7.1908e-05 - acc: 1.0000 - ETA: 9s - loss: 7.1573e-05 - acc: 1.000 - ETA: 9s - loss: 7.1661e-05 - acc: 1.000 - ETA: 9s - loss: 7.1772e-05 - acc: 1.000 - ETA: 8s - loss: 7.1666e-05 - acc: 1.000 - ETA: 8s - loss: 7.1509e-05 - acc: 1.000 - ETA: 8s - loss: 7.1153e-05 - acc: 1.000 - ETA: 7s - loss: 7.1004e-05 - acc: 1.000 - ETA: 7s - loss: 7.0938e-05 - acc: 1.000 - ETA: 7s - loss: 7.0741e-05 - acc: 1.000 - ETA: 7s - loss: 7.1236e-05 - acc: 1.000 - ETA: 6s - loss: 7.1126e-05 - acc: 1.000 - ETA: 6s - loss: 7.1166e-05 - acc: 1.000 - ETA: 6s - loss: 7.1098e-05 - acc: 1.000 - ETA: 6s - loss: 7.0872e-05 - acc: 1.000 - ETA: 5s - loss: 7.0902e-05 - acc: 1.000 - ETA: 5s - loss: 7.0702e-05 - acc: 1.000 - ETA: 5s - loss: 7.0653e-05 - acc: 1.000 - ETA: 5s - loss: 7.0434e-05 - acc: 1.000 - ETA: 4s - loss: 7.0074e-05 - acc: 1.000 - ETA: 4s - loss: 6.9872e-05 - acc: 1.000 - ETA: 4s - loss: 6.9768e-05 - acc: 1.000 - ETA: 3s - loss: 6.9674e-05 - acc: 1.000 - ETA: 3s - loss: 6.9492e-05 - acc: 1.000 - ETA: 3s - loss: 6.9599e-05 - acc: 1.000 - ETA: 3s - loss: 6.9450e-05 - acc: 1.000 - ETA: 2s - loss: 6.9633e-05 - acc: 1.000 - ETA: 2s - loss: 6.9781e-05 - acc: 1.000 - ETA: 2s - loss: 6.9871e-05 - acc: 1.000 - ETA: 2s - loss: 6.9704e-05 - acc: 1.000 - ETA: 1s - loss: 6.9659e-05 - acc: 1.000 - ETA: 1s - loss: 6.9894e-05 - acc: 1.000 - ETA: 1s - loss: 6.9953e-05 - acc: 1.000 - ETA: 1s - loss: 6.9701e-05 - acc: 1.000 - ETA: 0s - loss: 6.9671e-05 - acc: 1.000 - ETA: 0s - loss: 7.0649e-05 - acc: 1.000 - ETA: 0s - loss: 7.0793e-05 - acc: 1.000 - 27s 4ms/step - loss: 7.1160e-05 - acc: 1.0000\n",
      "Epoch 10/10\n",
      "6584/6584 [==============================] - ETA: 25s - loss: 8.3965e-05 - acc: 1.00 - ETA: 26s - loss: 7.4712e-05 - acc: 1.00 - ETA: 26s - loss: 7.9062e-05 - acc: 1.00 - ETA: 25s - loss: 8.1157e-05 - acc: 1.00 - ETA: 25s - loss: 7.7107e-05 - acc: 1.00 - ETA: 25s - loss: 7.3157e-05 - acc: 1.00 - ETA: 25s - loss: 7.1094e-05 - acc: 1.00 - ETA: 25s - loss: 6.8078e-05 - acc: 1.00 - ETA: 24s - loss: 6.8756e-05 - acc: 1.00 - ETA: 24s - loss: 6.8698e-05 - acc: 1.00 - ETA: 24s - loss: 6.7500e-05 - acc: 1.00 - ETA: 24s - loss: 7.0979e-05 - acc: 1.00 - ETA: 23s - loss: 7.7801e-05 - acc: 1.00 - ETA: 23s - loss: 7.7053e-05 - acc: 1.00 - ETA: 23s - loss: 7.9129e-05 - acc: 1.00 - ETA: 22s - loss: 7.7802e-05 - acc: 1.00 - ETA: 22s - loss: 7.6331e-05 - acc: 1.00 - ETA: 22s - loss: 7.5369e-05 - acc: 1.00 - ETA: 22s - loss: 7.4251e-05 - acc: 1.00 - ETA: 21s - loss: 7.8095e-05 - acc: 1.00 - ETA: 21s - loss: 7.6925e-05 - acc: 1.00 - ETA: 21s - loss: 7.6018e-05 - acc: 1.00 - ETA: 21s - loss: 7.5992e-05 - acc: 1.00 - ETA: 20s - loss: 7.5715e-05 - acc: 1.00 - ETA: 20s - loss: 7.5540e-05 - acc: 1.00 - ETA: 20s - loss: 7.4692e-05 - acc: 1.00 - ETA: 20s - loss: 7.4317e-05 - acc: 1.00 - ETA: 19s - loss: 7.3508e-05 - acc: 1.00 - ETA: 19s - loss: 7.3690e-05 - acc: 1.00 - ETA: 19s - loss: 7.2595e-05 - acc: 1.00 - ETA: 19s - loss: 7.2326e-05 - acc: 1.00 - ETA: 18s - loss: 7.2019e-05 - acc: 1.00 - ETA: 18s - loss: 7.1612e-05 - acc: 1.00 - ETA: 18s - loss: 7.1059e-05 - acc: 1.00 - ETA: 17s - loss: 7.1079e-05 - acc: 1.00 - ETA: 17s - loss: 7.0512e-05 - acc: 1.00 - ETA: 17s - loss: 7.0061e-05 - acc: 1.00 - ETA: 17s - loss: 7.0113e-05 - acc: 1.00 - ETA: 16s - loss: 7.0020e-05 - acc: 1.00 - ETA: 16s - loss: 6.9774e-05 - acc: 1.00 - ETA: 16s - loss: 6.9950e-05 - acc: 1.00 - ETA: 16s - loss: 6.9808e-05 - acc: 1.00 - ETA: 15s - loss: 6.9463e-05 - acc: 1.00 - ETA: 15s - loss: 6.9384e-05 - acc: 1.00 - ETA: 15s - loss: 6.8985e-05 - acc: 1.00 - ETA: 15s - loss: 6.8752e-05 - acc: 1.00 - ETA: 14s - loss: 6.9165e-05 - acc: 1.00 - ETA: 14s - loss: 6.9084e-05 - acc: 1.00 - ETA: 14s - loss: 7.0371e-05 - acc: 1.00 - ETA: 14s - loss: 7.0123e-05 - acc: 1.00 - ETA: 13s - loss: 7.0102e-05 - acc: 1.00 - ETA: 13s - loss: 7.0005e-05 - acc: 1.00 - ETA: 13s - loss: 7.0148e-05 - acc: 1.00 - ETA: 13s - loss: 6.9913e-05 - acc: 1.00 - ETA: 12s - loss: 7.0298e-05 - acc: 1.00 - ETA: 12s - loss: 7.0211e-05 - acc: 1.00 - ETA: 12s - loss: 6.9955e-05 - acc: 1.00 - ETA: 12s - loss: 6.9693e-05 - acc: 1.00 - ETA: 11s - loss: 6.9260e-05 - acc: 1.00 - ETA: 11s - loss: 6.8664e-05 - acc: 1.00 - ETA: 11s - loss: 6.8883e-05 - acc: 1.00 - ETA: 11s - loss: 6.8694e-05 - acc: 1.00 - ETA: 10s - loss: 6.8567e-05 - acc: 1.00 - ETA: 10s - loss: 6.8814e-05 - acc: 1.00 - ETA: 10s - loss: 6.8822e-05 - acc: 1.00 - ETA: 9s - loss: 6.8604e-05 - acc: 1.0000 - ETA: 9s - loss: 6.8331e-05 - acc: 1.000 - ETA: 9s - loss: 6.8182e-05 - acc: 1.000 - ETA: 9s - loss: 6.7835e-05 - acc: 1.000 - ETA: 8s - loss: 6.7783e-05 - acc: 1.000 - ETA: 8s - loss: 6.7850e-05 - acc: 1.000 - ETA: 8s - loss: 6.7573e-05 - acc: 1.000 - ETA: 8s - loss: 6.7281e-05 - acc: 1.000 - ETA: 7s - loss: 6.7504e-05 - acc: 1.000 - ETA: 7s - loss: 6.7637e-05 - acc: 1.000 - ETA: 7s - loss: 6.7754e-05 - acc: 1.000 - ETA: 6s - loss: 6.7950e-05 - acc: 1.000 - ETA: 6s - loss: 6.8023e-05 - acc: 1.000 - ETA: 6s - loss: 6.7665e-05 - acc: 1.000 - ETA: 6s - loss: 6.7711e-05 - acc: 1.000 - ETA: 5s - loss: 6.7565e-05 - acc: 1.000 - ETA: 5s - loss: 6.7633e-05 - acc: 1.000 - ETA: 5s - loss: 6.7520e-05 - acc: 1.000 - ETA: 5s - loss: 6.7378e-05 - acc: 1.000 - ETA: 4s - loss: 6.7164e-05 - acc: 1.000 - ETA: 4s - loss: 6.7133e-05 - acc: 1.000 - ETA: 4s - loss: 6.7040e-05 - acc: 1.000 - ETA: 4s - loss: 6.6715e-05 - acc: 1.000 - ETA: 3s - loss: 6.6567e-05 - acc: 1.000 - ETA: 3s - loss: 6.6514e-05 - acc: 1.000 - ETA: 3s - loss: 6.6339e-05 - acc: 1.000 - ETA: 2s - loss: 6.6121e-05 - acc: 1.000 - ETA: 2s - loss: 6.6009e-05 - acc: 1.000 - ETA: 2s - loss: 6.5778e-05 - acc: 1.000 - ETA: 2s - loss: 6.5872e-05 - acc: 1.000 - ETA: 1s - loss: 6.6094e-05 - acc: 1.000 - ETA: 1s - loss: 6.6245e-05 - acc: 1.000 - ETA: 1s - loss: 6.6296e-05 - acc: 1.000 - ETA: 1s - loss: 6.6312e-05 - acc: 1.000 - ETA: 0s - loss: 6.6259e-05 - acc: 1.000 - ETA: 0s - loss: 6.6099e-05 - acc: 1.000 - ETA: 0s - loss: 6.5925e-05 - acc: 1.000 - 28s 4ms/step - loss: 6.5851e-05 - acc: 1.0000\n",
      "Accuracy: 100.00%\n"
     ]
    }
   ],
   "source": [
    "model.fit(x_train, y_train, nb_epoch=10, batch_size=64)\n",
    "\n",
    "scores = model.evaluate(x_test, y_test, verbose=0)\n",
    "print(\"Accuracy: %.2f%%\" % (scores[1]*100))"
   ]
  },
  {
   "cell_type": "markdown",
   "metadata": {},
   "source": [
    "<h2> PLOT </h2>"
   ]
  },
  {
   "cell_type": "code",
   "execution_count": 33,
   "metadata": {},
   "outputs": [],
   "source": [
    "import matplotlib.pyplot as plt\n",
    "import numpy as np\n",
    "import time\n",
    "def plt_dynamic(x, vy, ty, ax, colors=['b']):\n",
    "    ax.plot(x, vy, 'b', label=\"Validation Loss\")\n",
    "    ax.plot(x, ty, 'r', label=\"Train Loss\")\n",
    "    \n",
    "    plt.legend()\n",
    "    plt.grid()\n",
    "    fig.canvas.draw()"
   ]
  },
  {
   "cell_type": "code",
   "execution_count": 34,
   "metadata": {},
   "outputs": [
    {
     "data": {
      "image/png": "[encoded data removed]",
      "text/plain": [
       "<Figure size 432x288 with 1 Axes>"
      ]
     },
     "metadata": {},
     "output_type": "display_data"
    }
   ],
   "source": [
    "nb_epoch = 10\n",
    "fig,ax = plt.subplots(1,1)\n",
    "ax.set_xlabel('epoch') ; ax.set_ylabel('Categorical Crossentropy Loss')\n",
    "\n",
    "\n",
    "x = list(range(1,nb_epoch+1))\n",
    "\n",
    "vy = history.history['val_loss']\n",
    "ty = history.history['loss']\n",
    "plt_dynamic(x, vy, ty, ax)"
   ]
  },
  {
   "cell_type": "markdown",
   "metadata": {
    "colab_type": "text",
    "id": "MxsNfIB_Qskc"
   },
   "source": [
    "# Model LSTM With 2 Layers"
   ]
  },
  {
   "cell_type": "code",
   "execution_count": 35,
   "metadata": {},
   "outputs": [
    {
     "name": "stdout",
     "output_type": "stream",
     "text": [
      "_________________________________________________________________\n",
      "Layer (type)                 Output Shape              Param #   \n",
      "=================================================================\n",
      "embedding_9 (Embedding)      (None, 300, 32)           381504    \n",
      "_________________________________________________________________\n",
      "dropout_17 (Dropout)         (None, 300, 32)           0         \n",
      "_________________________________________________________________\n",
      "lstm_9 (LSTM)                (None, 32)                8320      \n",
      "_________________________________________________________________\n",
      "dropout_18 (Dropout)         (None, 32)                0         \n",
      "_________________________________________________________________\n",
      "dense_9 (Dense)              (None, 1)                 33        \n",
      "=================================================================\n",
      "Total params: 389,857\n",
      "Trainable params: 389,857\n",
      "Non-trainable params: 0\n",
      "_________________________________________________________________\n",
      "None\n"
     ]
    }
   ],
   "source": [
    "from keras.layers import Dropout\n",
    "embedding_vecor_length = 32\n",
    "model_2 = Sequential()\n",
    "model_2.add(Embedding(len(vocab.keys())+1, embedding_vecor_length, input_length=max_review_length))\n",
    "model_2.add(Dropout(0.35))\n",
    "\n",
    "model_2.add(LSTM(32))\n",
    "model_2.add(Dropout(0.35))\n",
    "model_2.add(Dense(1, activation='sigmoid'))\n",
    "model_2.compile(loss='binary_crossentropy', optimizer='adam', metrics=['accuracy'])\n",
    "print(model_2.summary())"
   ]
  },
  {
   "cell_type": "code",
   "execution_count": 36,
   "metadata": {},
   "outputs": [
    {
     "name": "stdout",
     "output_type": "stream",
     "text": [
      "Train on 6584 samples, validate on 2823 samples\n",
      "Epoch 1/20\n",
      "6584/6584 [==============================] - ETA: 1:53 - loss: 0.6950 - acc: 0.390 - ETA: 1:07 - loss: 0.6919 - acc: 0.554 - ETA: 51s - loss: 0.6896 - acc: 0.661 - ETA: 43s - loss: 0.6877 - acc: 0.73 - ETA: 38s - loss: 0.6857 - acc: 0.78 - ETA: 35s - loss: 0.6835 - acc: 0.81 - ETA: 32s - loss: 0.6815 - acc: 0.84 - ETA: 30s - loss: 0.6791 - acc: 0.86 - ETA: 28s - loss: 0.6767 - acc: 0.87 - ETA: 26s - loss: 0.6742 - acc: 0.88 - ETA: 25s - loss: 0.6713 - acc: 0.89 - ETA: 24s - loss: 0.6686 - acc: 0.90 - ETA: 23s - loss: 0.6655 - acc: 0.91 - ETA: 22s - loss: 0.6624 - acc: 0.92 - ETA: 21s - loss: 0.6592 - acc: 0.92 - ETA: 20s - loss: 0.6556 - acc: 0.93 - ETA: 19s - loss: 0.6517 - acc: 0.93 - ETA: 19s - loss: 0.6474 - acc: 0.93 - ETA: 18s - loss: 0.6429 - acc: 0.94 - ETA: 17s - loss: 0.6380 - acc: 0.94 - ETA: 16s - loss: 0.6328 - acc: 0.94 - ETA: 16s - loss: 0.6270 - acc: 0.94 - ETA: 15s - loss: 0.6204 - acc: 0.95 - ETA: 15s - loss: 0.6128 - acc: 0.95 - ETA: 14s - loss: 0.6046 - acc: 0.95 - ETA: 13s - loss: 0.5951 - acc: 0.95 - ETA: 13s - loss: 0.5845 - acc: 0.95 - ETA: 12s - loss: 0.5719 - acc: 0.96 - ETA: 12s - loss: 0.5584 - acc: 0.96 - ETA: 11s - loss: 0.5442 - acc: 0.96 - ETA: 10s - loss: 0.5297 - acc: 0.96 - ETA: 10s - loss: 0.5156 - acc: 0.96 - ETA: 9s - loss: 0.5017 - acc: 0.9664 - ETA: 9s - loss: 0.4885 - acc: 0.967 - ETA: 8s - loss: 0.4759 - acc: 0.968 - ETA: 8s - loss: 0.4638 - acc: 0.969 - ETA: 7s - loss: 0.4521 - acc: 0.970 - ETA: 7s - loss: 0.4411 - acc: 0.970 - ETA: 6s - loss: 0.4305 - acc: 0.971 - ETA: 5s - loss: 0.4203 - acc: 0.972 - ETA: 5s - loss: 0.4106 - acc: 0.972 - ETA: 4s - loss: 0.4013 - acc: 0.973 - ETA: 4s - loss: 0.3924 - acc: 0.974 - ETA: 3s - loss: 0.3839 - acc: 0.974 - ETA: 3s - loss: 0.3757 - acc: 0.975 - ETA: 2s - loss: 0.3679 - acc: 0.975 - ETA: 2s - loss: 0.3603 - acc: 0.976 - ETA: 1s - loss: 0.3531 - acc: 0.976 - ETA: 1s - loss: 0.3462 - acc: 0.977 - ETA: 0s - loss: 0.3396 - acc: 0.977 - ETA: 0s - loss: 0.3332 - acc: 0.978 - 28s 4ms/step - loss: 0.3305 - acc: 0.9784 - val_loss: 0.0089 - val_acc: 1.0000\n",
      "Epoch 2/20\n",
      "6584/6584 [==============================] - ETA: 25s - loss: 0.0114 - acc: 1.00 - ETA: 24s - loss: 0.0119 - acc: 1.00 - ETA: 23s - loss: 0.0112 - acc: 1.00 - ETA: 23s - loss: 0.0112 - acc: 1.00 - ETA: 22s - loss: 0.0111 - acc: 1.00 - ETA: 22s - loss: 0.0113 - acc: 1.00 - ETA: 21s - loss: 0.0114 - acc: 1.00 - ETA: 20s - loss: 0.0111 - acc: 1.00 - ETA: 20s - loss: 0.0109 - acc: 1.00 - ETA: 19s - loss: 0.0107 - acc: 1.00 - ETA: 19s - loss: 0.0106 - acc: 1.00 - ETA: 18s - loss: 0.0103 - acc: 1.00 - ETA: 18s - loss: 0.0101 - acc: 1.00 - ETA: 17s - loss: 0.0099 - acc: 1.00 - ETA: 17s - loss: 0.0097 - acc: 1.00 - ETA: 16s - loss: 0.0095 - acc: 1.00 - ETA: 16s - loss: 0.0093 - acc: 1.00 - ETA: 15s - loss: 0.0092 - acc: 1.00 - ETA: 15s - loss: 0.0091 - acc: 1.00 - ETA: 15s - loss: 0.0089 - acc: 1.00 - ETA: 14s - loss: 0.0087 - acc: 1.00 - ETA: 14s - loss: 0.0086 - acc: 1.00 - ETA: 13s - loss: 0.0084 - acc: 1.00 - ETA: 13s - loss: 0.0083 - acc: 1.00 - ETA: 12s - loss: 0.0082 - acc: 1.00 - ETA: 12s - loss: 0.0081 - acc: 1.00 - ETA: 11s - loss: 0.0079 - acc: 1.00 - ETA: 11s - loss: 0.0078 - acc: 1.00 - ETA: 10s - loss: 0.0077 - acc: 1.00 - ETA: 10s - loss: 0.0076 - acc: 1.00 - ETA: 9s - loss: 0.0075 - acc: 1.0000 - ETA: 9s - loss: 0.0074 - acc: 1.000 - ETA: 8s - loss: 0.0073 - acc: 1.000 - ETA: 8s - loss: 0.0072 - acc: 1.000 - ETA: 7s - loss: 0.0071 - acc: 1.000 - ETA: 7s - loss: 0.0070 - acc: 1.000 - ETA: 6s - loss: 0.0070 - acc: 1.000 - ETA: 6s - loss: 0.0069 - acc: 1.000 - ETA: 5s - loss: 0.0068 - acc: 1.000 - ETA: 5s - loss: 0.0067 - acc: 1.000 - ETA: 4s - loss: 0.0066 - acc: 1.000 - ETA: 4s - loss: 0.0065 - acc: 1.000 - ETA: 4s - loss: 0.0065 - acc: 1.000 - ETA: 3s - loss: 0.0064 - acc: 1.000 - ETA: 3s - loss: 0.0063 - acc: 1.000 - ETA: 2s - loss: 0.0063 - acc: 1.000 - ETA: 2s - loss: 0.0062 - acc: 1.000 - ETA: 1s - loss: 0.0061 - acc: 1.000 - ETA: 1s - loss: 0.0061 - acc: 1.000 - ETA: 0s - loss: 0.0060 - acc: 1.000 - ETA: 0s - loss: 0.0059 - acc: 1.000 - 27s 4ms/step - loss: 0.0059 - acc: 1.0000 - val_loss: 0.0017 - val_acc: 1.0000\n",
      "Epoch 3/20\n",
      "6584/6584 [==============================] - ETA: 27s - loss: 0.0023 - acc: 1.00 - ETA: 26s - loss: 0.0022 - acc: 1.00 - ETA: 25s - loss: 0.0024 - acc: 1.00 - ETA: 24s - loss: 0.0024 - acc: 1.00 - ETA: 23s - loss: 0.0024 - acc: 1.00 - ETA: 22s - loss: 0.0024 - acc: 1.00 - ETA: 22s - loss: 0.0024 - acc: 1.00 - ETA: 21s - loss: 0.0024 - acc: 1.00 - ETA: 21s - loss: 0.0024 - acc: 1.00 - ETA: 20s - loss: 0.0024 - acc: 1.00 - ETA: 19s - loss: 0.0024 - acc: 1.00 - ETA: 19s - loss: 0.0024 - acc: 1.00 - ETA: 18s - loss: 0.0024 - acc: 1.00 - ETA: 18s - loss: 0.0024 - acc: 1.00 - ETA: 17s - loss: 0.0024 - acc: 1.00 - ETA: 17s - loss: 0.0024 - acc: 1.00 - ETA: 16s - loss: 0.0024 - acc: 1.00 - ETA: 16s - loss: 0.0024 - acc: 1.00 - ETA: 15s - loss: 0.0024 - acc: 1.00 - ETA: 15s - loss: 0.0024 - acc: 1.00 - ETA: 14s - loss: 0.0023 - acc: 1.00 - ETA: 14s - loss: 0.0023 - acc: 1.00 - ETA: 13s - loss: 0.0023 - acc: 1.00 - ETA: 13s - loss: 0.0023 - acc: 1.00 - ETA: 12s - loss: 0.0023 - acc: 1.00 - ETA: 12s - loss: 0.0023 - acc: 1.00 - ETA: 11s - loss: 0.0023 - acc: 1.00 - ETA: 11s - loss: 0.0022 - acc: 1.00 - ETA: 10s - loss: 0.0022 - acc: 1.00 - ETA: 10s - loss: 0.0022 - acc: 1.00 - ETA: 9s - loss: 0.0022 - acc: 1.0000 - ETA: 9s - loss: 0.0022 - acc: 1.000 - ETA: 8s - loss: 0.0022 - acc: 1.000 - ETA: 8s - loss: 0.0022 - acc: 1.000 - ETA: 7s - loss: 0.0022 - acc: 1.000 - ETA: 7s - loss: 0.0022 - acc: 1.000 - ETA: 6s - loss: 0.0022 - acc: 1.000 - ETA: 6s - loss: 0.0022 - acc: 1.000 - ETA: 6s - loss: 0.0021 - acc: 1.000 - ETA: 5s - loss: 0.0021 - acc: 1.000 - ETA: 5s - loss: 0.0021 - acc: 1.000 - ETA: 4s - loss: 0.0021 - acc: 1.000 - ETA: 4s - loss: 0.0021 - acc: 1.000 - ETA: 3s - loss: 0.0021 - acc: 1.000 - ETA: 3s - loss: 0.0021 - acc: 1.000 - ETA: 2s - loss: 0.0021 - acc: 1.000 - ETA: 2s - loss: 0.0021 - acc: 1.000 - ETA: 1s - loss: 0.0021 - acc: 1.000 - ETA: 1s - loss: 0.0021 - acc: 1.000 - ETA: 0s - loss: 0.0021 - acc: 1.000 - ETA: 0s - loss: 0.0021 - acc: 1.000 - 27s 4ms/step - loss: 0.0021 - acc: 1.0000 - val_loss: 8.9476e-04 - val_acc: 1.0000\n",
      "Epoch 4/20\n",
      "6584/6584 [==============================] - ETA: 24s - loss: 0.0018 - acc: 1.00 - ETA: 23s - loss: 0.0018 - acc: 1.00 - ETA: 22s - loss: 0.0017 - acc: 1.00 - ETA: 22s - loss: 0.0017 - acc: 1.00 - ETA: 22s - loss: 0.0016 - acc: 1.00 - ETA: 21s - loss: 0.0016 - acc: 1.00 - ETA: 21s - loss: 0.0016 - acc: 1.00 - ETA: 20s - loss: 0.0016 - acc: 1.00 - ETA: 20s - loss: 0.0016 - acc: 1.00 - ETA: 19s - loss: 0.0016 - acc: 1.00 - ETA: 19s - loss: 0.0015 - acc: 1.00 - ETA: 18s - loss: 0.0015 - acc: 1.00 - ETA: 18s - loss: 0.0015 - acc: 1.00 - ETA: 17s - loss: 0.0015 - acc: 1.00 - ETA: 17s - loss: 0.0015 - acc: 1.00 - ETA: 16s - loss: 0.0015 - acc: 1.00 - ETA: 16s - loss: 0.0015 - acc: 1.00 - ETA: 15s - loss: 0.0015 - acc: 1.00 - ETA: 15s - loss: 0.0015 - acc: 1.00 - ETA: 14s - loss: 0.0015 - acc: 1.00 - ETA: 14s - loss: 0.0015 - acc: 1.00 - ETA: 13s - loss: 0.0015 - acc: 1.00 - ETA: 13s - loss: 0.0015 - acc: 1.00 - ETA: 13s - loss: 0.0015 - acc: 1.00 - ETA: 12s - loss: 0.0015 - acc: 1.00 - ETA: 12s - loss: 0.0015 - acc: 1.00 - ETA: 11s - loss: 0.0015 - acc: 1.00 - ETA: 11s - loss: 0.0015 - acc: 1.00 - ETA: 10s - loss: 0.0015 - acc: 1.00 - ETA: 10s - loss: 0.0015 - acc: 1.00 - ETA: 9s - loss: 0.0015 - acc: 1.0000 - ETA: 9s - loss: 0.0015 - acc: 1.000 - ETA: 8s - loss: 0.0015 - acc: 1.000 - ETA: 8s - loss: 0.0015 - acc: 1.000 - ETA: 7s - loss: 0.0014 - acc: 1.000 - ETA: 7s - loss: 0.0014 - acc: 1.000 - ETA: 6s - loss: 0.0014 - acc: 1.000 - ETA: 6s - loss: 0.0014 - acc: 1.000 - ETA: 5s - loss: 0.0014 - acc: 1.000 - ETA: 5s - loss: 0.0014 - acc: 1.000 - ETA: 5s - loss: 0.0014 - acc: 1.000 - ETA: 4s - loss: 0.0014 - acc: 1.000 - ETA: 4s - loss: 0.0014 - acc: 1.000 - ETA: 3s - loss: 0.0014 - acc: 1.000 - ETA: 3s - loss: 0.0014 - acc: 1.000 - ETA: 2s - loss: 0.0014 - acc: 1.000 - ETA: 2s - loss: 0.0014 - acc: 1.000 - ETA: 1s - loss: 0.0014 - acc: 1.000 - ETA: 1s - loss: 0.0014 - acc: 1.000 - ETA: 0s - loss: 0.0014 - acc: 1.000 - ETA: 0s - loss: 0.0014 - acc: 1.000 - 27s 4ms/step - loss: 0.0014 - acc: 1.0000 - val_loss: 5.8978e-04 - val_acc: 1.0000\n",
      "Epoch 5/20\n",
      "6584/6584 [==============================] - ETA: 25s - loss: 0.0012 - acc: 1.00 - ETA: 24s - loss: 0.0014 - acc: 1.00 - ETA: 24s - loss: 0.0013 - acc: 1.00 - ETA: 24s - loss: 0.0012 - acc: 1.00 - ETA: 24s - loss: 0.0013 - acc: 1.00 - ETA: 24s - loss: 0.0012 - acc: 1.00 - ETA: 24s - loss: 0.0012 - acc: 1.00 - ETA: 23s - loss: 0.0012 - acc: 1.00 - ETA: 23s - loss: 0.0012 - acc: 1.00 - ETA: 23s - loss: 0.0012 - acc: 1.00 - ETA: 22s - loss: 0.0012 - acc: 1.00 - ETA: 21s - loss: 0.0012 - acc: 1.00 - ETA: 21s - loss: 0.0011 - acc: 1.00 - ETA: 20s - loss: 0.0011 - acc: 1.00 - ETA: 19s - loss: 0.0011 - acc: 1.00 - ETA: 18s - loss: 0.0011 - acc: 1.00 - ETA: 18s - loss: 0.0011 - acc: 1.00 - ETA: 17s - loss: 0.0011 - acc: 1.00 - ETA: 17s - loss: 0.0011 - acc: 1.00 - ETA: 16s - loss: 0.0011 - acc: 1.00 - ETA: 15s - loss: 0.0011 - acc: 1.00 - ETA: 15s - loss: 0.0011 - acc: 1.00 - ETA: 14s - loss: 0.0011 - acc: 1.00 - ETA: 14s - loss: 0.0011 - acc: 1.00 - ETA: 13s - loss: 0.0011 - acc: 1.00 - ETA: 13s - loss: 0.0011 - acc: 1.00 - ETA: 12s - loss: 0.0011 - acc: 1.00 - ETA: 12s - loss: 0.0011 - acc: 1.00 - ETA: 11s - loss: 0.0011 - acc: 1.00 - ETA: 10s - loss: 0.0011 - acc: 1.00 - ETA: 10s - loss: 0.0011 - acc: 1.00 - ETA: 9s - loss: 0.0011 - acc: 1.0000 - ETA: 9s - loss: 0.0011 - acc: 1.000 - ETA: 8s - loss: 0.0011 - acc: 1.000 - ETA: 8s - loss: 0.0011 - acc: 1.000 - ETA: 7s - loss: 0.0011 - acc: 1.000 - ETA: 7s - loss: 0.0011 - acc: 1.000 - ETA: 6s - loss: 0.0010 - acc: 1.000 - ETA: 6s - loss: 0.0010 - acc: 1.000 - ETA: 5s - loss: 0.0010 - acc: 1.000 - ETA: 5s - loss: 0.0010 - acc: 1.000 - ETA: 4s - loss: 0.0010 - acc: 1.000 - ETA: 4s - loss: 0.0010 - acc: 1.000 - ETA: 3s - loss: 0.0010 - acc: 1.000 - ETA: 3s - loss: 0.0010 - acc: 1.000 - ETA: 2s - loss: 0.0010 - acc: 1.000 - ETA: 2s - loss: 0.0010 - acc: 1.000 - ETA: 1s - loss: 0.0010 - acc: 1.000 - ETA: 1s - loss: 0.0010 - acc: 1.000 - ETA: 0s - loss: 0.0010 - acc: 1.000 - ETA: 0s - loss: 0.0010 - acc: 1.000 - 28s 4ms/step - loss: 0.0010 - acc: 1.0000 - val_loss: 4.4062e-04 - val_acc: 1.0000\n",
      "Epoch 6/20\n",
      "6584/6584 [==============================] - ETA: 22s - loss: 8.1690e-04 - acc: 1.00 - ETA: 22s - loss: 8.5574e-04 - acc: 1.00 - ETA: 22s - loss: 8.2704e-04 - acc: 1.00 - ETA: 22s - loss: 8.6561e-04 - acc: 1.00 - ETA: 21s - loss: 9.5464e-04 - acc: 1.00 - ETA: 21s - loss: 9.8701e-04 - acc: 1.00 - ETA: 21s - loss: 9.7915e-04 - acc: 1.00 - ETA: 20s - loss: 9.4794e-04 - acc: 1.00 - ETA: 20s - loss: 9.2996e-04 - acc: 1.00 - ETA: 20s - loss: 9.3601e-04 - acc: 1.00 - ETA: 20s - loss: 9.3141e-04 - acc: 1.00 - ETA: 19s - loss: 9.2801e-04 - acc: 1.00 - ETA: 19s - loss: 9.1576e-04 - acc: 1.00 - ETA: 18s - loss: 9.0293e-04 - acc: 1.00 - ETA: 18s - loss: 9.0418e-04 - acc: 1.00 - ETA: 17s - loss: 8.9299e-04 - acc: 1.00 - ETA: 17s - loss: 8.8488e-04 - acc: 1.00 - ETA: 16s - loss: 8.9055e-04 - acc: 1.00 - ETA: 16s - loss: 8.8343e-04 - acc: 1.00 - ETA: 15s - loss: 8.8705e-04 - acc: 1.00 - ETA: 15s - loss: 8.8366e-04 - acc: 1.00 - ETA: 14s - loss: 8.9135e-04 - acc: 1.00 - ETA: 14s - loss: 8.9270e-04 - acc: 1.00 - ETA: 13s - loss: 8.8672e-04 - acc: 1.00 - ETA: 13s - loss: 8.7783e-04 - acc: 1.00 - ETA: 12s - loss: 8.7674e-04 - acc: 1.00 - ETA: 12s - loss: 8.6624e-04 - acc: 1.00 - ETA: 11s - loss: 8.5954e-04 - acc: 1.00 - ETA: 11s - loss: 8.5929e-04 - acc: 1.00 - ETA: 10s - loss: 8.6218e-04 - acc: 1.00 - ETA: 10s - loss: 8.5920e-04 - acc: 1.00 - ETA: 9s - loss: 8.5680e-04 - acc: 1.0000 - ETA: 9s - loss: 8.6946e-04 - acc: 1.000 - ETA: 8s - loss: 8.6677e-04 - acc: 1.000 - ETA: 8s - loss: 8.7223e-04 - acc: 1.000 - ETA: 7s - loss: 8.6833e-04 - acc: 1.000 - ETA: 7s - loss: 8.6294e-04 - acc: 1.000 - ETA: 6s - loss: 8.5872e-04 - acc: 1.000 - ETA: 6s - loss: 8.6571e-04 - acc: 1.000 - ETA: 5s - loss: 8.7323e-04 - acc: 1.000 - ETA: 5s - loss: 8.6826e-04 - acc: 1.000 - ETA: 4s - loss: 8.6163e-04 - acc: 1.000 - ETA: 4s - loss: 8.5683e-04 - acc: 1.000 - ETA: 3s - loss: 8.5400e-04 - acc: 1.000 - ETA: 3s - loss: 8.5173e-04 - acc: 1.000 - ETA: 2s - loss: 8.4926e-04 - acc: 1.000 - ETA: 2s - loss: 8.4939e-04 - acc: 1.000 - ETA: 1s - loss: 8.4399e-04 - acc: 1.000 - ETA: 1s - loss: 8.4443e-04 - acc: 1.000 - ETA: 0s - loss: 8.4106e-04 - acc: 1.000 - ETA: 0s - loss: 8.3591e-04 - acc: 1.000 - 28s 4ms/step - loss: 8.3497e-04 - acc: 1.0000 - val_loss: 3.4887e-04 - val_acc: 1.0000\n",
      "Epoch 7/20\n"
     ]
    },
    {
     "name": "stdout",
     "output_type": "stream",
     "text": [
      "6584/6584 [==============================] - ETA: 22s - loss: 6.2846e-04 - acc: 1.00 - ETA: 22s - loss: 6.6408e-04 - acc: 1.00 - ETA: 22s - loss: 6.6512e-04 - acc: 1.00 - ETA: 22s - loss: 7.7197e-04 - acc: 1.00 - ETA: 21s - loss: 7.6190e-04 - acc: 1.00 - ETA: 21s - loss: 7.5985e-04 - acc: 1.00 - ETA: 21s - loss: 7.7546e-04 - acc: 1.00 - ETA: 20s - loss: 7.6172e-04 - acc: 1.00 - ETA: 20s - loss: 7.5499e-04 - acc: 1.00 - ETA: 19s - loss: 7.4492e-04 - acc: 1.00 - ETA: 19s - loss: 7.4042e-04 - acc: 1.00 - ETA: 18s - loss: 7.3056e-04 - acc: 1.00 - ETA: 18s - loss: 7.4846e-04 - acc: 1.00 - ETA: 17s - loss: 7.4888e-04 - acc: 1.00 - ETA: 17s - loss: 7.4519e-04 - acc: 1.00 - ETA: 16s - loss: 7.5398e-04 - acc: 1.00 - ETA: 16s - loss: 7.4719e-04 - acc: 1.00 - ETA: 15s - loss: 7.3639e-04 - acc: 1.00 - ETA: 15s - loss: 7.4291e-04 - acc: 1.00 - ETA: 14s - loss: 7.3949e-04 - acc: 1.00 - ETA: 14s - loss: 7.3795e-04 - acc: 1.00 - ETA: 13s - loss: 7.3910e-04 - acc: 1.00 - ETA: 13s - loss: 7.4171e-04 - acc: 1.00 - ETA: 12s - loss: 7.4853e-04 - acc: 1.00 - ETA: 12s - loss: 7.5244e-04 - acc: 1.00 - ETA: 12s - loss: 7.5124e-04 - acc: 1.00 - ETA: 11s - loss: 7.4827e-04 - acc: 1.00 - ETA: 11s - loss: 7.4390e-04 - acc: 1.00 - ETA: 10s - loss: 7.3034e-04 - acc: 1.00 - ETA: 10s - loss: 7.2816e-04 - acc: 1.00 - ETA: 9s - loss: 7.2410e-04 - acc: 1.0000 - ETA: 9s - loss: 7.2875e-04 - acc: 1.000 - ETA: 8s - loss: 7.2144e-04 - acc: 1.000 - ETA: 8s - loss: 7.1613e-04 - acc: 1.000 - ETA: 7s - loss: 7.2391e-04 - acc: 1.000 - ETA: 7s - loss: 7.2782e-04 - acc: 1.000 - ETA: 6s - loss: 7.2487e-04 - acc: 1.000 - ETA: 6s - loss: 7.2118e-04 - acc: 1.000 - ETA: 5s - loss: 7.1549e-04 - acc: 1.000 - ETA: 5s - loss: 7.1035e-04 - acc: 1.000 - ETA: 4s - loss: 7.0862e-04 - acc: 1.000 - ETA: 4s - loss: 7.0475e-04 - acc: 1.000 - ETA: 4s - loss: 7.0087e-04 - acc: 1.000 - ETA: 3s - loss: 7.0481e-04 - acc: 1.000 - ETA: 3s - loss: 7.0477e-04 - acc: 1.000 - ETA: 2s - loss: 7.0377e-04 - acc: 1.000 - ETA: 2s - loss: 7.0079e-04 - acc: 1.000 - ETA: 1s - loss: 6.9918e-04 - acc: 1.000 - ETA: 1s - loss: 6.9812e-04 - acc: 1.000 - ETA: 0s - loss: 6.9481e-04 - acc: 1.000 - ETA: 0s - loss: 6.9548e-04 - acc: 1.000 - 27s 4ms/step - loss: 6.9454e-04 - acc: 1.0000 - val_loss: 2.9141e-04 - val_acc: 1.0000\n",
      "Epoch 8/20\n",
      "6584/6584 [==============================] - ETA: 23s - loss: 6.0749e-04 - acc: 1.00 - ETA: 23s - loss: 6.2600e-04 - acc: 1.00 - ETA: 22s - loss: 6.7094e-04 - acc: 1.00 - ETA: 22s - loss: 6.3787e-04 - acc: 1.00 - ETA: 21s - loss: 6.3879e-04 - acc: 1.00 - ETA: 21s - loss: 6.1740e-04 - acc: 1.00 - ETA: 21s - loss: 6.2781e-04 - acc: 1.00 - ETA: 20s - loss: 6.3816e-04 - acc: 1.00 - ETA: 20s - loss: 6.4231e-04 - acc: 1.00 - ETA: 19s - loss: 6.6246e-04 - acc: 1.00 - ETA: 19s - loss: 6.4487e-04 - acc: 1.00 - ETA: 18s - loss: 6.2693e-04 - acc: 1.00 - ETA: 18s - loss: 6.1511e-04 - acc: 1.00 - ETA: 17s - loss: 6.1681e-04 - acc: 1.00 - ETA: 17s - loss: 6.1852e-04 - acc: 1.00 - ETA: 16s - loss: 6.1638e-04 - acc: 1.00 - ETA: 16s - loss: 6.1281e-04 - acc: 1.00 - ETA: 16s - loss: 6.3496e-04 - acc: 1.00 - ETA: 15s - loss: 6.3644e-04 - acc: 1.00 - ETA: 15s - loss: 6.2590e-04 - acc: 1.00 - ETA: 14s - loss: 6.2266e-04 - acc: 1.00 - ETA: 14s - loss: 6.2616e-04 - acc: 1.00 - ETA: 13s - loss: 6.2548e-04 - acc: 1.00 - ETA: 13s - loss: 6.2710e-04 - acc: 1.00 - ETA: 12s - loss: 6.2703e-04 - acc: 1.00 - ETA: 12s - loss: 6.2083e-04 - acc: 1.00 - ETA: 11s - loss: 6.1708e-04 - acc: 1.00 - ETA: 11s - loss: 6.1522e-04 - acc: 1.00 - ETA: 10s - loss: 6.1745e-04 - acc: 1.00 - ETA: 10s - loss: 6.1923e-04 - acc: 1.00 - ETA: 9s - loss: 6.1496e-04 - acc: 1.0000 - ETA: 9s - loss: 6.1249e-04 - acc: 1.000 - ETA: 8s - loss: 6.0657e-04 - acc: 1.000 - ETA: 8s - loss: 6.1073e-04 - acc: 1.000 - ETA: 7s - loss: 6.0830e-04 - acc: 1.000 - ETA: 7s - loss: 6.0730e-04 - acc: 1.000 - ETA: 6s - loss: 6.0387e-04 - acc: 1.000 - ETA: 6s - loss: 6.0312e-04 - acc: 1.000 - ETA: 5s - loss: 6.0235e-04 - acc: 1.000 - ETA: 5s - loss: 5.9768e-04 - acc: 1.000 - ETA: 4s - loss: 5.9519e-04 - acc: 1.000 - ETA: 4s - loss: 5.9327e-04 - acc: 1.000 - ETA: 4s - loss: 5.9129e-04 - acc: 1.000 - ETA: 3s - loss: 5.9291e-04 - acc: 1.000 - ETA: 3s - loss: 5.9001e-04 - acc: 1.000 - ETA: 2s - loss: 5.9036e-04 - acc: 1.000 - ETA: 2s - loss: 5.9266e-04 - acc: 1.000 - ETA: 1s - loss: 5.9203e-04 - acc: 1.000 - ETA: 1s - loss: 5.9291e-04 - acc: 1.000 - ETA: 0s - loss: 5.9555e-04 - acc: 1.000 - ETA: 0s - loss: 5.9589e-04 - acc: 1.000 - 26s 4ms/step - loss: 5.9632e-04 - acc: 1.0000 - val_loss: 2.4866e-04 - val_acc: 1.0000\n",
      "Epoch 9/20\n",
      "6584/6584 [==============================] - ETA: 23s - loss: 6.3753e-04 - acc: 1.00 - ETA: 23s - loss: 5.4811e-04 - acc: 1.00 - ETA: 23s - loss: 5.0424e-04 - acc: 1.00 - ETA: 24s - loss: 5.0964e-04 - acc: 1.00 - ETA: 23s - loss: 4.9795e-04 - acc: 1.00 - ETA: 22s - loss: 5.0514e-04 - acc: 1.00 - ETA: 22s - loss: 5.2219e-04 - acc: 1.00 - ETA: 21s - loss: 5.2858e-04 - acc: 1.00 - ETA: 20s - loss: 5.4039e-04 - acc: 1.00 - ETA: 20s - loss: 5.6166e-04 - acc: 1.00 - ETA: 19s - loss: 5.5339e-04 - acc: 1.00 - ETA: 19s - loss: 5.5078e-04 - acc: 1.00 - ETA: 18s - loss: 5.4727e-04 - acc: 1.00 - ETA: 18s - loss: 5.4134e-04 - acc: 1.00 - ETA: 17s - loss: 5.3506e-04 - acc: 1.00 - ETA: 17s - loss: 5.4784e-04 - acc: 1.00 - ETA: 16s - loss: 5.5338e-04 - acc: 1.00 - ETA: 16s - loss: 5.7579e-04 - acc: 1.00 - ETA: 15s - loss: 5.7131e-04 - acc: 1.00 - ETA: 15s - loss: 5.6706e-04 - acc: 1.00 - ETA: 14s - loss: 5.6661e-04 - acc: 1.00 - ETA: 14s - loss: 5.5908e-04 - acc: 1.00 - ETA: 13s - loss: 5.5508e-04 - acc: 1.00 - ETA: 13s - loss: 5.5821e-04 - acc: 1.00 - ETA: 12s - loss: 5.4899e-04 - acc: 1.00 - ETA: 12s - loss: 5.4174e-04 - acc: 1.00 - ETA: 11s - loss: 5.4159e-04 - acc: 1.00 - ETA: 11s - loss: 5.3705e-04 - acc: 1.00 - ETA: 10s - loss: 5.4066e-04 - acc: 1.00 - ETA: 10s - loss: 5.3919e-04 - acc: 1.00 - ETA: 9s - loss: 5.3272e-04 - acc: 1.0000 - ETA: 9s - loss: 5.2948e-04 - acc: 1.000 - ETA: 8s - loss: 5.2778e-04 - acc: 1.000 - ETA: 8s - loss: 5.2898e-04 - acc: 1.000 - ETA: 7s - loss: 5.3245e-04 - acc: 1.000 - ETA: 7s - loss: 5.3655e-04 - acc: 1.000 - ETA: 6s - loss: 5.3306e-04 - acc: 1.000 - ETA: 6s - loss: 5.3215e-04 - acc: 1.000 - ETA: 5s - loss: 5.2893e-04 - acc: 1.000 - ETA: 5s - loss: 5.2864e-04 - acc: 1.000 - ETA: 4s - loss: 5.2812e-04 - acc: 1.000 - ETA: 4s - loss: 5.2635e-04 - acc: 1.000 - ETA: 4s - loss: 5.2309e-04 - acc: 1.000 - ETA: 3s - loss: 5.2467e-04 - acc: 1.000 - ETA: 3s - loss: 5.2388e-04 - acc: 1.000 - ETA: 2s - loss: 5.2520e-04 - acc: 1.000 - ETA: 2s - loss: 5.2636e-04 - acc: 1.000 - ETA: 1s - loss: 5.3397e-04 - acc: 1.000 - ETA: 1s - loss: 5.3454e-04 - acc: 1.000 - ETA: 0s - loss: 5.3396e-04 - acc: 1.000 - ETA: 0s - loss: 5.3459e-04 - acc: 1.000 - 26s 4ms/step - loss: 5.3507e-04 - acc: 1.0000 - val_loss: 2.1450e-04 - val_acc: 1.0000\n",
      "Epoch 10/20\n",
      "6584/6584 [==============================] - ETA: 23s - loss: 6.0931e-04 - acc: 1.00 - ETA: 22s - loss: 5.5399e-04 - acc: 1.00 - ETA: 22s - loss: 5.8444e-04 - acc: 1.00 - ETA: 21s - loss: 5.5964e-04 - acc: 1.00 - ETA: 21s - loss: 5.4732e-04 - acc: 1.00 - ETA: 21s - loss: 5.1130e-04 - acc: 1.00 - ETA: 20s - loss: 5.0704e-04 - acc: 1.00 - ETA: 20s - loss: 4.9298e-04 - acc: 1.00 - ETA: 19s - loss: 4.8257e-04 - acc: 1.00 - ETA: 19s - loss: 4.7984e-04 - acc: 1.00 - ETA: 18s - loss: 4.7450e-04 - acc: 1.00 - ETA: 18s - loss: 4.7072e-04 - acc: 1.00 - ETA: 17s - loss: 4.6965e-04 - acc: 1.00 - ETA: 17s - loss: 4.7187e-04 - acc: 1.00 - ETA: 17s - loss: 4.6811e-04 - acc: 1.00 - ETA: 16s - loss: 4.6150e-04 - acc: 1.00 - ETA: 16s - loss: 4.5914e-04 - acc: 1.00 - ETA: 15s - loss: 4.5917e-04 - acc: 1.00 - ETA: 15s - loss: 4.5805e-04 - acc: 1.00 - ETA: 14s - loss: 4.5675e-04 - acc: 1.00 - ETA: 14s - loss: 4.5925e-04 - acc: 1.00 - ETA: 13s - loss: 4.6261e-04 - acc: 1.00 - ETA: 13s - loss: 4.6672e-04 - acc: 1.00 - ETA: 12s - loss: 4.6761e-04 - acc: 1.00 - ETA: 12s - loss: 4.6475e-04 - acc: 1.00 - ETA: 11s - loss: 4.6936e-04 - acc: 1.00 - ETA: 11s - loss: 4.7279e-04 - acc: 1.00 - ETA: 10s - loss: 4.7046e-04 - acc: 1.00 - ETA: 10s - loss: 4.6869e-04 - acc: 1.00 - ETA: 10s - loss: 4.6658e-04 - acc: 1.00 - ETA: 9s - loss: 4.6963e-04 - acc: 1.0000 - ETA: 9s - loss: 4.7107e-04 - acc: 1.000 - ETA: 8s - loss: 4.6719e-04 - acc: 1.000 - ETA: 8s - loss: 4.6572e-04 - acc: 1.000 - ETA: 7s - loss: 4.6660e-04 - acc: 1.000 - ETA: 7s - loss: 4.6578e-04 - acc: 1.000 - ETA: 6s - loss: 4.6383e-04 - acc: 1.000 - ETA: 6s - loss: 4.6307e-04 - acc: 1.000 - ETA: 5s - loss: 4.6324e-04 - acc: 1.000 - ETA: 5s - loss: 4.6361e-04 - acc: 1.000 - ETA: 4s - loss: 4.6053e-04 - acc: 1.000 - ETA: 4s - loss: 4.6193e-04 - acc: 1.000 - ETA: 3s - loss: 4.5747e-04 - acc: 1.000 - ETA: 3s - loss: 4.5954e-04 - acc: 1.000 - ETA: 3s - loss: 4.5920e-04 - acc: 1.000 - ETA: 2s - loss: 4.5828e-04 - acc: 1.000 - ETA: 2s - loss: 4.6022e-04 - acc: 1.000 - ETA: 1s - loss: 4.5890e-04 - acc: 1.000 - ETA: 1s - loss: 4.5911e-04 - acc: 1.000 - ETA: 0s - loss: 4.6019e-04 - acc: 1.000 - ETA: 0s - loss: 4.5821e-04 - acc: 1.000 - 26s 4ms/step - loss: 4.5982e-04 - acc: 1.0000 - val_loss: 1.8695e-04 - val_acc: 1.0000\n",
      "Epoch 11/20\n",
      "6584/6584 [==============================] - ETA: 22s - loss: 3.7408e-04 - acc: 1.00 - ETA: 22s - loss: 4.3081e-04 - acc: 1.00 - ETA: 22s - loss: 3.9093e-04 - acc: 1.00 - ETA: 21s - loss: 3.9783e-04 - acc: 1.00 - ETA: 21s - loss: 4.1212e-04 - acc: 1.00 - ETA: 21s - loss: 4.1312e-04 - acc: 1.00 - ETA: 20s - loss: 4.2333e-04 - acc: 1.00 - ETA: 20s - loss: 4.3054e-04 - acc: 1.00 - ETA: 20s - loss: 4.2807e-04 - acc: 1.00 - ETA: 19s - loss: 4.2099e-04 - acc: 1.00 - ETA: 19s - loss: 4.1633e-04 - acc: 1.00 - ETA: 18s - loss: 4.3086e-04 - acc: 1.00 - ETA: 18s - loss: 4.3486e-04 - acc: 1.00 - ETA: 17s - loss: 4.3000e-04 - acc: 1.00 - ETA: 17s - loss: 4.2429e-04 - acc: 1.00 - ETA: 16s - loss: 4.2356e-04 - acc: 1.00 - ETA: 16s - loss: 4.2063e-04 - acc: 1.00 - ETA: 15s - loss: 4.1879e-04 - acc: 1.00 - ETA: 15s - loss: 4.1803e-04 - acc: 1.00 - ETA: 14s - loss: 4.1844e-04 - acc: 1.00 - ETA: 14s - loss: 4.1863e-04 - acc: 1.00 - ETA: 13s - loss: 4.1659e-04 - acc: 1.00 - ETA: 13s - loss: 4.2036e-04 - acc: 1.00 - ETA: 12s - loss: 4.2333e-04 - acc: 1.00 - ETA: 12s - loss: 4.2690e-04 - acc: 1.00 - ETA: 11s - loss: 4.2541e-04 - acc: 1.00 - ETA: 11s - loss: 4.2513e-04 - acc: 1.00 - ETA: 10s - loss: 4.2312e-04 - acc: 1.00 - ETA: 10s - loss: 4.2125e-04 - acc: 1.00 - ETA: 10s - loss: 4.2382e-04 - acc: 1.00 - ETA: 9s - loss: 4.2449e-04 - acc: 1.0000 - ETA: 9s - loss: 4.2375e-04 - acc: 1.000 - ETA: 8s - loss: 4.2197e-04 - acc: 1.000 - ETA: 8s - loss: 4.2141e-04 - acc: 1.000 - ETA: 7s - loss: 4.2396e-04 - acc: 1.000 - ETA: 7s - loss: 4.2278e-04 - acc: 1.000 - ETA: 6s - loss: 4.2244e-04 - acc: 1.000 - ETA: 6s - loss: 4.2158e-04 - acc: 1.000 - ETA: 5s - loss: 4.1943e-04 - acc: 1.000 - ETA: 5s - loss: 4.2181e-04 - acc: 1.000 - ETA: 4s - loss: 4.2030e-04 - acc: 1.000 - ETA: 4s - loss: 4.2138e-04 - acc: 1.000 - ETA: 3s - loss: 4.1956e-04 - acc: 1.000 - ETA: 3s - loss: 4.1671e-04 - acc: 1.000 - ETA: 3s - loss: 4.1494e-04 - acc: 1.000 - ETA: 2s - loss: 4.1868e-04 - acc: 1.000 - ETA: 2s - loss: 4.2043e-04 - acc: 1.000 - ETA: 1s - loss: 4.1901e-04 - acc: 1.000 - ETA: 1s - loss: 4.1937e-04 - acc: 1.000 - ETA: 0s - loss: 4.1883e-04 - acc: 1.000 - ETA: 0s - loss: 4.1776e-04 - acc: 1.000 - 26s 4ms/step - loss: 4.1870e-04 - acc: 1.0000 - val_loss: 1.6463e-04 - val_acc: 1.0000\n",
      "Epoch 12/20\n",
      "6584/6584 [==============================] - ETA: 22s - loss: 3.3988e-04 - acc: 1.00 - ETA: 22s - loss: 4.2103e-04 - acc: 1.00 - ETA: 22s - loss: 4.4598e-04 - acc: 1.00 - ETA: 21s - loss: 4.0733e-04 - acc: 1.00 - ETA: 21s - loss: 4.2241e-04 - acc: 1.00 - ETA: 20s - loss: 3.9647e-04 - acc: 1.00 - ETA: 20s - loss: 4.0590e-04 - acc: 1.00 - ETA: 20s - loss: 4.0887e-04 - acc: 1.00 - ETA: 19s - loss: 4.0789e-04 - acc: 1.00 - ETA: 19s - loss: 3.9385e-04 - acc: 1.00 - ETA: 18s - loss: 4.0009e-04 - acc: 1.00 - ETA: 18s - loss: 3.9801e-04 - acc: 1.00 - ETA: 17s - loss: 3.9513e-04 - acc: 1.00 - ETA: 17s - loss: 3.9387e-04 - acc: 1.00 - ETA: 17s - loss: 3.9159e-04 - acc: 1.00 - ETA: 16s - loss: 3.8995e-04 - acc: 1.00 - ETA: 16s - loss: 3.9038e-04 - acc: 1.00 - ETA: 15s - loss: 3.9525e-04 - acc: 1.00 - ETA: 15s - loss: 3.9194e-04 - acc: 1.00 - ETA: 14s - loss: 3.9240e-04 - acc: 1.00 - ETA: 14s - loss: 3.8810e-04 - acc: 1.00 - ETA: 13s - loss: 3.8587e-04 - acc: 1.00 - ETA: 13s - loss: 3.8885e-04 - acc: 1.00 - ETA: 12s - loss: 3.8778e-04 - acc: 1.00 - ETA: 12s - loss: 3.9025e-04 - acc: 1.00 - ETA: 11s - loss: 3.8755e-04 - acc: 1.00 - ETA: 11s - loss: 3.8556e-04 - acc: 1.00 - ETA: 11s - loss: 3.8642e-04 - acc: 1.00 - ETA: 10s - loss: 3.8755e-04 - acc: 1.00 - ETA: 10s - loss: 3.8538e-04 - acc: 1.00 - ETA: 9s - loss: 3.8573e-04 - acc: 1.0000 - ETA: 9s - loss: 3.8976e-04 - acc: 1.000 - ETA: 8s - loss: 3.8949e-04 - acc: 1.000 - ETA: 8s - loss: 3.8720e-04 - acc: 1.000 - ETA: 7s - loss: 3.8609e-04 - acc: 1.000 - ETA: 7s - loss: 3.8617e-04 - acc: 1.000 - ETA: 6s - loss: 3.8540e-04 - acc: 1.000 - ETA: 6s - loss: 3.8203e-04 - acc: 1.000 - ETA: 5s - loss: 3.8121e-04 - acc: 1.000 - ETA: 5s - loss: 3.8240e-04 - acc: 1.000 - ETA: 4s - loss: 3.8037e-04 - acc: 1.000 - ETA: 4s - loss: 3.8009e-04 - acc: 1.000 - ETA: 3s - loss: 3.8037e-04 - acc: 1.000 - ETA: 3s - loss: 3.7985e-04 - acc: 1.000 - ETA: 3s - loss: 3.7739e-04 - acc: 1.000 - ETA: 2s - loss: 3.7467e-04 - acc: 1.000 - ETA: 2s - loss: 3.7391e-04 - acc: 1.000 - ETA: 1s - loss: 3.7340e-04 - acc: 1.000 - ETA: 1s - loss: 3.7113e-04 - acc: 1.000 - ETA: 0s - loss: 3.6973e-04 - acc: 1.000 - ETA: 0s - loss: 3.6799e-04 - acc: 1.000 - 26s 4ms/step - loss: 3.6690e-04 - acc: 1.0000 - val_loss: 1.4653e-04 - val_acc: 1.0000\n",
      "Epoch 13/20\n"
     ]
    },
    {
     "name": "stdout",
     "output_type": "stream",
     "text": [
      "6584/6584 [==============================] - ETA: 23s - loss: 3.2473e-04 - acc: 1.00 - ETA: 23s - loss: 3.3353e-04 - acc: 1.00 - ETA: 23s - loss: 3.4373e-04 - acc: 1.00 - ETA: 23s - loss: 3.3991e-04 - acc: 1.00 - ETA: 22s - loss: 3.4803e-04 - acc: 1.00 - ETA: 22s - loss: 3.7885e-04 - acc: 1.00 - ETA: 21s - loss: 3.6362e-04 - acc: 1.00 - ETA: 21s - loss: 3.6230e-04 - acc: 1.00 - ETA: 20s - loss: 3.6502e-04 - acc: 1.00 - ETA: 20s - loss: 3.7332e-04 - acc: 1.00 - ETA: 19s - loss: 3.6587e-04 - acc: 1.00 - ETA: 19s - loss: 3.6258e-04 - acc: 1.00 - ETA: 18s - loss: 3.5523e-04 - acc: 1.00 - ETA: 18s - loss: 3.5469e-04 - acc: 1.00 - ETA: 17s - loss: 3.4847e-04 - acc: 1.00 - ETA: 17s - loss: 3.4226e-04 - acc: 1.00 - ETA: 16s - loss: 3.4100e-04 - acc: 1.00 - ETA: 16s - loss: 3.3932e-04 - acc: 1.00 - ETA: 15s - loss: 3.3679e-04 - acc: 1.00 - ETA: 15s - loss: 3.3813e-04 - acc: 1.00 - ETA: 14s - loss: 3.3971e-04 - acc: 1.00 - ETA: 14s - loss: 3.4234e-04 - acc: 1.00 - ETA: 13s - loss: 3.4181e-04 - acc: 1.00 - ETA: 13s - loss: 3.4010e-04 - acc: 1.00 - ETA: 12s - loss: 3.4605e-04 - acc: 1.00 - ETA: 12s - loss: 3.4317e-04 - acc: 1.00 - ETA: 11s - loss: 3.4480e-04 - acc: 1.00 - ETA: 11s - loss: 3.4580e-04 - acc: 1.00 - ETA: 10s - loss: 3.4129e-04 - acc: 1.00 - ETA: 10s - loss: 3.3949e-04 - acc: 1.00 - ETA: 9s - loss: 3.3997e-04 - acc: 1.0000 - ETA: 9s - loss: 3.4234e-04 - acc: 1.000 - ETA: 9s - loss: 3.4405e-04 - acc: 1.000 - ETA: 8s - loss: 3.4302e-04 - acc: 1.000 - ETA: 8s - loss: 3.4209e-04 - acc: 1.000 - ETA: 7s - loss: 3.4119e-04 - acc: 1.000 - ETA: 7s - loss: 3.3806e-04 - acc: 1.000 - ETA: 6s - loss: 3.3640e-04 - acc: 1.000 - ETA: 6s - loss: 3.3339e-04 - acc: 1.000 - ETA: 5s - loss: 3.3243e-04 - acc: 1.000 - ETA: 5s - loss: 3.3603e-04 - acc: 1.000 - ETA: 4s - loss: 3.3598e-04 - acc: 1.000 - ETA: 4s - loss: 3.3602e-04 - acc: 1.000 - ETA: 3s - loss: 3.3526e-04 - acc: 1.000 - ETA: 3s - loss: 3.3792e-04 - acc: 1.000 - ETA: 2s - loss: 3.3765e-04 - acc: 1.000 - ETA: 2s - loss: 3.3812e-04 - acc: 1.000 - ETA: 1s - loss: 3.4000e-04 - acc: 1.000 - ETA: 1s - loss: 3.3926e-04 - acc: 1.000 - ETA: 0s - loss: 3.3889e-04 - acc: 1.000 - ETA: 0s - loss: 3.3691e-04 - acc: 1.000 - 29s 4ms/step - loss: 3.3627e-04 - acc: 1.0000 - val_loss: 1.3214e-04 - val_acc: 1.0000\n",
      "Epoch 14/20\n",
      "6584/6584 [==============================] - ETA: 23s - loss: 3.3008e-04 - acc: 1.00 - ETA: 23s - loss: 3.0289e-04 - acc: 1.00 - ETA: 24s - loss: 2.9116e-04 - acc: 1.00 - ETA: 23s - loss: 3.1269e-04 - acc: 1.00 - ETA: 22s - loss: 3.2110e-04 - acc: 1.00 - ETA: 22s - loss: 3.1817e-04 - acc: 1.00 - ETA: 21s - loss: 3.2081e-04 - acc: 1.00 - ETA: 21s - loss: 3.2331e-04 - acc: 1.00 - ETA: 20s - loss: 3.1687e-04 - acc: 1.00 - ETA: 20s - loss: 3.1237e-04 - acc: 1.00 - ETA: 19s - loss: 3.0510e-04 - acc: 1.00 - ETA: 19s - loss: 3.1005e-04 - acc: 1.00 - ETA: 18s - loss: 3.0841e-04 - acc: 1.00 - ETA: 18s - loss: 3.0695e-04 - acc: 1.00 - ETA: 17s - loss: 3.0770e-04 - acc: 1.00 - ETA: 17s - loss: 3.1861e-04 - acc: 1.00 - ETA: 16s - loss: 3.1791e-04 - acc: 1.00 - ETA: 16s - loss: 3.1718e-04 - acc: 1.00 - ETA: 15s - loss: 3.1416e-04 - acc: 1.00 - ETA: 15s - loss: 3.1236e-04 - acc: 1.00 - ETA: 14s - loss: 3.0999e-04 - acc: 1.00 - ETA: 14s - loss: 3.0925e-04 - acc: 1.00 - ETA: 13s - loss: 3.1050e-04 - acc: 1.00 - ETA: 13s - loss: 3.1041e-04 - acc: 1.00 - ETA: 12s - loss: 3.1323e-04 - acc: 1.00 - ETA: 12s - loss: 3.1437e-04 - acc: 1.00 - ETA: 11s - loss: 3.1196e-04 - acc: 1.00 - ETA: 11s - loss: 3.1303e-04 - acc: 1.00 - ETA: 11s - loss: 3.1171e-04 - acc: 1.00 - ETA: 10s - loss: 3.1204e-04 - acc: 1.00 - ETA: 10s - loss: 3.1135e-04 - acc: 1.00 - ETA: 9s - loss: 3.1088e-04 - acc: 1.0000 - ETA: 9s - loss: 3.1198e-04 - acc: 1.000 - ETA: 8s - loss: 3.1280e-04 - acc: 1.000 - ETA: 8s - loss: 3.1092e-04 - acc: 1.000 - ETA: 7s - loss: 3.0944e-04 - acc: 1.000 - ETA: 7s - loss: 3.0896e-04 - acc: 1.000 - ETA: 6s - loss: 3.0826e-04 - acc: 1.000 - ETA: 6s - loss: 3.0611e-04 - acc: 1.000 - ETA: 5s - loss: 3.0440e-04 - acc: 1.000 - ETA: 5s - loss: 3.0319e-04 - acc: 1.000 - ETA: 4s - loss: 3.0252e-04 - acc: 1.000 - ETA: 4s - loss: 3.0284e-04 - acc: 1.000 - ETA: 3s - loss: 3.0174e-04 - acc: 1.000 - ETA: 3s - loss: 3.0269e-04 - acc: 1.000 - ETA: 2s - loss: 3.0564e-04 - acc: 1.000 - ETA: 2s - loss: 3.0498e-04 - acc: 1.000 - ETA: 1s - loss: 3.0455e-04 - acc: 1.000 - ETA: 1s - loss: 3.0489e-04 - acc: 1.000 - ETA: 0s - loss: 3.0355e-04 - acc: 1.000 - ETA: 0s - loss: 3.0416e-04 - acc: 1.000 - 27s 4ms/step - loss: 3.0527e-04 - acc: 1.0000 - val_loss: 1.1962e-04 - val_acc: 1.0000\n",
      "Epoch 15/20\n",
      "6584/6584 [==============================] - ETA: 23s - loss: 3.2828e-04 - acc: 1.00 - ETA: 23s - loss: 3.1336e-04 - acc: 1.00 - ETA: 22s - loss: 3.0224e-04 - acc: 1.00 - ETA: 22s - loss: 2.9234e-04 - acc: 1.00 - ETA: 21s - loss: 2.9984e-04 - acc: 1.00 - ETA: 21s - loss: 2.9979e-04 - acc: 1.00 - ETA: 21s - loss: 2.9735e-04 - acc: 1.00 - ETA: 22s - loss: 2.8500e-04 - acc: 1.00 - ETA: 22s - loss: 2.9596e-04 - acc: 1.00 - ETA: 22s - loss: 2.9019e-04 - acc: 1.00 - ETA: 21s - loss: 2.9567e-04 - acc: 1.00 - ETA: 21s - loss: 2.9680e-04 - acc: 1.00 - ETA: 21s - loss: 2.8824e-04 - acc: 1.00 - ETA: 21s - loss: 2.7815e-04 - acc: 1.00 - ETA: 20s - loss: 2.7967e-04 - acc: 1.00 - ETA: 20s - loss: 2.8263e-04 - acc: 1.00 - ETA: 20s - loss: 2.8419e-04 - acc: 1.00 - ETA: 19s - loss: 2.8203e-04 - acc: 1.00 - ETA: 18s - loss: 2.8052e-04 - acc: 1.00 - ETA: 18s - loss: 2.8234e-04 - acc: 1.00 - ETA: 17s - loss: 2.8395e-04 - acc: 1.00 - ETA: 16s - loss: 2.8487e-04 - acc: 1.00 - ETA: 16s - loss: 2.8279e-04 - acc: 1.00 - ETA: 15s - loss: 2.8507e-04 - acc: 1.00 - ETA: 15s - loss: 2.8630e-04 - acc: 1.00 - ETA: 14s - loss: 2.8668e-04 - acc: 1.00 - ETA: 14s - loss: 2.8612e-04 - acc: 1.00 - ETA: 13s - loss: 2.8550e-04 - acc: 1.00 - ETA: 12s - loss: 2.8540e-04 - acc: 1.00 - ETA: 12s - loss: 2.8748e-04 - acc: 1.00 - ETA: 11s - loss: 2.8494e-04 - acc: 1.00 - ETA: 10s - loss: 2.8451e-04 - acc: 1.00 - ETA: 10s - loss: 2.8373e-04 - acc: 1.00 - ETA: 9s - loss: 2.8406e-04 - acc: 1.0000 - ETA: 9s - loss: 2.8554e-04 - acc: 1.000 - ETA: 8s - loss: 2.8618e-04 - acc: 1.000 - ETA: 8s - loss: 2.8592e-04 - acc: 1.000 - ETA: 7s - loss: 2.8613e-04 - acc: 1.000 - ETA: 7s - loss: 2.8681e-04 - acc: 1.000 - ETA: 6s - loss: 2.8823e-04 - acc: 1.000 - ETA: 5s - loss: 2.8610e-04 - acc: 1.000 - ETA: 5s - loss: 2.8621e-04 - acc: 1.000 - ETA: 4s - loss: 2.8481e-04 - acc: 1.000 - ETA: 4s - loss: 2.8252e-04 - acc: 1.000 - ETA: 3s - loss: 2.8262e-04 - acc: 1.000 - ETA: 3s - loss: 2.8069e-04 - acc: 1.000 - ETA: 2s - loss: 2.7958e-04 - acc: 1.000 - ETA: 1s - loss: 2.7971e-04 - acc: 1.000 - ETA: 1s - loss: 2.8228e-04 - acc: 1.000 - ETA: 0s - loss: 2.8126e-04 - acc: 1.000 - ETA: 0s - loss: 2.8129e-04 - acc: 1.000 - 30s 5ms/step - loss: 2.8048e-04 - acc: 1.0000 - val_loss: 1.0855e-04 - val_acc: 1.0000\n",
      "Epoch 16/20\n",
      "6584/6584 [==============================] - ETA: 21s - loss: 1.6510e-04 - acc: 1.00 - ETA: 22s - loss: 1.9326e-04 - acc: 1.00 - ETA: 22s - loss: 1.9119e-04 - acc: 1.00 - ETA: 22s - loss: 2.0678e-04 - acc: 1.00 - ETA: 22s - loss: 2.0692e-04 - acc: 1.00 - ETA: 21s - loss: 2.3907e-04 - acc: 1.00 - ETA: 21s - loss: 2.4713e-04 - acc: 1.00 - ETA: 21s - loss: 2.5595e-04 - acc: 1.00 - ETA: 20s - loss: 2.5128e-04 - acc: 1.00 - ETA: 20s - loss: 2.5585e-04 - acc: 1.00 - ETA: 19s - loss: 2.6317e-04 - acc: 1.00 - ETA: 19s - loss: 2.5835e-04 - acc: 1.00 - ETA: 18s - loss: 2.5982e-04 - acc: 1.00 - ETA: 18s - loss: 2.5876e-04 - acc: 1.00 - ETA: 17s - loss: 2.5629e-04 - acc: 1.00 - ETA: 17s - loss: 2.6435e-04 - acc: 1.00 - ETA: 16s - loss: 2.6529e-04 - acc: 1.00 - ETA: 16s - loss: 2.6682e-04 - acc: 1.00 - ETA: 15s - loss: 2.6685e-04 - acc: 1.00 - ETA: 15s - loss: 2.6588e-04 - acc: 1.00 - ETA: 14s - loss: 2.6580e-04 - acc: 1.00 - ETA: 14s - loss: 2.6349e-04 - acc: 1.00 - ETA: 13s - loss: 2.6274e-04 - acc: 1.00 - ETA: 13s - loss: 2.6125e-04 - acc: 1.00 - ETA: 12s - loss: 2.6526e-04 - acc: 1.00 - ETA: 12s - loss: 2.6437e-04 - acc: 1.00 - ETA: 11s - loss: 2.6415e-04 - acc: 1.00 - ETA: 11s - loss: 2.6457e-04 - acc: 1.00 - ETA: 10s - loss: 2.6566e-04 - acc: 1.00 - ETA: 10s - loss: 2.6522e-04 - acc: 1.00 - ETA: 9s - loss: 2.6477e-04 - acc: 1.0000 - ETA: 9s - loss: 2.6352e-04 - acc: 1.000 - ETA: 8s - loss: 2.6331e-04 - acc: 1.000 - ETA: 8s - loss: 2.5976e-04 - acc: 1.000 - ETA: 7s - loss: 2.6120e-04 - acc: 1.000 - ETA: 7s - loss: 2.6337e-04 - acc: 1.000 - ETA: 6s - loss: 2.6278e-04 - acc: 1.000 - ETA: 6s - loss: 2.6354e-04 - acc: 1.000 - ETA: 5s - loss: 2.6269e-04 - acc: 1.000 - ETA: 5s - loss: 2.6222e-04 - acc: 1.000 - ETA: 4s - loss: 2.6145e-04 - acc: 1.000 - ETA: 4s - loss: 2.6056e-04 - acc: 1.000 - ETA: 4s - loss: 2.5938e-04 - acc: 1.000 - ETA: 3s - loss: 2.5913e-04 - acc: 1.000 - ETA: 3s - loss: 2.5840e-04 - acc: 1.000 - ETA: 2s - loss: 2.5796e-04 - acc: 1.000 - ETA: 2s - loss: 2.5827e-04 - acc: 1.000 - ETA: 1s - loss: 2.5768e-04 - acc: 1.000 - ETA: 1s - loss: 2.5715e-04 - acc: 1.000 - ETA: 0s - loss: 2.5720e-04 - acc: 1.000 - ETA: 0s - loss: 2.5718e-04 - acc: 1.000 - 27s 4ms/step - loss: 2.5696e-04 - acc: 1.0000 - val_loss: 9.8984e-05 - val_acc: 1.0000\n",
      "Epoch 17/20\n",
      "6584/6584 [==============================] - ETA: 27s - loss: 2.8167e-04 - acc: 1.00 - ETA: 28s - loss: 2.6810e-04 - acc: 1.00 - ETA: 27s - loss: 2.5407e-04 - acc: 1.00 - ETA: 26s - loss: 2.4766e-04 - acc: 1.00 - ETA: 25s - loss: 2.5107e-04 - acc: 1.00 - ETA: 24s - loss: 2.5219e-04 - acc: 1.00 - ETA: 23s - loss: 2.4859e-04 - acc: 1.00 - ETA: 24s - loss: 2.4805e-04 - acc: 1.00 - ETA: 23s - loss: 2.4783e-04 - acc: 1.00 - ETA: 23s - loss: 2.4312e-04 - acc: 1.00 - ETA: 22s - loss: 2.4527e-04 - acc: 1.00 - ETA: 21s - loss: 2.4642e-04 - acc: 1.00 - ETA: 21s - loss: 2.4266e-04 - acc: 1.00 - ETA: 20s - loss: 2.4301e-04 - acc: 1.00 - ETA: 20s - loss: 2.4320e-04 - acc: 1.00 - ETA: 19s - loss: 2.4201e-04 - acc: 1.00 - ETA: 19s - loss: 2.4185e-04 - acc: 1.00 - ETA: 18s - loss: 2.4034e-04 - acc: 1.00 - ETA: 17s - loss: 2.4521e-04 - acc: 1.00 - ETA: 17s - loss: 2.4871e-04 - acc: 1.00 - ETA: 16s - loss: 2.4697e-04 - acc: 1.00 - ETA: 16s - loss: 2.4495e-04 - acc: 1.00 - ETA: 15s - loss: 2.5070e-04 - acc: 1.00 - ETA: 15s - loss: 2.4797e-04 - acc: 1.00 - ETA: 14s - loss: 2.4742e-04 - acc: 1.00 - ETA: 13s - loss: 2.4603e-04 - acc: 1.00 - ETA: 13s - loss: 2.4673e-04 - acc: 1.00 - ETA: 12s - loss: 2.4485e-04 - acc: 1.00 - ETA: 12s - loss: 2.4447e-04 - acc: 1.00 - ETA: 11s - loss: 2.4290e-04 - acc: 1.00 - ETA: 10s - loss: 2.4257e-04 - acc: 1.00 - ETA: 10s - loss: 2.4037e-04 - acc: 1.00 - ETA: 9s - loss: 2.3991e-04 - acc: 1.0000 - ETA: 9s - loss: 2.4118e-04 - acc: 1.000 - ETA: 8s - loss: 2.3985e-04 - acc: 1.000 - ETA: 8s - loss: 2.4191e-04 - acc: 1.000 - ETA: 7s - loss: 2.4227e-04 - acc: 1.000 - ETA: 7s - loss: 2.4199e-04 - acc: 1.000 - ETA: 6s - loss: 2.4189e-04 - acc: 1.000 - ETA: 5s - loss: 2.4363e-04 - acc: 1.000 - ETA: 5s - loss: 2.4249e-04 - acc: 1.000 - ETA: 4s - loss: 2.4384e-04 - acc: 1.000 - ETA: 4s - loss: 2.4195e-04 - acc: 1.000 - ETA: 3s - loss: 2.4157e-04 - acc: 1.000 - ETA: 3s - loss: 2.4172e-04 - acc: 1.000 - ETA: 2s - loss: 2.4049e-04 - acc: 1.000 - ETA: 2s - loss: 2.4056e-04 - acc: 1.000 - ETA: 1s - loss: 2.4051e-04 - acc: 1.000 - ETA: 1s - loss: 2.4207e-04 - acc: 1.000 - ETA: 0s - loss: 2.4205e-04 - acc: 1.000 - ETA: 0s - loss: 2.4153e-04 - acc: 1.000 - 28s 4ms/step - loss: 2.4171e-04 - acc: 1.0000 - val_loss: 9.0613e-05 - val_acc: 1.0000\n",
      "Epoch 18/20\n",
      "6584/6584 [==============================] - ETA: 22s - loss: 2.1831e-04 - acc: 1.00 - ETA: 23s - loss: 2.0555e-04 - acc: 1.00 - ETA: 22s - loss: 2.4637e-04 - acc: 1.00 - ETA: 22s - loss: 2.3171e-04 - acc: 1.00 - ETA: 21s - loss: 2.3250e-04 - acc: 1.00 - ETA: 21s - loss: 2.3473e-04 - acc: 1.00 - ETA: 20s - loss: 2.2553e-04 - acc: 1.00 - ETA: 20s - loss: 2.3550e-04 - acc: 1.00 - ETA: 19s - loss: 2.2907e-04 - acc: 1.00 - ETA: 19s - loss: 2.2759e-04 - acc: 1.00 - ETA: 18s - loss: 2.2570e-04 - acc: 1.00 - ETA: 18s - loss: 2.2670e-04 - acc: 1.00 - ETA: 18s - loss: 2.3185e-04 - acc: 1.00 - ETA: 17s - loss: 2.3623e-04 - acc: 1.00 - ETA: 17s - loss: 2.3455e-04 - acc: 1.00 - ETA: 16s - loss: 2.3663e-04 - acc: 1.00 - ETA: 16s - loss: 2.3489e-04 - acc: 1.00 - ETA: 15s - loss: 2.3518e-04 - acc: 1.00 - ETA: 15s - loss: 2.3402e-04 - acc: 1.00 - ETA: 14s - loss: 2.3390e-04 - acc: 1.00 - ETA: 14s - loss: 2.3075e-04 - acc: 1.00 - ETA: 13s - loss: 2.3070e-04 - acc: 1.00 - ETA: 13s - loss: 2.2837e-04 - acc: 1.00 - ETA: 12s - loss: 2.3577e-04 - acc: 1.00 - ETA: 12s - loss: 2.3398e-04 - acc: 1.00 - ETA: 11s - loss: 2.3300e-04 - acc: 1.00 - ETA: 11s - loss: 2.3194e-04 - acc: 1.00 - ETA: 11s - loss: 2.3215e-04 - acc: 1.00 - ETA: 10s - loss: 2.2959e-04 - acc: 1.00 - ETA: 10s - loss: 2.2955e-04 - acc: 1.00 - ETA: 9s - loss: 2.2925e-04 - acc: 1.0000 - ETA: 9s - loss: 2.2736e-04 - acc: 1.000 - ETA: 8s - loss: 2.2661e-04 - acc: 1.000 - ETA: 8s - loss: 2.2763e-04 - acc: 1.000 - ETA: 7s - loss: 2.2830e-04 - acc: 1.000 - ETA: 7s - loss: 2.2921e-04 - acc: 1.000 - ETA: 6s - loss: 2.2908e-04 - acc: 1.000 - ETA: 6s - loss: 2.2822e-04 - acc: 1.000 - ETA: 5s - loss: 2.2653e-04 - acc: 1.000 - ETA: 5s - loss: 2.2702e-04 - acc: 1.000 - ETA: 4s - loss: 2.2676e-04 - acc: 1.000 - ETA: 4s - loss: 2.2580e-04 - acc: 1.000 - ETA: 3s - loss: 2.2937e-04 - acc: 1.000 - ETA: 3s - loss: 2.2877e-04 - acc: 1.000 - ETA: 3s - loss: 2.2785e-04 - acc: 1.000 - ETA: 2s - loss: 2.3033e-04 - acc: 1.000 - ETA: 2s - loss: 2.2904e-04 - acc: 1.000 - ETA: 1s - loss: 2.3109e-04 - acc: 1.000 - ETA: 1s - loss: 2.2992e-04 - acc: 1.000 - ETA: 0s - loss: 2.2937e-04 - acc: 1.000 - ETA: 0s - loss: 2.2891e-04 - acc: 1.000 - 26s 4ms/step - loss: 2.2879e-04 - acc: 1.0000 - val_loss: 8.3088e-05 - val_acc: 1.0000\n",
      "Epoch 19/20\n"
     ]
    },
    {
     "name": "stdout",
     "output_type": "stream",
     "text": [
      "6584/6584 [==============================] - ETA: 23s - loss: 2.7381e-04 - acc: 1.00 - ETA: 22s - loss: 2.8047e-04 - acc: 1.00 - ETA: 22s - loss: 2.5280e-04 - acc: 1.00 - ETA: 21s - loss: 2.3521e-04 - acc: 1.00 - ETA: 21s - loss: 2.2239e-04 - acc: 1.00 - ETA: 21s - loss: 2.2370e-04 - acc: 1.00 - ETA: 20s - loss: 2.1571e-04 - acc: 1.00 - ETA: 20s - loss: 2.0888e-04 - acc: 1.00 - ETA: 19s - loss: 2.1841e-04 - acc: 1.00 - ETA: 19s - loss: 2.1491e-04 - acc: 1.00 - ETA: 18s - loss: 2.1273e-04 - acc: 1.00 - ETA: 18s - loss: 2.0950e-04 - acc: 1.00 - ETA: 17s - loss: 2.1181e-04 - acc: 1.00 - ETA: 17s - loss: 2.1512e-04 - acc: 1.00 - ETA: 17s - loss: 2.1507e-04 - acc: 1.00 - ETA: 16s - loss: 2.1454e-04 - acc: 1.00 - ETA: 16s - loss: 2.1351e-04 - acc: 1.00 - ETA: 15s - loss: 2.1200e-04 - acc: 1.00 - ETA: 15s - loss: 2.1080e-04 - acc: 1.00 - ETA: 15s - loss: 2.1011e-04 - acc: 1.00 - ETA: 14s - loss: 2.0849e-04 - acc: 1.00 - ETA: 14s - loss: 2.1060e-04 - acc: 1.00 - ETA: 14s - loss: 2.1141e-04 - acc: 1.00 - ETA: 13s - loss: 2.1603e-04 - acc: 1.00 - ETA: 13s - loss: 2.1982e-04 - acc: 1.00 - ETA: 12s - loss: 2.1734e-04 - acc: 1.00 - ETA: 12s - loss: 2.2111e-04 - acc: 1.00 - ETA: 11s - loss: 2.2177e-04 - acc: 1.00 - ETA: 11s - loss: 2.2060e-04 - acc: 1.00 - ETA: 10s - loss: 2.2588e-04 - acc: 1.00 - ETA: 10s - loss: 2.2682e-04 - acc: 1.00 - ETA: 9s - loss: 2.2460e-04 - acc: 1.0000 - ETA: 9s - loss: 2.2420e-04 - acc: 1.000 - ETA: 8s - loss: 2.2265e-04 - acc: 1.000 - ETA: 8s - loss: 2.2290e-04 - acc: 1.000 - ETA: 7s - loss: 2.2208e-04 - acc: 1.000 - ETA: 7s - loss: 2.2042e-04 - acc: 1.000 - ETA: 6s - loss: 2.1901e-04 - acc: 1.000 - ETA: 6s - loss: 2.2106e-04 - acc: 1.000 - ETA: 5s - loss: 2.2154e-04 - acc: 1.000 - ETA: 5s - loss: 2.2053e-04 - acc: 1.000 - ETA: 4s - loss: 2.1906e-04 - acc: 1.000 - ETA: 4s - loss: 2.2106e-04 - acc: 1.000 - ETA: 3s - loss: 2.2029e-04 - acc: 1.000 - ETA: 3s - loss: 2.2056e-04 - acc: 1.000 - ETA: 2s - loss: 2.2024e-04 - acc: 1.000 - ETA: 2s - loss: 2.2009e-04 - acc: 1.000 - ETA: 1s - loss: 2.1887e-04 - acc: 1.000 - ETA: 1s - loss: 2.1895e-04 - acc: 1.000 - ETA: 0s - loss: 2.1777e-04 - acc: 1.000 - ETA: 0s - loss: 2.1784e-04 - acc: 1.000 - 28s 4ms/step - loss: 2.1814e-04 - acc: 1.0000 - val_loss: 7.6269e-05 - val_acc: 1.0000\n",
      "Epoch 20/20\n",
      "6584/6584 [==============================] - ETA: 23s - loss: 2.1783e-04 - acc: 1.00 - ETA: 23s - loss: 2.2241e-04 - acc: 1.00 - ETA: 22s - loss: 2.1983e-04 - acc: 1.00 - ETA: 22s - loss: 2.2636e-04 - acc: 1.00 - ETA: 21s - loss: 2.1931e-04 - acc: 1.00 - ETA: 21s - loss: 2.0989e-04 - acc: 1.00 - ETA: 21s - loss: 1.9613e-04 - acc: 1.00 - ETA: 20s - loss: 2.0977e-04 - acc: 1.00 - ETA: 20s - loss: 2.1261e-04 - acc: 1.00 - ETA: 19s - loss: 2.0705e-04 - acc: 1.00 - ETA: 19s - loss: 2.1055e-04 - acc: 1.00 - ETA: 18s - loss: 2.0743e-04 - acc: 1.00 - ETA: 18s - loss: 2.0634e-04 - acc: 1.00 - ETA: 17s - loss: 2.0617e-04 - acc: 1.00 - ETA: 17s - loss: 2.0378e-04 - acc: 1.00 - ETA: 16s - loss: 2.0386e-04 - acc: 1.00 - ETA: 16s - loss: 2.0936e-04 - acc: 1.00 - ETA: 15s - loss: 2.0864e-04 - acc: 1.00 - ETA: 15s - loss: 2.0538e-04 - acc: 1.00 - ETA: 14s - loss: 2.0627e-04 - acc: 1.00 - ETA: 14s - loss: 2.0653e-04 - acc: 1.00 - ETA: 13s - loss: 2.0606e-04 - acc: 1.00 - ETA: 13s - loss: 2.0962e-04 - acc: 1.00 - ETA: 12s - loss: 2.0936e-04 - acc: 1.00 - ETA: 12s - loss: 2.0838e-04 - acc: 1.00 - ETA: 11s - loss: 2.0684e-04 - acc: 1.00 - ETA: 11s - loss: 2.0618e-04 - acc: 1.00 - ETA: 10s - loss: 2.0427e-04 - acc: 1.00 - ETA: 10s - loss: 2.0397e-04 - acc: 1.00 - ETA: 10s - loss: 2.0392e-04 - acc: 1.00 - ETA: 9s - loss: 2.0327e-04 - acc: 1.0000 - ETA: 9s - loss: 2.0295e-04 - acc: 1.000 - ETA: 8s - loss: 2.0298e-04 - acc: 1.000 - ETA: 8s - loss: 2.0293e-04 - acc: 1.000 - ETA: 7s - loss: 2.0291e-04 - acc: 1.000 - ETA: 7s - loss: 2.0236e-04 - acc: 1.000 - ETA: 6s - loss: 2.0095e-04 - acc: 1.000 - ETA: 6s - loss: 2.0170e-04 - acc: 1.000 - ETA: 5s - loss: 2.0003e-04 - acc: 1.000 - ETA: 5s - loss: 1.9906e-04 - acc: 1.000 - ETA: 4s - loss: 1.9841e-04 - acc: 1.000 - ETA: 4s - loss: 1.9847e-04 - acc: 1.000 - ETA: 3s - loss: 1.9763e-04 - acc: 1.000 - ETA: 3s - loss: 1.9776e-04 - acc: 1.000 - ETA: 3s - loss: 1.9659e-04 - acc: 1.000 - ETA: 2s - loss: 1.9555e-04 - acc: 1.000 - ETA: 2s - loss: 1.9858e-04 - acc: 1.000 - ETA: 1s - loss: 1.9789e-04 - acc: 1.000 - ETA: 1s - loss: 2.0073e-04 - acc: 1.000 - ETA: 0s - loss: 2.0094e-04 - acc: 1.000 - ETA: 0s - loss: 2.0057e-04 - acc: 1.000 - 26s 4ms/step - loss: 2.0001e-04 - acc: 1.0000 - val_loss: 7.0222e-05 - val_acc: 1.0000\n",
      "Accuracy: 100.00%\n"
     ]
    }
   ],
   "source": [
    "history = model_2.fit(x_train, y_train, epochs = 20, batch_size=128, verbose=1, validation_data=(x_test, y_test))\n",
    "scores_2 = model_2.evaluate(x_test, y_test, verbose = 0)\n",
    "print(\"Accuracy: %.2f%%\" % (scores_2[1]*100))"
   ]
  },
  {
   "cell_type": "code",
   "execution_count": 37,
   "metadata": {},
   "outputs": [
    {
     "name": "stdout",
     "output_type": "stream",
     "text": [
      "Accuracy: 100.00%\n"
     ]
    }
   ],
   "source": [
    "print(\"Accuracy: %.2f%%\" % (scores_2[1]*100))"
   ]
  },
  {
   "cell_type": "code",
   "execution_count": 38,
   "metadata": {},
   "outputs": [
    {
     "name": "stderr",
     "output_type": "stream",
     "text": [
      "C:\\Users\\hp\\Anaconda3\\lib\\site-packages\\ipykernel_launcher.py:1: UserWarning: The `nb_epoch` argument in `fit` has been renamed `epochs`.\n",
      "  \"\"\"Entry point for launching an IPython kernel.\n"
     ]
    },
    {
     "name": "stdout",
     "output_type": "stream",
     "text": [
      "Epoch 1/20\n",
      "6584/6584 [==============================] - ETA: 24s - loss: 1.6492e-04 - acc: 1.00 - ETA: 23s - loss: 1.6427e-04 - acc: 1.00 - ETA: 23s - loss: 1.5974e-04 - acc: 1.00 - ETA: 22s - loss: 1.6365e-04 - acc: 1.00 - ETA: 22s - loss: 1.6569e-04 - acc: 1.00 - ETA: 21s - loss: 1.6272e-04 - acc: 1.00 - ETA: 20s - loss: 1.7101e-04 - acc: 1.00 - ETA: 20s - loss: 1.7338e-04 - acc: 1.00 - ETA: 19s - loss: 1.7539e-04 - acc: 1.00 - ETA: 19s - loss: 1.7048e-04 - acc: 1.00 - ETA: 18s - loss: 1.7514e-04 - acc: 1.00 - ETA: 18s - loss: 1.7882e-04 - acc: 1.00 - ETA: 17s - loss: 1.8084e-04 - acc: 1.00 - ETA: 17s - loss: 1.8213e-04 - acc: 1.00 - ETA: 17s - loss: 1.8400e-04 - acc: 1.00 - ETA: 16s - loss: 1.8117e-04 - acc: 1.00 - ETA: 16s - loss: 1.8209e-04 - acc: 1.00 - ETA: 15s - loss: 1.8164e-04 - acc: 1.00 - ETA: 15s - loss: 1.8368e-04 - acc: 1.00 - ETA: 14s - loss: 1.8512e-04 - acc: 1.00 - ETA: 14s - loss: 1.8496e-04 - acc: 1.00 - ETA: 13s - loss: 1.8493e-04 - acc: 1.00 - ETA: 13s - loss: 1.8620e-04 - acc: 1.00 - ETA: 12s - loss: 1.8406e-04 - acc: 1.00 - ETA: 12s - loss: 1.8428e-04 - acc: 1.00 - ETA: 11s - loss: 1.8678e-04 - acc: 1.00 - ETA: 11s - loss: 1.9375e-04 - acc: 1.00 - ETA: 10s - loss: 1.9372e-04 - acc: 1.00 - ETA: 10s - loss: 1.9351e-04 - acc: 1.00 - ETA: 10s - loss: 1.9302e-04 - acc: 1.00 - ETA: 9s - loss: 1.9280e-04 - acc: 1.0000 - ETA: 9s - loss: 1.9253e-04 - acc: 1.000 - ETA: 8s - loss: 1.9159e-04 - acc: 1.000 - ETA: 8s - loss: 1.9050e-04 - acc: 1.000 - ETA: 7s - loss: 1.8986e-04 - acc: 1.000 - ETA: 7s - loss: 1.8908e-04 - acc: 1.000 - ETA: 6s - loss: 1.8929e-04 - acc: 1.000 - ETA: 6s - loss: 1.8985e-04 - acc: 1.000 - ETA: 5s - loss: 1.8951e-04 - acc: 1.000 - ETA: 5s - loss: 1.8818e-04 - acc: 1.000 - ETA: 4s - loss: 1.8900e-04 - acc: 1.000 - ETA: 4s - loss: 1.8923e-04 - acc: 1.000 - ETA: 3s - loss: 1.8888e-04 - acc: 1.000 - ETA: 3s - loss: 1.9063e-04 - acc: 1.000 - ETA: 3s - loss: 1.9030e-04 - acc: 1.000 - ETA: 2s - loss: 1.8898e-04 - acc: 1.000 - ETA: 2s - loss: 1.8846e-04 - acc: 1.000 - ETA: 1s - loss: 1.8724e-04 - acc: 1.000 - ETA: 1s - loss: 1.8673e-04 - acc: 1.000 - ETA: 0s - loss: 1.8653e-04 - acc: 1.000 - ETA: 0s - loss: 1.8628e-04 - acc: 1.000 - 24s 4ms/step - loss: 1.8585e-04 - acc: 1.0000\n",
      "Epoch 2/20\n",
      "6584/6584 [==============================] - ETA: 23s - loss: 1.5199e-04 - acc: 1.00 - ETA: 23s - loss: 1.5279e-04 - acc: 1.00 - ETA: 22s - loss: 2.2926e-04 - acc: 1.00 - ETA: 22s - loss: 2.0889e-04 - acc: 1.00 - ETA: 21s - loss: 2.0726e-04 - acc: 1.00 - ETA: 21s - loss: 2.1086e-04 - acc: 1.00 - ETA: 20s - loss: 2.0793e-04 - acc: 1.00 - ETA: 20s - loss: 1.9924e-04 - acc: 1.00 - ETA: 20s - loss: 1.9307e-04 - acc: 1.00 - ETA: 19s - loss: 1.9049e-04 - acc: 1.00 - ETA: 19s - loss: 1.8898e-04 - acc: 1.00 - ETA: 18s - loss: 1.9298e-04 - acc: 1.00 - ETA: 18s - loss: 1.9041e-04 - acc: 1.00 - ETA: 17s - loss: 1.9295e-04 - acc: 1.00 - ETA: 17s - loss: 1.9410e-04 - acc: 1.00 - ETA: 16s - loss: 1.9415e-04 - acc: 1.00 - ETA: 16s - loss: 1.9025e-04 - acc: 1.00 - ETA: 15s - loss: 1.9201e-04 - acc: 1.00 - ETA: 15s - loss: 1.9024e-04 - acc: 1.00 - ETA: 15s - loss: 1.8727e-04 - acc: 1.00 - ETA: 14s - loss: 1.8470e-04 - acc: 1.00 - ETA: 14s - loss: 1.8458e-04 - acc: 1.00 - ETA: 13s - loss: 1.8480e-04 - acc: 1.00 - ETA: 13s - loss: 1.8581e-04 - acc: 1.00 - ETA: 12s - loss: 1.8342e-04 - acc: 1.00 - ETA: 12s - loss: 1.8252e-04 - acc: 1.00 - ETA: 11s - loss: 1.8279e-04 - acc: 1.00 - ETA: 11s - loss: 1.8346e-04 - acc: 1.00 - ETA: 10s - loss: 1.8246e-04 - acc: 1.00 - ETA: 10s - loss: 1.8056e-04 - acc: 1.00 - ETA: 9s - loss: 1.8278e-04 - acc: 1.0000 - ETA: 9s - loss: 1.8289e-04 - acc: 1.000 - ETA: 8s - loss: 1.8253e-04 - acc: 1.000 - ETA: 8s - loss: 1.8140e-04 - acc: 1.000 - ETA: 7s - loss: 1.8186e-04 - acc: 1.000 - ETA: 7s - loss: 1.8034e-04 - acc: 1.000 - ETA: 6s - loss: 1.7939e-04 - acc: 1.000 - ETA: 6s - loss: 1.7882e-04 - acc: 1.000 - ETA: 5s - loss: 1.7988e-04 - acc: 1.000 - ETA: 5s - loss: 1.7958e-04 - acc: 1.000 - ETA: 4s - loss: 1.7937e-04 - acc: 1.000 - ETA: 4s - loss: 1.7848e-04 - acc: 1.000 - ETA: 4s - loss: 1.7844e-04 - acc: 1.000 - ETA: 3s - loss: 1.7754e-04 - acc: 1.000 - ETA: 3s - loss: 1.7757e-04 - acc: 1.000 - ETA: 2s - loss: 1.7716e-04 - acc: 1.000 - ETA: 2s - loss: 1.7633e-04 - acc: 1.000 - ETA: 1s - loss: 1.7549e-04 - acc: 1.000 - ETA: 1s - loss: 1.7600e-04 - acc: 1.000 - ETA: 0s - loss: 1.7578e-04 - acc: 1.000 - ETA: 0s - loss: 1.7667e-04 - acc: 1.000 - 25s 4ms/step - loss: 1.7647e-04 - acc: 1.0000\n",
      "Epoch 3/20\n",
      "6584/6584 [==============================] - ETA: 24s - loss: 1.8081e-04 - acc: 1.00 - ETA: 23s - loss: 1.8238e-04 - acc: 1.00 - ETA: 23s - loss: 1.9560e-04 - acc: 1.00 - ETA: 22s - loss: 1.9746e-04 - acc: 1.00 - ETA: 22s - loss: 1.8456e-04 - acc: 1.00 - ETA: 21s - loss: 1.7367e-04 - acc: 1.00 - ETA: 21s - loss: 1.6688e-04 - acc: 1.00 - ETA: 20s - loss: 1.6914e-04 - acc: 1.00 - ETA: 20s - loss: 1.6897e-04 - acc: 1.00 - ETA: 19s - loss: 1.6537e-04 - acc: 1.00 - ETA: 19s - loss: 1.7306e-04 - acc: 1.00 - ETA: 18s - loss: 1.7089e-04 - acc: 1.00 - ETA: 18s - loss: 1.7011e-04 - acc: 1.00 - ETA: 17s - loss: 1.6769e-04 - acc: 1.00 - ETA: 17s - loss: 1.6817e-04 - acc: 1.00 - ETA: 16s - loss: 1.6906e-04 - acc: 1.00 - ETA: 16s - loss: 1.6890e-04 - acc: 1.00 - ETA: 15s - loss: 1.8056e-04 - acc: 1.00 - ETA: 15s - loss: 1.7758e-04 - acc: 1.00 - ETA: 14s - loss: 1.7790e-04 - acc: 1.00 - ETA: 14s - loss: 1.8034e-04 - acc: 1.00 - ETA: 13s - loss: 1.7856e-04 - acc: 1.00 - ETA: 13s - loss: 1.7884e-04 - acc: 1.00 - ETA: 12s - loss: 1.8040e-04 - acc: 1.00 - ETA: 12s - loss: 1.7777e-04 - acc: 1.00 - ETA: 12s - loss: 1.7734e-04 - acc: 1.00 - ETA: 11s - loss: 1.7866e-04 - acc: 1.00 - ETA: 11s - loss: 1.7722e-04 - acc: 1.00 - ETA: 10s - loss: 1.7871e-04 - acc: 1.00 - ETA: 10s - loss: 1.7664e-04 - acc: 1.00 - ETA: 9s - loss: 1.7691e-04 - acc: 1.0000 - ETA: 9s - loss: 1.7628e-04 - acc: 1.000 - ETA: 8s - loss: 1.7439e-04 - acc: 1.000 - ETA: 8s - loss: 1.7299e-04 - acc: 1.000 - ETA: 7s - loss: 1.7214e-04 - acc: 1.000 - ETA: 7s - loss: 1.7177e-04 - acc: 1.000 - ETA: 6s - loss: 1.7065e-04 - acc: 1.000 - ETA: 6s - loss: 1.6975e-04 - acc: 1.000 - ETA: 5s - loss: 1.6893e-04 - acc: 1.000 - ETA: 5s - loss: 1.7007e-04 - acc: 1.000 - ETA: 4s - loss: 1.7284e-04 - acc: 1.000 - ETA: 4s - loss: 1.7199e-04 - acc: 1.000 - ETA: 4s - loss: 1.7094e-04 - acc: 1.000 - ETA: 3s - loss: 1.7061e-04 - acc: 1.000 - ETA: 3s - loss: 1.7213e-04 - acc: 1.000 - ETA: 2s - loss: 1.7105e-04 - acc: 1.000 - ETA: 2s - loss: 1.7065e-04 - acc: 1.000 - ETA: 1s - loss: 1.6993e-04 - acc: 1.000 - ETA: 1s - loss: 1.6895e-04 - acc: 1.000 - ETA: 0s - loss: 1.6807e-04 - acc: 1.000 - ETA: 0s - loss: 1.6815e-04 - acc: 1.000 - 24s 4ms/step - loss: 1.6764e-04 - acc: 1.0000\n",
      "Epoch 4/20\n",
      "6584/6584 [==============================] - ETA: 23s - loss: 1.2659e-04 - acc: 1.00 - ETA: 23s - loss: 1.4054e-04 - acc: 1.00 - ETA: 22s - loss: 1.3826e-04 - acc: 1.00 - ETA: 22s - loss: 1.4736e-04 - acc: 1.00 - ETA: 21s - loss: 1.4903e-04 - acc: 1.00 - ETA: 21s - loss: 1.5340e-04 - acc: 1.00 - ETA: 21s - loss: 1.5303e-04 - acc: 1.00 - ETA: 20s - loss: 1.5856e-04 - acc: 1.00 - ETA: 20s - loss: 1.5968e-04 - acc: 1.00 - ETA: 19s - loss: 1.5633e-04 - acc: 1.00 - ETA: 19s - loss: 1.5516e-04 - acc: 1.00 - ETA: 18s - loss: 1.5778e-04 - acc: 1.00 - ETA: 18s - loss: 1.5703e-04 - acc: 1.00 - ETA: 17s - loss: 1.5884e-04 - acc: 1.00 - ETA: 17s - loss: 1.6185e-04 - acc: 1.00 - ETA: 16s - loss: 1.6573e-04 - acc: 1.00 - ETA: 16s - loss: 1.6375e-04 - acc: 1.00 - ETA: 15s - loss: 1.6425e-04 - acc: 1.00 - ETA: 15s - loss: 1.6265e-04 - acc: 1.00 - ETA: 14s - loss: 1.6398e-04 - acc: 1.00 - ETA: 14s - loss: 1.6322e-04 - acc: 1.00 - ETA: 13s - loss: 1.6061e-04 - acc: 1.00 - ETA: 13s - loss: 1.6328e-04 - acc: 1.00 - ETA: 13s - loss: 1.6692e-04 - acc: 1.00 - ETA: 12s - loss: 1.6449e-04 - acc: 1.00 - ETA: 12s - loss: 1.6443e-04 - acc: 1.00 - ETA: 11s - loss: 1.6364e-04 - acc: 1.00 - ETA: 11s - loss: 1.6396e-04 - acc: 1.00 - ETA: 10s - loss: 1.6259e-04 - acc: 1.00 - ETA: 10s - loss: 1.6123e-04 - acc: 1.00 - ETA: 9s - loss: 1.6100e-04 - acc: 1.0000 - ETA: 9s - loss: 1.6052e-04 - acc: 1.000 - ETA: 8s - loss: 1.5937e-04 - acc: 1.000 - ETA: 8s - loss: 1.5841e-04 - acc: 1.000 - ETA: 7s - loss: 1.5866e-04 - acc: 1.000 - ETA: 7s - loss: 1.5972e-04 - acc: 1.000 - ETA: 6s - loss: 1.6071e-04 - acc: 1.000 - ETA: 6s - loss: 1.6011e-04 - acc: 1.000 - ETA: 5s - loss: 1.6028e-04 - acc: 1.000 - ETA: 5s - loss: 1.5976e-04 - acc: 1.000 - ETA: 4s - loss: 1.5947e-04 - acc: 1.000 - ETA: 4s - loss: 1.6044e-04 - acc: 1.000 - ETA: 3s - loss: 1.6026e-04 - acc: 1.000 - ETA: 3s - loss: 1.6021e-04 - acc: 1.000 - ETA: 3s - loss: 1.5921e-04 - acc: 1.000 - ETA: 2s - loss: 1.5888e-04 - acc: 1.000 - ETA: 2s - loss: 1.5897e-04 - acc: 1.000 - ETA: 1s - loss: 1.5880e-04 - acc: 1.000 - ETA: 1s - loss: 1.5771e-04 - acc: 1.000 - ETA: 0s - loss: 1.5770e-04 - acc: 1.000 - ETA: 0s - loss: 1.5747e-04 - acc: 1.000 - 24s 4ms/step - loss: 1.5777e-04 - acc: 1.0000\n",
      "Epoch 5/20\n",
      "6584/6584 [==============================] - ETA: 22s - loss: 1.3638e-04 - acc: 1.00 - ETA: 23s - loss: 1.1795e-04 - acc: 1.00 - ETA: 22s - loss: 1.4407e-04 - acc: 1.00 - ETA: 22s - loss: 1.5744e-04 - acc: 1.00 - ETA: 21s - loss: 1.5222e-04 - acc: 1.00 - ETA: 21s - loss: 1.4845e-04 - acc: 1.00 - ETA: 20s - loss: 1.4558e-04 - acc: 1.00 - ETA: 20s - loss: 1.4040e-04 - acc: 1.00 - ETA: 19s - loss: 1.3953e-04 - acc: 1.00 - ETA: 19s - loss: 1.3775e-04 - acc: 1.00 - ETA: 18s - loss: 1.3997e-04 - acc: 1.00 - ETA: 18s - loss: 1.4794e-04 - acc: 1.00 - ETA: 17s - loss: 1.4802e-04 - acc: 1.00 - ETA: 17s - loss: 1.4449e-04 - acc: 1.00 - ETA: 16s - loss: 1.4442e-04 - acc: 1.00 - ETA: 16s - loss: 1.4616e-04 - acc: 1.00 - ETA: 16s - loss: 1.4511e-04 - acc: 1.00 - ETA: 15s - loss: 1.4852e-04 - acc: 1.00 - ETA: 15s - loss: 1.4809e-04 - acc: 1.00 - ETA: 14s - loss: 1.4940e-04 - acc: 1.00 - ETA: 14s - loss: 1.4944e-04 - acc: 1.00 - ETA: 13s - loss: 1.4851e-04 - acc: 1.00 - ETA: 13s - loss: 1.5016e-04 - acc: 1.00 - ETA: 12s - loss: 1.4831e-04 - acc: 1.00 - ETA: 12s - loss: 1.4889e-04 - acc: 1.00 - ETA: 11s - loss: 1.4816e-04 - acc: 1.00 - ETA: 11s - loss: 1.4803e-04 - acc: 1.00 - ETA: 10s - loss: 1.4840e-04 - acc: 1.00 - ETA: 10s - loss: 1.4971e-04 - acc: 1.00 - ETA: 10s - loss: 1.4783e-04 - acc: 1.00 - ETA: 9s - loss: 1.4903e-04 - acc: 1.0000 - ETA: 9s - loss: 1.4813e-04 - acc: 1.000 - ETA: 8s - loss: 1.4841e-04 - acc: 1.000 - ETA: 8s - loss: 1.4824e-04 - acc: 1.000 - ETA: 7s - loss: 1.4790e-04 - acc: 1.000 - ETA: 7s - loss: 1.4779e-04 - acc: 1.000 - ETA: 6s - loss: 1.4786e-04 - acc: 1.000 - ETA: 6s - loss: 1.4656e-04 - acc: 1.000 - ETA: 5s - loss: 1.4516e-04 - acc: 1.000 - ETA: 5s - loss: 1.4487e-04 - acc: 1.000 - ETA: 4s - loss: 1.4427e-04 - acc: 1.000 - ETA: 4s - loss: 1.4656e-04 - acc: 1.000 - ETA: 3s - loss: 1.4585e-04 - acc: 1.000 - ETA: 3s - loss: 1.4667e-04 - acc: 1.000 - ETA: 3s - loss: 1.4668e-04 - acc: 1.000 - ETA: 2s - loss: 1.4637e-04 - acc: 1.000 - ETA: 2s - loss: 1.4673e-04 - acc: 1.000 - ETA: 1s - loss: 1.4808e-04 - acc: 1.000 - ETA: 1s - loss: 1.4741e-04 - acc: 1.000 - ETA: 0s - loss: 1.5012e-04 - acc: 1.000 - ETA: 0s - loss: 1.4984e-04 - acc: 1.000 - 24s 4ms/step - loss: 1.4948e-04 - acc: 1.0000\n",
      "Epoch 6/20\n",
      "6584/6584 [==============================] - ETA: 23s - loss: 2.1169e-04 - acc: 1.00 - ETA: 23s - loss: 1.7423e-04 - acc: 1.00 - ETA: 22s - loss: 1.7180e-04 - acc: 1.00 - ETA: 22s - loss: 1.5815e-04 - acc: 1.00 - ETA: 21s - loss: 1.5064e-04 - acc: 1.00 - ETA: 21s - loss: 1.4473e-04 - acc: 1.00 - ETA: 20s - loss: 1.4956e-04 - acc: 1.00 - ETA: 20s - loss: 1.4621e-04 - acc: 1.00 - ETA: 19s - loss: 1.4510e-04 - acc: 1.00 - ETA: 19s - loss: 1.4526e-04 - acc: 1.00 - ETA: 18s - loss: 1.4126e-04 - acc: 1.00 - ETA: 18s - loss: 1.3712e-04 - acc: 1.00 - ETA: 18s - loss: 1.3364e-04 - acc: 1.00 - ETA: 17s - loss: 1.3224e-04 - acc: 1.00 - ETA: 17s - loss: 1.3213e-04 - acc: 1.00 - ETA: 16s - loss: 1.3545e-04 - acc: 1.00 - ETA: 16s - loss: 1.4063e-04 - acc: 1.00 - ETA: 15s - loss: 1.3897e-04 - acc: 1.00 - ETA: 15s - loss: 1.3656e-04 - acc: 1.00 - ETA: 14s - loss: 1.3411e-04 - acc: 1.00 - ETA: 14s - loss: 1.3358e-04 - acc: 1.00 - ETA: 13s - loss: 1.3222e-04 - acc: 1.00 - ETA: 13s - loss: 1.3304e-04 - acc: 1.00 - ETA: 12s - loss: 1.3384e-04 - acc: 1.00 - ETA: 12s - loss: 1.3448e-04 - acc: 1.00 - ETA: 11s - loss: 1.3507e-04 - acc: 1.00 - ETA: 11s - loss: 1.3390e-04 - acc: 1.00 - ETA: 11s - loss: 1.3434e-04 - acc: 1.00 - ETA: 10s - loss: 1.3375e-04 - acc: 1.00 - ETA: 10s - loss: 1.3346e-04 - acc: 1.00 - ETA: 9s - loss: 1.3225e-04 - acc: 1.0000 - ETA: 9s - loss: 1.3290e-04 - acc: 1.000 - ETA: 8s - loss: 1.3363e-04 - acc: 1.000 - ETA: 8s - loss: 1.3270e-04 - acc: 1.000 - ETA: 7s - loss: 1.3195e-04 - acc: 1.000 - ETA: 7s - loss: 1.3096e-04 - acc: 1.000 - ETA: 6s - loss: 1.3161e-04 - acc: 1.000 - ETA: 6s - loss: 1.3132e-04 - acc: 1.000 - ETA: 5s - loss: 1.3060e-04 - acc: 1.000 - ETA: 5s - loss: 1.3189e-04 - acc: 1.000 - ETA: 4s - loss: 1.3133e-04 - acc: 1.000 - ETA: 4s - loss: 1.3130e-04 - acc: 1.000 - ETA: 4s - loss: 1.3206e-04 - acc: 1.000 - ETA: 3s - loss: 1.3236e-04 - acc: 1.000 - ETA: 3s - loss: 1.3292e-04 - acc: 1.000 - ETA: 2s - loss: 1.3404e-04 - acc: 1.000 - ETA: 2s - loss: 1.3463e-04 - acc: 1.000 - ETA: 1s - loss: 1.3406e-04 - acc: 1.000 - ETA: 1s - loss: 1.3435e-04 - acc: 1.000 - ETA: 0s - loss: 1.3471e-04 - acc: 1.000 - ETA: 0s - loss: 1.3376e-04 - acc: 1.000 - 25s 4ms/step - loss: 1.3466e-04 - acc: 1.0000\n",
      "Epoch 7/20\n"
     ]
    },
    {
     "name": "stdout",
     "output_type": "stream",
     "text": [
      "6584/6584 [==============================] - ETA: 25s - loss: 1.6054e-04 - acc: 1.00 - ETA: 24s - loss: 1.5377e-04 - acc: 1.00 - ETA: 23s - loss: 1.5030e-04 - acc: 1.00 - ETA: 22s - loss: 1.3903e-04 - acc: 1.00 - ETA: 22s - loss: 1.6719e-04 - acc: 1.00 - ETA: 21s - loss: 1.5840e-04 - acc: 1.00 - ETA: 21s - loss: 1.4949e-04 - acc: 1.00 - ETA: 20s - loss: 1.5021e-04 - acc: 1.00 - ETA: 20s - loss: 1.4975e-04 - acc: 1.00 - ETA: 19s - loss: 1.4459e-04 - acc: 1.00 - ETA: 19s - loss: 1.4435e-04 - acc: 1.00 - ETA: 18s - loss: 1.5342e-04 - acc: 1.00 - ETA: 18s - loss: 1.4932e-04 - acc: 1.00 - ETA: 17s - loss: 1.4426e-04 - acc: 1.00 - ETA: 17s - loss: 1.4420e-04 - acc: 1.00 - ETA: 16s - loss: 1.4263e-04 - acc: 1.00 - ETA: 16s - loss: 1.4076e-04 - acc: 1.00 - ETA: 15s - loss: 1.4050e-04 - acc: 1.00 - ETA: 15s - loss: 1.3932e-04 - acc: 1.00 - ETA: 14s - loss: 1.3603e-04 - acc: 1.00 - ETA: 14s - loss: 1.3541e-04 - acc: 1.00 - ETA: 13s - loss: 1.3821e-04 - acc: 1.00 - ETA: 13s - loss: 1.3767e-04 - acc: 1.00 - ETA: 12s - loss: 1.3742e-04 - acc: 1.00 - ETA: 12s - loss: 1.3779e-04 - acc: 1.00 - ETA: 11s - loss: 1.3701e-04 - acc: 1.00 - ETA: 11s - loss: 1.3848e-04 - acc: 1.00 - ETA: 11s - loss: 1.3727e-04 - acc: 1.00 - ETA: 10s - loss: 1.3711e-04 - acc: 1.00 - ETA: 10s - loss: 1.3712e-04 - acc: 1.00 - ETA: 9s - loss: 1.3667e-04 - acc: 1.0000 - ETA: 9s - loss: 1.3571e-04 - acc: 1.000 - ETA: 8s - loss: 1.3434e-04 - acc: 1.000 - ETA: 8s - loss: 1.3400e-04 - acc: 1.000 - ETA: 7s - loss: 1.3319e-04 - acc: 1.000 - ETA: 7s - loss: 1.3244e-04 - acc: 1.000 - ETA: 6s - loss: 1.3235e-04 - acc: 1.000 - ETA: 6s - loss: 1.3169e-04 - acc: 1.000 - ETA: 5s - loss: 1.3112e-04 - acc: 1.000 - ETA: 5s - loss: 1.3166e-04 - acc: 1.000 - ETA: 4s - loss: 1.3099e-04 - acc: 1.000 - ETA: 4s - loss: 1.3109e-04 - acc: 1.000 - ETA: 3s - loss: 1.3060e-04 - acc: 1.000 - ETA: 3s - loss: 1.3042e-04 - acc: 1.000 - ETA: 3s - loss: 1.3071e-04 - acc: 1.000 - ETA: 2s - loss: 1.3083e-04 - acc: 1.000 - ETA: 2s - loss: 1.3018e-04 - acc: 1.000 - ETA: 1s - loss: 1.2945e-04 - acc: 1.000 - ETA: 1s - loss: 1.2909e-04 - acc: 1.000 - ETA: 0s - loss: 1.2925e-04 - acc: 1.000 - ETA: 0s - loss: 1.2948e-04 - acc: 1.000 - 24s 4ms/step - loss: 1.2977e-04 - acc: 1.0000\n",
      "Epoch 8/20\n",
      "6584/6584 [==============================] - ETA: 24s - loss: 1.1545e-04 - acc: 1.00 - ETA: 23s - loss: 1.2591e-04 - acc: 1.00 - ETA: 22s - loss: 1.1380e-04 - acc: 1.00 - ETA: 22s - loss: 1.2367e-04 - acc: 1.00 - ETA: 21s - loss: 1.2560e-04 - acc: 1.00 - ETA: 21s - loss: 1.3416e-04 - acc: 1.00 - ETA: 20s - loss: 1.2840e-04 - acc: 1.00 - ETA: 20s - loss: 1.2819e-04 - acc: 1.00 - ETA: 20s - loss: 1.2519e-04 - acc: 1.00 - ETA: 19s - loss: 1.2263e-04 - acc: 1.00 - ETA: 19s - loss: 1.2081e-04 - acc: 1.00 - ETA: 18s - loss: 1.2021e-04 - acc: 1.00 - ETA: 18s - loss: 1.2266e-04 - acc: 1.00 - ETA: 17s - loss: 1.2272e-04 - acc: 1.00 - ETA: 17s - loss: 1.2238e-04 - acc: 1.00 - ETA: 16s - loss: 1.2086e-04 - acc: 1.00 - ETA: 16s - loss: 1.2058e-04 - acc: 1.00 - ETA: 15s - loss: 1.2018e-04 - acc: 1.00 - ETA: 15s - loss: 1.1901e-04 - acc: 1.00 - ETA: 14s - loss: 1.1824e-04 - acc: 1.00 - ETA: 14s - loss: 1.1815e-04 - acc: 1.00 - ETA: 13s - loss: 1.1644e-04 - acc: 1.00 - ETA: 13s - loss: 1.1641e-04 - acc: 1.00 - ETA: 13s - loss: 1.1601e-04 - acc: 1.00 - ETA: 12s - loss: 1.1908e-04 - acc: 1.00 - ETA: 12s - loss: 1.1859e-04 - acc: 1.00 - ETA: 11s - loss: 1.1950e-04 - acc: 1.00 - ETA: 11s - loss: 1.1807e-04 - acc: 1.00 - ETA: 10s - loss: 1.1803e-04 - acc: 1.00 - ETA: 10s - loss: 1.1865e-04 - acc: 1.00 - ETA: 9s - loss: 1.1812e-04 - acc: 1.0000 - ETA: 9s - loss: 1.1698e-04 - acc: 1.000 - ETA: 8s - loss: 1.1727e-04 - acc: 1.000 - ETA: 8s - loss: 1.1765e-04 - acc: 1.000 - ETA: 7s - loss: 1.1819e-04 - acc: 1.000 - ETA: 7s - loss: 1.1807e-04 - acc: 1.000 - ETA: 6s - loss: 1.1890e-04 - acc: 1.000 - ETA: 6s - loss: 1.1925e-04 - acc: 1.000 - ETA: 5s - loss: 1.1874e-04 - acc: 1.000 - ETA: 5s - loss: 1.1907e-04 - acc: 1.000 - ETA: 4s - loss: 1.1954e-04 - acc: 1.000 - ETA: 4s - loss: 1.1866e-04 - acc: 1.000 - ETA: 4s - loss: 1.1900e-04 - acc: 1.000 - ETA: 3s - loss: 1.1873e-04 - acc: 1.000 - ETA: 3s - loss: 1.1946e-04 - acc: 1.000 - ETA: 2s - loss: 1.1970e-04 - acc: 1.000 - ETA: 2s - loss: 1.1949e-04 - acc: 1.000 - ETA: 1s - loss: 1.1941e-04 - acc: 1.000 - ETA: 1s - loss: 1.2033e-04 - acc: 1.000 - ETA: 0s - loss: 1.2041e-04 - acc: 1.000 - ETA: 0s - loss: 1.2014e-04 - acc: 1.000 - 25s 4ms/step - loss: 1.2048e-04 - acc: 1.0000\n",
      "Epoch 9/20\n",
      "6584/6584 [==============================] - ETA: 24s - loss: 1.1503e-04 - acc: 1.00 - ETA: 23s - loss: 9.7386e-05 - acc: 1.00 - ETA: 23s - loss: 9.4221e-05 - acc: 1.00 - ETA: 22s - loss: 1.0641e-04 - acc: 1.00 - ETA: 22s - loss: 1.0951e-04 - acc: 1.00 - ETA: 21s - loss: 1.1399e-04 - acc: 1.00 - ETA: 21s - loss: 1.0987e-04 - acc: 1.00 - ETA: 20s - loss: 1.1019e-04 - acc: 1.00 - ETA: 20s - loss: 1.1326e-04 - acc: 1.00 - ETA: 19s - loss: 1.1315e-04 - acc: 1.00 - ETA: 19s - loss: 1.1116e-04 - acc: 1.00 - ETA: 18s - loss: 1.1285e-04 - acc: 1.00 - ETA: 18s - loss: 1.1281e-04 - acc: 1.00 - ETA: 17s - loss: 1.1148e-04 - acc: 1.00 - ETA: 17s - loss: 1.1129e-04 - acc: 1.00 - ETA: 16s - loss: 1.1141e-04 - acc: 1.00 - ETA: 16s - loss: 1.1442e-04 - acc: 1.00 - ETA: 15s - loss: 1.1435e-04 - acc: 1.00 - ETA: 15s - loss: 1.1442e-04 - acc: 1.00 - ETA: 14s - loss: 1.1467e-04 - acc: 1.00 - ETA: 14s - loss: 1.1397e-04 - acc: 1.00 - ETA: 13s - loss: 1.1559e-04 - acc: 1.00 - ETA: 13s - loss: 1.1519e-04 - acc: 1.00 - ETA: 12s - loss: 1.1755e-04 - acc: 1.00 - ETA: 12s - loss: 1.1659e-04 - acc: 1.00 - ETA: 11s - loss: 1.1577e-04 - acc: 1.00 - ETA: 11s - loss: 1.1586e-04 - acc: 1.00 - ETA: 10s - loss: 1.1549e-04 - acc: 1.00 - ETA: 10s - loss: 1.1530e-04 - acc: 1.00 - ETA: 10s - loss: 1.1511e-04 - acc: 1.00 - ETA: 9s - loss: 1.1554e-04 - acc: 1.0000 - ETA: 9s - loss: 1.1474e-04 - acc: 1.000 - ETA: 8s - loss: 1.1479e-04 - acc: 1.000 - ETA: 8s - loss: 1.1474e-04 - acc: 1.000 - ETA: 7s - loss: 1.1663e-04 - acc: 1.000 - ETA: 7s - loss: 1.1650e-04 - acc: 1.000 - ETA: 6s - loss: 1.1635e-04 - acc: 1.000 - ETA: 6s - loss: 1.1674e-04 - acc: 1.000 - ETA: 5s - loss: 1.1643e-04 - acc: 1.000 - ETA: 5s - loss: 1.1685e-04 - acc: 1.000 - ETA: 4s - loss: 1.1598e-04 - acc: 1.000 - ETA: 4s - loss: 1.1538e-04 - acc: 1.000 - ETA: 3s - loss: 1.1543e-04 - acc: 1.000 - ETA: 3s - loss: 1.1527e-04 - acc: 1.000 - ETA: 3s - loss: 1.1576e-04 - acc: 1.000 - ETA: 2s - loss: 1.1589e-04 - acc: 1.000 - ETA: 2s - loss: 1.1543e-04 - acc: 1.000 - ETA: 1s - loss: 1.1565e-04 - acc: 1.000 - ETA: 1s - loss: 1.1540e-04 - acc: 1.000 - ETA: 0s - loss: 1.1674e-04 - acc: 1.000 - ETA: 0s - loss: 1.1716e-04 - acc: 1.000 - 24s 4ms/step - loss: 1.1729e-04 - acc: 1.0000\n",
      "Epoch 10/20\n",
      "6584/6584 [==============================] - ETA: 22s - loss: 1.3472e-04 - acc: 1.00 - ETA: 23s - loss: 1.0684e-04 - acc: 1.00 - ETA: 22s - loss: 1.0452e-04 - acc: 1.00 - ETA: 21s - loss: 1.1106e-04 - acc: 1.00 - ETA: 21s - loss: 1.0868e-04 - acc: 1.00 - ETA: 21s - loss: 1.1517e-04 - acc: 1.00 - ETA: 20s - loss: 1.2119e-04 - acc: 1.00 - ETA: 20s - loss: 1.1632e-04 - acc: 1.00 - ETA: 19s - loss: 1.1697e-04 - acc: 1.00 - ETA: 19s - loss: 1.1660e-04 - acc: 1.00 - ETA: 18s - loss: 1.1129e-04 - acc: 1.00 - ETA: 18s - loss: 1.1057e-04 - acc: 1.00 - ETA: 17s - loss: 1.0910e-04 - acc: 1.00 - ETA: 17s - loss: 1.0930e-04 - acc: 1.00 - ETA: 16s - loss: 1.0768e-04 - acc: 1.00 - ETA: 16s - loss: 1.0832e-04 - acc: 1.00 - ETA: 15s - loss: 1.1285e-04 - acc: 1.00 - ETA: 15s - loss: 1.1110e-04 - acc: 1.00 - ETA: 15s - loss: 1.1027e-04 - acc: 1.00 - ETA: 14s - loss: 1.1143e-04 - acc: 1.00 - ETA: 14s - loss: 1.1223e-04 - acc: 1.00 - ETA: 13s - loss: 1.1136e-04 - acc: 1.00 - ETA: 13s - loss: 1.1089e-04 - acc: 1.00 - ETA: 12s - loss: 1.1035e-04 - acc: 1.00 - ETA: 12s - loss: 1.0988e-04 - acc: 1.00 - ETA: 11s - loss: 1.0912e-04 - acc: 1.00 - ETA: 11s - loss: 1.0875e-04 - acc: 1.00 - ETA: 10s - loss: 1.0899e-04 - acc: 1.00 - ETA: 10s - loss: 1.0899e-04 - acc: 1.00 - ETA: 9s - loss: 1.1039e-04 - acc: 1.0000 - ETA: 9s - loss: 1.0982e-04 - acc: 1.000 - ETA: 8s - loss: 1.0890e-04 - acc: 1.000 - ETA: 8s - loss: 1.0962e-04 - acc: 1.000 - ETA: 8s - loss: 1.1035e-04 - acc: 1.000 - ETA: 7s - loss: 1.0991e-04 - acc: 1.000 - ETA: 7s - loss: 1.1016e-04 - acc: 1.000 - ETA: 6s - loss: 1.0996e-04 - acc: 1.000 - ETA: 6s - loss: 1.1007e-04 - acc: 1.000 - ETA: 5s - loss: 1.1055e-04 - acc: 1.000 - ETA: 5s - loss: 1.1107e-04 - acc: 1.000 - ETA: 4s - loss: 1.1087e-04 - acc: 1.000 - ETA: 4s - loss: 1.1241e-04 - acc: 1.000 - ETA: 3s - loss: 1.1177e-04 - acc: 1.000 - ETA: 3s - loss: 1.1092e-04 - acc: 1.000 - ETA: 2s - loss: 1.1079e-04 - acc: 1.000 - ETA: 2s - loss: 1.1161e-04 - acc: 1.000 - ETA: 2s - loss: 1.1265e-04 - acc: 1.000 - ETA: 1s - loss: 1.1291e-04 - acc: 1.000 - ETA: 1s - loss: 1.1247e-04 - acc: 1.000 - ETA: 0s - loss: 1.1227e-04 - acc: 1.000 - ETA: 0s - loss: 1.1203e-04 - acc: 1.000 - 24s 4ms/step - loss: 1.1218e-04 - acc: 1.0000\n",
      "Epoch 11/20\n",
      "6584/6584 [==============================] - ETA: 22s - loss: 7.6098e-05 - acc: 1.00 - ETA: 22s - loss: 8.3121e-05 - acc: 1.00 - ETA: 22s - loss: 8.9196e-05 - acc: 1.00 - ETA: 22s - loss: 9.0316e-05 - acc: 1.00 - ETA: 21s - loss: 8.9346e-05 - acc: 1.00 - ETA: 21s - loss: 9.8897e-05 - acc: 1.00 - ETA: 20s - loss: 9.4629e-05 - acc: 1.00 - ETA: 20s - loss: 9.1112e-05 - acc: 1.00 - ETA: 19s - loss: 1.0001e-04 - acc: 1.00 - ETA: 19s - loss: 1.0274e-04 - acc: 1.00 - ETA: 18s - loss: 1.0338e-04 - acc: 1.00 - ETA: 18s - loss: 1.0399e-04 - acc: 1.00 - ETA: 17s - loss: 1.0608e-04 - acc: 1.00 - ETA: 17s - loss: 1.0547e-04 - acc: 1.00 - ETA: 16s - loss: 1.0612e-04 - acc: 1.00 - ETA: 16s - loss: 1.0750e-04 - acc: 1.00 - ETA: 16s - loss: 1.1060e-04 - acc: 1.00 - ETA: 15s - loss: 1.0976e-04 - acc: 1.00 - ETA: 15s - loss: 1.0830e-04 - acc: 1.00 - ETA: 14s - loss: 1.0869e-04 - acc: 1.00 - ETA: 14s - loss: 1.0953e-04 - acc: 1.00 - ETA: 13s - loss: 1.1061e-04 - acc: 1.00 - ETA: 13s - loss: 1.0923e-04 - acc: 1.00 - ETA: 12s - loss: 1.0811e-04 - acc: 1.00 - ETA: 12s - loss: 1.0713e-04 - acc: 1.00 - ETA: 11s - loss: 1.0637e-04 - acc: 1.00 - ETA: 11s - loss: 1.0540e-04 - acc: 1.00 - ETA: 10s - loss: 1.0492e-04 - acc: 1.00 - ETA: 10s - loss: 1.0563e-04 - acc: 1.00 - ETA: 9s - loss: 1.0517e-04 - acc: 1.0000 - ETA: 9s - loss: 1.0462e-04 - acc: 1.000 - ETA: 9s - loss: 1.0426e-04 - acc: 1.000 - ETA: 8s - loss: 1.0502e-04 - acc: 1.000 - ETA: 8s - loss: 1.0575e-04 - acc: 1.000 - ETA: 7s - loss: 1.0533e-04 - acc: 1.000 - ETA: 7s - loss: 1.0612e-04 - acc: 1.000 - ETA: 6s - loss: 1.0717e-04 - acc: 1.000 - ETA: 6s - loss: 1.0649e-04 - acc: 1.000 - ETA: 5s - loss: 1.0591e-04 - acc: 1.000 - ETA: 5s - loss: 1.0600e-04 - acc: 1.000 - ETA: 4s - loss: 1.0614e-04 - acc: 1.000 - ETA: 4s - loss: 1.0730e-04 - acc: 1.000 - ETA: 3s - loss: 1.0788e-04 - acc: 1.000 - ETA: 3s - loss: 1.0727e-04 - acc: 1.000 - ETA: 2s - loss: 1.0648e-04 - acc: 1.000 - ETA: 2s - loss: 1.0690e-04 - acc: 1.000 - ETA: 2s - loss: 1.0598e-04 - acc: 1.000 - ETA: 1s - loss: 1.0653e-04 - acc: 1.000 - ETA: 1s - loss: 1.0611e-04 - acc: 1.000 - ETA: 0s - loss: 1.0613e-04 - acc: 1.000 - ETA: 0s - loss: 1.0608e-04 - acc: 1.000 - 24s 4ms/step - loss: 1.0554e-04 - acc: 1.0000\n",
      "Epoch 12/20\n",
      "6584/6584 [==============================] - ETA: 23s - loss: 7.2179e-05 - acc: 1.00 - ETA: 22s - loss: 9.5382e-05 - acc: 1.00 - ETA: 22s - loss: 9.1029e-05 - acc: 1.00 - ETA: 21s - loss: 9.2506e-05 - acc: 1.00 - ETA: 21s - loss: 9.2736e-05 - acc: 1.00 - ETA: 20s - loss: 9.0335e-05 - acc: 1.00 - ETA: 20s - loss: 9.2216e-05 - acc: 1.00 - ETA: 20s - loss: 9.1091e-05 - acc: 1.00 - ETA: 19s - loss: 9.8323e-05 - acc: 1.00 - ETA: 19s - loss: 9.4210e-05 - acc: 1.00 - ETA: 18s - loss: 9.2741e-05 - acc: 1.00 - ETA: 18s - loss: 9.5063e-05 - acc: 1.00 - ETA: 17s - loss: 9.4665e-05 - acc: 1.00 - ETA: 17s - loss: 9.4604e-05 - acc: 1.00 - ETA: 16s - loss: 9.5586e-05 - acc: 1.00 - ETA: 16s - loss: 9.6085e-05 - acc: 1.00 - ETA: 15s - loss: 9.6028e-05 - acc: 1.00 - ETA: 15s - loss: 9.7338e-05 - acc: 1.00 - ETA: 14s - loss: 9.7500e-05 - acc: 1.00 - ETA: 14s - loss: 1.0011e-04 - acc: 1.00 - ETA: 14s - loss: 1.0027e-04 - acc: 1.00 - ETA: 13s - loss: 1.0038e-04 - acc: 1.00 - ETA: 13s - loss: 9.9387e-05 - acc: 1.00 - ETA: 12s - loss: 9.8649e-05 - acc: 1.00 - ETA: 12s - loss: 9.8050e-05 - acc: 1.00 - ETA: 11s - loss: 9.7015e-05 - acc: 1.00 - ETA: 11s - loss: 9.7954e-05 - acc: 1.00 - ETA: 10s - loss: 9.7680e-05 - acc: 1.00 - ETA: 10s - loss: 9.8270e-05 - acc: 1.00 - ETA: 9s - loss: 9.8620e-05 - acc: 1.0000 - ETA: 9s - loss: 9.8828e-05 - acc: 1.000 - ETA: 9s - loss: 9.7884e-05 - acc: 1.000 - ETA: 8s - loss: 9.7589e-05 - acc: 1.000 - ETA: 8s - loss: 1.0228e-04 - acc: 1.000 - ETA: 7s - loss: 1.0161e-04 - acc: 1.000 - ETA: 7s - loss: 1.0114e-04 - acc: 1.000 - ETA: 6s - loss: 1.0079e-04 - acc: 1.000 - ETA: 6s - loss: 1.0016e-04 - acc: 1.000 - ETA: 5s - loss: 9.9969e-05 - acc: 1.000 - ETA: 5s - loss: 9.9754e-05 - acc: 1.000 - ETA: 4s - loss: 9.9801e-05 - acc: 1.000 - ETA: 4s - loss: 9.9005e-05 - acc: 1.000 - ETA: 3s - loss: 9.8314e-05 - acc: 1.000 - ETA: 3s - loss: 9.8356e-05 - acc: 1.000 - ETA: 3s - loss: 9.8326e-05 - acc: 1.000 - ETA: 2s - loss: 9.7715e-05 - acc: 1.000 - ETA: 2s - loss: 9.7321e-05 - acc: 1.000 - ETA: 1s - loss: 9.7223e-05 - acc: 1.000 - ETA: 1s - loss: 9.7166e-05 - acc: 1.000 - ETA: 0s - loss: 9.6810e-05 - acc: 1.000 - ETA: 0s - loss: 9.6513e-05 - acc: 1.000 - 24s 4ms/step - loss: 9.6856e-05 - acc: 1.0000\n",
      "Epoch 13/20\n"
     ]
    },
    {
     "name": "stdout",
     "output_type": "stream",
     "text": [
      "6584/6584 [==============================] - ETA: 23s - loss: 1.1727e-04 - acc: 1.00 - ETA: 22s - loss: 1.2128e-04 - acc: 1.00 - ETA: 22s - loss: 1.1381e-04 - acc: 1.00 - ETA: 21s - loss: 1.0499e-04 - acc: 1.00 - ETA: 21s - loss: 9.9801e-05 - acc: 1.00 - ETA: 20s - loss: 9.5838e-05 - acc: 1.00 - ETA: 20s - loss: 9.6581e-05 - acc: 1.00 - ETA: 19s - loss: 9.9464e-05 - acc: 1.00 - ETA: 19s - loss: 9.7116e-05 - acc: 1.00 - ETA: 19s - loss: 9.7093e-05 - acc: 1.00 - ETA: 18s - loss: 9.8695e-05 - acc: 1.00 - ETA: 18s - loss: 9.9110e-05 - acc: 1.00 - ETA: 17s - loss: 9.7299e-05 - acc: 1.00 - ETA: 17s - loss: 9.5834e-05 - acc: 1.00 - ETA: 16s - loss: 9.5012e-05 - acc: 1.00 - ETA: 16s - loss: 9.5163e-05 - acc: 1.00 - ETA: 15s - loss: 9.5700e-05 - acc: 1.00 - ETA: 15s - loss: 9.4108e-05 - acc: 1.00 - ETA: 14s - loss: 9.3419e-05 - acc: 1.00 - ETA: 14s - loss: 9.3667e-05 - acc: 1.00 - ETA: 14s - loss: 9.2438e-05 - acc: 1.00 - ETA: 13s - loss: 9.4338e-05 - acc: 1.00 - ETA: 13s - loss: 9.4855e-05 - acc: 1.00 - ETA: 12s - loss: 9.5488e-05 - acc: 1.00 - ETA: 12s - loss: 9.3881e-05 - acc: 1.00 - ETA: 11s - loss: 9.4773e-05 - acc: 1.00 - ETA: 11s - loss: 9.5822e-05 - acc: 1.00 - ETA: 10s - loss: 9.6437e-05 - acc: 1.00 - ETA: 10s - loss: 9.7435e-05 - acc: 1.00 - ETA: 9s - loss: 9.7497e-05 - acc: 1.0000 - ETA: 9s - loss: 9.7022e-05 - acc: 1.000 - ETA: 8s - loss: 9.6288e-05 - acc: 1.000 - ETA: 8s - loss: 9.6114e-05 - acc: 1.000 - ETA: 8s - loss: 9.8871e-05 - acc: 1.000 - ETA: 7s - loss: 9.8874e-05 - acc: 1.000 - ETA: 7s - loss: 9.8426e-05 - acc: 1.000 - ETA: 6s - loss: 9.7958e-05 - acc: 1.000 - ETA: 6s - loss: 9.8401e-05 - acc: 1.000 - ETA: 5s - loss: 9.9739e-05 - acc: 1.000 - ETA: 5s - loss: 9.9814e-05 - acc: 1.000 - ETA: 4s - loss: 1.0049e-04 - acc: 1.000 - ETA: 4s - loss: 1.0018e-04 - acc: 1.000 - ETA: 3s - loss: 9.9800e-05 - acc: 1.000 - ETA: 3s - loss: 9.9374e-05 - acc: 1.000 - ETA: 2s - loss: 9.9771e-05 - acc: 1.000 - ETA: 2s - loss: 1.0040e-04 - acc: 1.000 - ETA: 2s - loss: 9.9649e-05 - acc: 1.000 - ETA: 1s - loss: 9.9170e-05 - acc: 1.000 - ETA: 1s - loss: 9.9535e-05 - acc: 1.000 - ETA: 0s - loss: 9.9176e-05 - acc: 1.000 - ETA: 0s - loss: 9.9513e-05 - acc: 1.000 - 24s 4ms/step - loss: 9.9958e-05 - acc: 1.0000\n",
      "Epoch 14/20\n",
      "6584/6584 [==============================] - ETA: 23s - loss: 9.7598e-05 - acc: 1.00 - ETA: 22s - loss: 1.0272e-04 - acc: 1.00 - ETA: 22s - loss: 1.1441e-04 - acc: 1.00 - ETA: 22s - loss: 1.1129e-04 - acc: 1.00 - ETA: 21s - loss: 1.0932e-04 - acc: 1.00 - ETA: 20s - loss: 1.0661e-04 - acc: 1.00 - ETA: 20s - loss: 1.0423e-04 - acc: 1.00 - ETA: 20s - loss: 1.0155e-04 - acc: 1.00 - ETA: 19s - loss: 9.8289e-05 - acc: 1.00 - ETA: 19s - loss: 9.9310e-05 - acc: 1.00 - ETA: 18s - loss: 1.0212e-04 - acc: 1.00 - ETA: 18s - loss: 1.0001e-04 - acc: 1.00 - ETA: 17s - loss: 1.0004e-04 - acc: 1.00 - ETA: 17s - loss: 1.0227e-04 - acc: 1.00 - ETA: 16s - loss: 1.0149e-04 - acc: 1.00 - ETA: 16s - loss: 1.0129e-04 - acc: 1.00 - ETA: 16s - loss: 1.0045e-04 - acc: 1.00 - ETA: 15s - loss: 1.0097e-04 - acc: 1.00 - ETA: 15s - loss: 9.9521e-05 - acc: 1.00 - ETA: 14s - loss: 9.8649e-05 - acc: 1.00 - ETA: 14s - loss: 9.6798e-05 - acc: 1.00 - ETA: 13s - loss: 9.5777e-05 - acc: 1.00 - ETA: 13s - loss: 9.4046e-05 - acc: 1.00 - ETA: 12s - loss: 9.3662e-05 - acc: 1.00 - ETA: 12s - loss: 9.3980e-05 - acc: 1.00 - ETA: 11s - loss: 9.3834e-05 - acc: 1.00 - ETA: 11s - loss: 9.3430e-05 - acc: 1.00 - ETA: 10s - loss: 9.4560e-05 - acc: 1.00 - ETA: 10s - loss: 9.3842e-05 - acc: 1.00 - ETA: 9s - loss: 9.4535e-05 - acc: 1.0000 - ETA: 9s - loss: 9.4284e-05 - acc: 1.000 - ETA: 9s - loss: 9.4002e-05 - acc: 1.000 - ETA: 8s - loss: 9.3591e-05 - acc: 1.000 - ETA: 8s - loss: 9.4017e-05 - acc: 1.000 - ETA: 7s - loss: 9.4019e-05 - acc: 1.000 - ETA: 7s - loss: 9.3391e-05 - acc: 1.000 - ETA: 6s - loss: 9.2758e-05 - acc: 1.000 - ETA: 6s - loss: 9.3343e-05 - acc: 1.000 - ETA: 5s - loss: 9.2505e-05 - acc: 1.000 - ETA: 5s - loss: 9.1873e-05 - acc: 1.000 - ETA: 4s - loss: 9.1436e-05 - acc: 1.000 - ETA: 4s - loss: 9.0930e-05 - acc: 1.000 - ETA: 3s - loss: 9.0684e-05 - acc: 1.000 - ETA: 3s - loss: 9.0310e-05 - acc: 1.000 - ETA: 3s - loss: 9.0137e-05 - acc: 1.000 - ETA: 2s - loss: 9.1496e-05 - acc: 1.000 - ETA: 2s - loss: 9.1270e-05 - acc: 1.000 - ETA: 1s - loss: 9.1828e-05 - acc: 1.000 - ETA: 1s - loss: 9.1997e-05 - acc: 1.000 - ETA: 0s - loss: 9.2609e-05 - acc: 1.000 - ETA: 0s - loss: 9.2205e-05 - acc: 1.000 - 24s 4ms/step - loss: 9.2187e-05 - acc: 1.0000\n",
      "Epoch 15/20\n",
      "6584/6584 [==============================] - ETA: 23s - loss: 1.1689e-04 - acc: 1.00 - ETA: 23s - loss: 1.1865e-04 - acc: 1.00 - ETA: 22s - loss: 1.1680e-04 - acc: 1.00 - ETA: 21s - loss: 1.0575e-04 - acc: 1.00 - ETA: 21s - loss: 1.0674e-04 - acc: 1.00 - ETA: 21s - loss: 1.0361e-04 - acc: 1.00 - ETA: 20s - loss: 9.8773e-05 - acc: 1.00 - ETA: 20s - loss: 9.4072e-05 - acc: 1.00 - ETA: 19s - loss: 9.2742e-05 - acc: 1.00 - ETA: 19s - loss: 8.9880e-05 - acc: 1.00 - ETA: 18s - loss: 8.9980e-05 - acc: 1.00 - ETA: 18s - loss: 9.0297e-05 - acc: 1.00 - ETA: 17s - loss: 9.1029e-05 - acc: 1.00 - ETA: 17s - loss: 9.3872e-05 - acc: 1.00 - ETA: 17s - loss: 9.2108e-05 - acc: 1.00 - ETA: 16s - loss: 9.0578e-05 - acc: 1.00 - ETA: 16s - loss: 8.9532e-05 - acc: 1.00 - ETA: 15s - loss: 8.8418e-05 - acc: 1.00 - ETA: 15s - loss: 8.7854e-05 - acc: 1.00 - ETA: 14s - loss: 8.7952e-05 - acc: 1.00 - ETA: 14s - loss: 8.7606e-05 - acc: 1.00 - ETA: 13s - loss: 8.7220e-05 - acc: 1.00 - ETA: 13s - loss: 9.0783e-05 - acc: 1.00 - ETA: 12s - loss: 9.1242e-05 - acc: 1.00 - ETA: 12s - loss: 9.4529e-05 - acc: 1.00 - ETA: 11s - loss: 9.3142e-05 - acc: 1.00 - ETA: 11s - loss: 9.1811e-05 - acc: 1.00 - ETA: 10s - loss: 9.1777e-05 - acc: 1.00 - ETA: 10s - loss: 9.1476e-05 - acc: 1.00 - ETA: 10s - loss: 9.1490e-05 - acc: 1.00 - ETA: 9s - loss: 9.1151e-05 - acc: 1.0000 - ETA: 9s - loss: 9.0706e-05 - acc: 1.000 - ETA: 8s - loss: 9.0450e-05 - acc: 1.000 - ETA: 8s - loss: 9.0013e-05 - acc: 1.000 - ETA: 7s - loss: 9.0301e-05 - acc: 1.000 - ETA: 7s - loss: 8.9714e-05 - acc: 1.000 - ETA: 6s - loss: 8.9008e-05 - acc: 1.000 - ETA: 6s - loss: 8.9165e-05 - acc: 1.000 - ETA: 5s - loss: 8.8597e-05 - acc: 1.000 - ETA: 5s - loss: 9.0616e-05 - acc: 1.000 - ETA: 4s - loss: 9.0355e-05 - acc: 1.000 - ETA: 4s - loss: 8.9578e-05 - acc: 1.000 - ETA: 3s - loss: 8.9447e-05 - acc: 1.000 - ETA: 3s - loss: 8.9410e-05 - acc: 1.000 - ETA: 3s - loss: 8.9912e-05 - acc: 1.000 - ETA: 2s - loss: 8.9881e-05 - acc: 1.000 - ETA: 2s - loss: 8.9927e-05 - acc: 1.000 - ETA: 1s - loss: 8.9423e-05 - acc: 1.000 - ETA: 1s - loss: 8.9313e-05 - acc: 1.000 - ETA: 0s - loss: 8.8772e-05 - acc: 1.000 - ETA: 0s - loss: 8.9138e-05 - acc: 1.000 - 24s 4ms/step - loss: 8.9203e-05 - acc: 1.0000\n",
      "Epoch 16/20\n",
      "6584/6584 [==============================] - ETA: 22s - loss: 5.4570e-05 - acc: 1.00 - ETA: 21s - loss: 6.5147e-05 - acc: 1.00 - ETA: 22s - loss: 6.9037e-05 - acc: 1.00 - ETA: 21s - loss: 6.7563e-05 - acc: 1.00 - ETA: 21s - loss: 7.4827e-05 - acc: 1.00 - ETA: 20s - loss: 7.5341e-05 - acc: 1.00 - ETA: 20s - loss: 8.0573e-05 - acc: 1.00 - ETA: 20s - loss: 7.8856e-05 - acc: 1.00 - ETA: 19s - loss: 9.4379e-05 - acc: 1.00 - ETA: 19s - loss: 9.1387e-05 - acc: 1.00 - ETA: 18s - loss: 9.2574e-05 - acc: 1.00 - ETA: 18s - loss: 9.1394e-05 - acc: 1.00 - ETA: 17s - loss: 8.9380e-05 - acc: 1.00 - ETA: 17s - loss: 8.7367e-05 - acc: 1.00 - ETA: 16s - loss: 8.5255e-05 - acc: 1.00 - ETA: 16s - loss: 8.4874e-05 - acc: 1.00 - ETA: 16s - loss: 8.4930e-05 - acc: 1.00 - ETA: 15s - loss: 8.4907e-05 - acc: 1.00 - ETA: 15s - loss: 8.5242e-05 - acc: 1.00 - ETA: 14s - loss: 8.4131e-05 - acc: 1.00 - ETA: 14s - loss: 8.3728e-05 - acc: 1.00 - ETA: 13s - loss: 8.3097e-05 - acc: 1.00 - ETA: 13s - loss: 8.2887e-05 - acc: 1.00 - ETA: 12s - loss: 8.3301e-05 - acc: 1.00 - ETA: 12s - loss: 8.4552e-05 - acc: 1.00 - ETA: 11s - loss: 8.6310e-05 - acc: 1.00 - ETA: 11s - loss: 8.5104e-05 - acc: 1.00 - ETA: 10s - loss: 8.6498e-05 - acc: 1.00 - ETA: 10s - loss: 8.5996e-05 - acc: 1.00 - ETA: 9s - loss: 8.6392e-05 - acc: 1.0000 - ETA: 9s - loss: 8.7577e-05 - acc: 1.000 - ETA: 9s - loss: 8.8047e-05 - acc: 1.000 - ETA: 8s - loss: 8.7995e-05 - acc: 1.000 - ETA: 8s - loss: 8.7830e-05 - acc: 1.000 - ETA: 7s - loss: 8.7874e-05 - acc: 1.000 - ETA: 7s - loss: 8.7199e-05 - acc: 1.000 - ETA: 6s - loss: 8.6994e-05 - acc: 1.000 - ETA: 6s - loss: 8.6628e-05 - acc: 1.000 - ETA: 5s - loss: 8.6328e-05 - acc: 1.000 - ETA: 5s - loss: 8.6253e-05 - acc: 1.000 - ETA: 4s - loss: 8.5392e-05 - acc: 1.000 - ETA: 4s - loss: 8.5180e-05 - acc: 1.000 - ETA: 3s - loss: 8.4761e-05 - acc: 1.000 - ETA: 3s - loss: 8.5391e-05 - acc: 1.000 - ETA: 2s - loss: 8.4906e-05 - acc: 1.000 - ETA: 2s - loss: 8.4522e-05 - acc: 1.000 - ETA: 2s - loss: 8.4109e-05 - acc: 1.000 - ETA: 1s - loss: 8.4176e-05 - acc: 1.000 - ETA: 1s - loss: 8.4064e-05 - acc: 1.000 - ETA: 0s - loss: 8.4235e-05 - acc: 1.000 - ETA: 0s - loss: 8.4585e-05 - acc: 1.000 - 24s 4ms/step - loss: 8.4253e-05 - acc: 1.0000\n",
      "Epoch 17/20\n",
      "6584/6584 [==============================] - ETA: 22s - loss: 5.7407e-05 - acc: 1.00 - ETA: 22s - loss: 6.5730e-05 - acc: 1.00 - ETA: 22s - loss: 7.7002e-05 - acc: 1.00 - ETA: 21s - loss: 7.1911e-05 - acc: 1.00 - ETA: 21s - loss: 7.5927e-05 - acc: 1.00 - ETA: 21s - loss: 7.7610e-05 - acc: 1.00 - ETA: 20s - loss: 7.8737e-05 - acc: 1.00 - ETA: 20s - loss: 7.9572e-05 - acc: 1.00 - ETA: 19s - loss: 7.6352e-05 - acc: 1.00 - ETA: 19s - loss: 7.4852e-05 - acc: 1.00 - ETA: 19s - loss: 7.4724e-05 - acc: 1.00 - ETA: 18s - loss: 7.5812e-05 - acc: 1.00 - ETA: 18s - loss: 7.7982e-05 - acc: 1.00 - ETA: 17s - loss: 7.7024e-05 - acc: 1.00 - ETA: 17s - loss: 7.6105e-05 - acc: 1.00 - ETA: 16s - loss: 7.6814e-05 - acc: 1.00 - ETA: 16s - loss: 7.5961e-05 - acc: 1.00 - ETA: 15s - loss: 7.4883e-05 - acc: 1.00 - ETA: 15s - loss: 7.4601e-05 - acc: 1.00 - ETA: 14s - loss: 7.4916e-05 - acc: 1.00 - ETA: 14s - loss: 7.4813e-05 - acc: 1.00 - ETA: 13s - loss: 7.4292e-05 - acc: 1.00 - ETA: 13s - loss: 7.4647e-05 - acc: 1.00 - ETA: 12s - loss: 7.5095e-05 - acc: 1.00 - ETA: 12s - loss: 7.4494e-05 - acc: 1.00 - ETA: 11s - loss: 7.3681e-05 - acc: 1.00 - ETA: 11s - loss: 7.2742e-05 - acc: 1.00 - ETA: 11s - loss: 7.3623e-05 - acc: 1.00 - ETA: 10s - loss: 7.5286e-05 - acc: 1.00 - ETA: 10s - loss: 7.5495e-05 - acc: 1.00 - ETA: 9s - loss: 7.5142e-05 - acc: 1.0000 - ETA: 9s - loss: 7.5033e-05 - acc: 1.000 - ETA: 8s - loss: 7.5251e-05 - acc: 1.000 - ETA: 8s - loss: 7.5035e-05 - acc: 1.000 - ETA: 7s - loss: 7.4855e-05 - acc: 1.000 - ETA: 7s - loss: 7.4733e-05 - acc: 1.000 - ETA: 6s - loss: 7.4526e-05 - acc: 1.000 - ETA: 6s - loss: 7.4072e-05 - acc: 1.000 - ETA: 5s - loss: 7.4298e-05 - acc: 1.000 - ETA: 5s - loss: 7.4107e-05 - acc: 1.000 - ETA: 4s - loss: 7.3936e-05 - acc: 1.000 - ETA: 4s - loss: 7.3898e-05 - acc: 1.000 - ETA: 3s - loss: 7.3761e-05 - acc: 1.000 - ETA: 3s - loss: 7.3356e-05 - acc: 1.000 - ETA: 3s - loss: 7.3105e-05 - acc: 1.000 - ETA: 2s - loss: 7.4772e-05 - acc: 1.000 - ETA: 2s - loss: 7.4737e-05 - acc: 1.000 - ETA: 1s - loss: 7.4968e-05 - acc: 1.000 - ETA: 1s - loss: 7.4654e-05 - acc: 1.000 - ETA: 0s - loss: 7.4508e-05 - acc: 1.000 - ETA: 0s - loss: 7.4329e-05 - acc: 1.000 - 24s 4ms/step - loss: 7.4327e-05 - acc: 1.0000\n",
      "Epoch 18/20\n",
      "6584/6584 [==============================] - ETA: 22s - loss: 8.3475e-05 - acc: 1.00 - ETA: 22s - loss: 8.2289e-05 - acc: 1.00 - ETA: 22s - loss: 7.8348e-05 - acc: 1.00 - ETA: 22s - loss: 8.1548e-05 - acc: 1.00 - ETA: 21s - loss: 8.1306e-05 - acc: 1.00 - ETA: 21s - loss: 7.8801e-05 - acc: 1.00 - ETA: 20s - loss: 7.9459e-05 - acc: 1.00 - ETA: 20s - loss: 7.9505e-05 - acc: 1.00 - ETA: 19s - loss: 7.6743e-05 - acc: 1.00 - ETA: 19s - loss: 7.5068e-05 - acc: 1.00 - ETA: 18s - loss: 7.5474e-05 - acc: 1.00 - ETA: 18s - loss: 7.5135e-05 - acc: 1.00 - ETA: 18s - loss: 7.6010e-05 - acc: 1.00 - ETA: 17s - loss: 7.5165e-05 - acc: 1.00 - ETA: 17s - loss: 7.5591e-05 - acc: 1.00 - ETA: 16s - loss: 7.4951e-05 - acc: 1.00 - ETA: 16s - loss: 7.4803e-05 - acc: 1.00 - ETA: 15s - loss: 7.4551e-05 - acc: 1.00 - ETA: 15s - loss: 7.4525e-05 - acc: 1.00 - ETA: 14s - loss: 7.4281e-05 - acc: 1.00 - ETA: 14s - loss: 7.6283e-05 - acc: 1.00 - ETA: 13s - loss: 7.5682e-05 - acc: 1.00 - ETA: 13s - loss: 7.5611e-05 - acc: 1.00 - ETA: 12s - loss: 7.5932e-05 - acc: 1.00 - ETA: 12s - loss: 7.5408e-05 - acc: 1.00 - ETA: 11s - loss: 7.4615e-05 - acc: 1.00 - ETA: 11s - loss: 7.5683e-05 - acc: 1.00 - ETA: 11s - loss: 7.6576e-05 - acc: 1.00 - ETA: 10s - loss: 7.6383e-05 - acc: 1.00 - ETA: 10s - loss: 7.6205e-05 - acc: 1.00 - ETA: 9s - loss: 7.6103e-05 - acc: 1.0000 - ETA: 9s - loss: 7.7334e-05 - acc: 1.000 - ETA: 8s - loss: 7.7268e-05 - acc: 1.000 - ETA: 8s - loss: 7.7602e-05 - acc: 1.000 - ETA: 8s - loss: 7.8054e-05 - acc: 1.000 - ETA: 7s - loss: 7.7521e-05 - acc: 1.000 - ETA: 7s - loss: 7.7283e-05 - acc: 1.000 - ETA: 6s - loss: 7.7290e-05 - acc: 1.000 - ETA: 6s - loss: 7.7175e-05 - acc: 1.000 - ETA: 5s - loss: 7.6693e-05 - acc: 1.000 - ETA: 5s - loss: 7.5785e-05 - acc: 1.000 - ETA: 4s - loss: 7.5706e-05 - acc: 1.000 - ETA: 4s - loss: 7.6314e-05 - acc: 1.000 - ETA: 3s - loss: 7.5967e-05 - acc: 1.000 - ETA: 3s - loss: 7.6108e-05 - acc: 1.000 - ETA: 2s - loss: 7.6576e-05 - acc: 1.000 - ETA: 2s - loss: 7.7104e-05 - acc: 1.000 - ETA: 1s - loss: 7.6775e-05 - acc: 1.000 - ETA: 1s - loss: 7.6395e-05 - acc: 1.000 - ETA: 0s - loss: 7.6542e-05 - acc: 1.000 - ETA: 0s - loss: 7.6259e-05 - acc: 1.000 - 26s 4ms/step - loss: 7.6284e-05 - acc: 1.0000\n",
      "Epoch 19/20\n"
     ]
    },
    {
     "name": "stdout",
     "output_type": "stream",
     "text": [
      "6584/6584 [==============================] - ETA: 27s - loss: 1.0026e-04 - acc: 1.00 - ETA: 26s - loss: 8.8436e-05 - acc: 1.00 - ETA: 25s - loss: 9.2035e-05 - acc: 1.00 - ETA: 25s - loss: 9.1422e-05 - acc: 1.00 - ETA: 24s - loss: 9.5490e-05 - acc: 1.00 - ETA: 24s - loss: 9.3505e-05 - acc: 1.00 - ETA: 23s - loss: 8.9882e-05 - acc: 1.00 - ETA: 23s - loss: 8.4272e-05 - acc: 1.00 - ETA: 22s - loss: 8.1789e-05 - acc: 1.00 - ETA: 22s - loss: 8.1345e-05 - acc: 1.00 - ETA: 21s - loss: 8.1295e-05 - acc: 1.00 - ETA: 20s - loss: 8.0927e-05 - acc: 1.00 - ETA: 20s - loss: 8.9913e-05 - acc: 1.00 - ETA: 19s - loss: 8.7102e-05 - acc: 1.00 - ETA: 19s - loss: 8.5641e-05 - acc: 1.00 - ETA: 19s - loss: 8.5196e-05 - acc: 1.00 - ETA: 18s - loss: 8.2819e-05 - acc: 1.00 - ETA: 18s - loss: 8.3299e-05 - acc: 1.00 - ETA: 17s - loss: 8.1890e-05 - acc: 1.00 - ETA: 16s - loss: 8.2729e-05 - acc: 1.00 - ETA: 16s - loss: 8.2863e-05 - acc: 1.00 - ETA: 15s - loss: 8.3282e-05 - acc: 1.00 - ETA: 15s - loss: 8.3722e-05 - acc: 1.00 - ETA: 14s - loss: 8.2467e-05 - acc: 1.00 - ETA: 13s - loss: 8.1542e-05 - acc: 1.00 - ETA: 13s - loss: 8.1142e-05 - acc: 1.00 - ETA: 12s - loss: 8.0929e-05 - acc: 1.00 - ETA: 12s - loss: 8.0027e-05 - acc: 1.00 - ETA: 11s - loss: 8.0384e-05 - acc: 1.00 - ETA: 11s - loss: 8.0028e-05 - acc: 1.00 - ETA: 10s - loss: 8.0130e-05 - acc: 1.00 - ETA: 10s - loss: 8.0379e-05 - acc: 1.00 - ETA: 9s - loss: 7.9478e-05 - acc: 1.0000 - ETA: 8s - loss: 7.8832e-05 - acc: 1.000 - ETA: 8s - loss: 7.8343e-05 - acc: 1.000 - ETA: 7s - loss: 7.7947e-05 - acc: 1.000 - ETA: 7s - loss: 7.6934e-05 - acc: 1.000 - ETA: 6s - loss: 7.6970e-05 - acc: 1.000 - ETA: 6s - loss: 7.7415e-05 - acc: 1.000 - ETA: 5s - loss: 7.6882e-05 - acc: 1.000 - ETA: 5s - loss: 7.6539e-05 - acc: 1.000 - ETA: 4s - loss: 7.6334e-05 - acc: 1.000 - ETA: 4s - loss: 7.6219e-05 - acc: 1.000 - ETA: 3s - loss: 7.6600e-05 - acc: 1.000 - ETA: 3s - loss: 7.6642e-05 - acc: 1.000 - ETA: 2s - loss: 7.8444e-05 - acc: 1.000 - ETA: 2s - loss: 7.8323e-05 - acc: 1.000 - ETA: 1s - loss: 7.8023e-05 - acc: 1.000 - ETA: 1s - loss: 7.7433e-05 - acc: 1.000 - ETA: 0s - loss: 7.7226e-05 - acc: 1.000 - ETA: 0s - loss: 7.7688e-05 - acc: 1.000 - 26s 4ms/step - loss: 7.7441e-05 - acc: 1.0000\n",
      "Epoch 20/20\n",
      "6584/6584 [==============================] - ETA: 26s - loss: 8.5372e-05 - acc: 1.00 - ETA: 25s - loss: 8.4737e-05 - acc: 1.00 - ETA: 24s - loss: 7.4721e-05 - acc: 1.00 - ETA: 24s - loss: 7.5631e-05 - acc: 1.00 - ETA: 23s - loss: 7.1329e-05 - acc: 1.00 - ETA: 23s - loss: 7.3956e-05 - acc: 1.00 - ETA: 22s - loss: 7.1089e-05 - acc: 1.00 - ETA: 22s - loss: 7.2988e-05 - acc: 1.00 - ETA: 21s - loss: 7.6470e-05 - acc: 1.00 - ETA: 20s - loss: 7.6177e-05 - acc: 1.00 - ETA: 20s - loss: 7.6564e-05 - acc: 1.00 - ETA: 19s - loss: 7.8455e-05 - acc: 1.00 - ETA: 19s - loss: 7.7616e-05 - acc: 1.00 - ETA: 18s - loss: 7.5955e-05 - acc: 1.00 - ETA: 18s - loss: 7.5657e-05 - acc: 1.00 - ETA: 17s - loss: 7.4170e-05 - acc: 1.00 - ETA: 17s - loss: 7.3167e-05 - acc: 1.00 - ETA: 16s - loss: 7.1900e-05 - acc: 1.00 - ETA: 16s - loss: 7.2009e-05 - acc: 1.00 - ETA: 15s - loss: 7.1114e-05 - acc: 1.00 - ETA: 15s - loss: 7.0999e-05 - acc: 1.00 - ETA: 14s - loss: 7.1419e-05 - acc: 1.00 - ETA: 14s - loss: 7.0545e-05 - acc: 1.00 - ETA: 13s - loss: 7.0590e-05 - acc: 1.00 - ETA: 13s - loss: 7.0649e-05 - acc: 1.00 - ETA: 12s - loss: 7.0074e-05 - acc: 1.00 - ETA: 11s - loss: 6.9759e-05 - acc: 1.00 - ETA: 11s - loss: 6.9380e-05 - acc: 1.00 - ETA: 10s - loss: 6.8650e-05 - acc: 1.00 - ETA: 10s - loss: 6.9373e-05 - acc: 1.00 - ETA: 9s - loss: 6.9041e-05 - acc: 1.0000 - ETA: 9s - loss: 6.9895e-05 - acc: 1.000 - ETA: 8s - loss: 6.9170e-05 - acc: 1.000 - ETA: 8s - loss: 6.8482e-05 - acc: 1.000 - ETA: 7s - loss: 6.8276e-05 - acc: 1.000 - ETA: 7s - loss: 6.8102e-05 - acc: 1.000 - ETA: 6s - loss: 6.8029e-05 - acc: 1.000 - ETA: 6s - loss: 6.7367e-05 - acc: 1.000 - ETA: 5s - loss: 6.7205e-05 - acc: 1.000 - ETA: 5s - loss: 6.7822e-05 - acc: 1.000 - ETA: 5s - loss: 6.8017e-05 - acc: 1.000 - ETA: 4s - loss: 6.8385e-05 - acc: 1.000 - ETA: 4s - loss: 6.8005e-05 - acc: 1.000 - ETA: 3s - loss: 6.7997e-05 - acc: 1.000 - ETA: 3s - loss: 6.8538e-05 - acc: 1.000 - ETA: 2s - loss: 6.8544e-05 - acc: 1.000 - ETA: 2s - loss: 6.8759e-05 - acc: 1.000 - ETA: 1s - loss: 6.8665e-05 - acc: 1.000 - ETA: 1s - loss: 6.8256e-05 - acc: 1.000 - ETA: 0s - loss: 6.8001e-05 - acc: 1.000 - ETA: 0s - loss: 6.8095e-05 - acc: 1.000 - 25s 4ms/step - loss: 6.8251e-05 - acc: 1.0000\n",
      "Accuracy: 100.00%\n"
     ]
    }
   ],
   "source": [
    "model_2.fit(x_train, y_train, nb_epoch=20, batch_size=128)\n",
    "\n",
    "scores = model_2.evaluate(x_test, y_test, verbose=0)\n",
    "print(\"Accuracy: %.2f%%\" % (scores[1]*100))"
   ]
  },
  {
   "cell_type": "markdown",
   "metadata": {},
   "source": [
    "<h2> PLOT </h2>"
   ]
  },
  {
   "cell_type": "code",
   "execution_count": 39,
   "metadata": {},
   "outputs": [],
   "source": [
    "import matplotlib.pyplot as plt\n",
    "import numpy as np\n",
    "import time\n",
    "def plt_dynamic(x, vy, ty, ax, colors=['b']):\n",
    "    ax.plot(x, vy, 'b', label=\"Validation Loss\")\n",
    "    ax.plot(x, ty, 'r', label=\"Train Loss\")\n",
    "    \n",
    "    plt.legend()\n",
    "    plt.grid()\n",
    "    fig.canvas.draw()"
   ]
  },
  {
   "cell_type": "code",
   "execution_count": 40,
   "metadata": {},
   "outputs": [
    {
     "data": {
      "image/png": "[encoded data removed]",
      "text/plain": [
       "<Figure size 432x288 with 1 Axes>"
      ]
     },
     "metadata": {},
     "output_type": "display_data"
    }
   ],
   "source": [
    "nb_epoch =20\n",
    "fig,ax = plt.subplots(1,1)\n",
    "ax.set_xlabel('epoch') ; ax.set_ylabel('Categorical Crossentropy Loss')\n",
    "\n",
    "\n",
    "x = list(range(1,nb_epoch+1))\n",
    "\n",
    "vy = history.history['val_loss']\n",
    "ty = history.history['loss']\n",
    "plt_dynamic(x, vy, ty, ax)"
   ]
  },
  {
   "cell_type": "markdown",
   "metadata": {},
   "source": [
    "# Conclusion Table"
   ]
  },
  {
   "cell_type": "code",
   "execution_count": 41,
   "metadata": {},
   "outputs": [
    {
     "name": "stdout",
     "output_type": "stream",
     "text": [
      "+--------+--------+--------+-----------+-------------+\n",
      "|  Set   | Models | Layers | Accurancy |   Val_Loss  |\n",
      "+--------+--------+--------+-----------+-------------+\n",
      "| Set:-1 | LSTM   |   1    |    100    | 0.000411634 |\n",
      "| Set:-2 |  LSTM  |   2    |    100    | 0.000673005 |\n",
      "+--------+--------+--------+-----------+-------------+\n"
     ]
    }
   ],
   "source": [
    "from prettytable import PrettyTable\n",
    "    \n",
    "x = PrettyTable()\n",
    "\n",
    "x.field_names = [\"Set\", \"Models\",\"Layers\", \"Accurancy\", \"Val_Loss\"]\n",
    "\n",
    "x.add_row([\"Set:-1\", \"LSTM \", 1, 100, 41.1634e-05])\n",
    "x.add_row([\"Set:-2\", \"LSTM\", 2, 100, 67.3005e-05])\n",
    "\n",
    "print(x)"
   ]
  },
  {
   "cell_type": "markdown",
   "metadata": {},
   "source": [
    "# Conclusion:-"
   ]
  },
  {
   "cell_type": "markdown",
   "metadata": {},
   "source": [
    "1. Fist loaded an Amazon fine food reviews dataset and then do data cleaning and remove all hltm tages (Unwanted tags andrepeated words)\n",
    "2. Then got all vocabulary and frequancy of each words and indexing the words in amazon reviews datset which is given as atext format and from there got cleaned text datasets and from there converted all amzon datapoints like imdb dataset format.\n",
    "3. Then after converting now applied LSTM model with 1Layers and plot errorplot in it and after that applied LSTM with 2Layers and ploted a plot for it."
   ]
  },
  {
   "cell_type": "markdown",
   "metadata": {},
   "source": [
    "<h2>========================================================================</h2>"
   ]
  }
 ],
 "metadata": {
  "colab": {
   "collapsed_sections": [],
   "name": "LSTM_Amazon.ipynb",
   "provenance": [],
   "version": "0.3.2"
  },
  "kernelspec": {
   "display_name": "Python 3 (ipykernel)",
   "language": "python",
   "name": "python3"
  },
  "language_info": {
   "codemirror_mode": {
    "name": "ipython",
    "version": 3
   },
   "file_extension": ".py",
   "mimetype": "text/x-python",
   "name": "python",
   "nbconvert_exporter": "python",
   "pygments_lexer": "ipython3",
   "version": "3.9.12"
  }
 },
 "nbformat": 4,
 "nbformat_minor": 1
}
